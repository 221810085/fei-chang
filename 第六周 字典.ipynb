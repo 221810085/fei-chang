{
 "cells": [
  {
   "cell_type": "markdown",
   "id": "830b308e",
   "metadata": {},
   "source": [
    "# 一个简单的字典 "
   ]
  },
  {
   "cell_type": "markdown",
   "id": "1e5effa3",
   "metadata": {},
   "source": [
    "访问键值对"
   ]
  },
  {
   "cell_type": "code",
   "execution_count": 3,
   "id": "7a08d7bf",
   "metadata": {},
   "outputs": [
    {
     "name": "stdout",
     "output_type": "stream",
     "text": [
      "green\n"
     ]
    }
   ],
   "source": [
    "alien_0={\"color\":\"green\",\"points\":5}\n",
    "print(alien_0[\"color\"])"
   ]
  },
  {
   "cell_type": "code",
   "execution_count": null,
   "id": "3427c4f4",
   "metadata": {},
   "outputs": [],
   "source": [
    "在python中的字典，更像是菜单，一对一，而非现实字典中的一对多\n",
    "字典就是一系列的键值对，每一个键都有对应的值\n",
    "因而键必须是唯一的"
   ]
  },
  {
   "cell_type": "markdown",
   "id": "f444b2bc",
   "metadata": {},
   "source": [
    ".get（） 的方法，可以读取一个不在字典中的值，尽管没有获取，程序也不会报错，会返回一个None"
   ]
  },
  {
   "cell_type": "code",
   "execution_count": 9,
   "id": "6340212a",
   "metadata": {},
   "outputs": [
    {
     "name": "stdout",
     "output_type": "stream",
     "text": [
      "empty\n"
     ]
    }
   ],
   "source": [
    "alien_0={\"color\":\"green\",\"points\":5}\n",
    "point_value=alien_0.get(\"speed\",\"empty\")\n",
    "print(point_value)"
   ]
  },
  {
   "cell_type": "code",
   "execution_count": 10,
   "id": "6995d29b",
   "metadata": {},
   "outputs": [
    {
     "name": "stdout",
     "output_type": "stream",
     "text": [
      "None\n"
     ]
    }
   ],
   "source": [
    "alien_0={\"color\":\"green\",\"points\":5}\n",
    "point_value=alien_0.get(\"speed\")\n",
    "print(point_value)"
   ]
  },
  {
   "cell_type": "markdown",
   "id": "a38692df",
   "metadata": {},
   "source": [
    " 添加键值对"
   ]
  },
  {
   "cell_type": "code",
   "execution_count": 4,
   "id": "23bd41e3",
   "metadata": {},
   "outputs": [
    {
     "name": "stdout",
     "output_type": "stream",
     "text": [
      "{'color': 'red', 'points': 7}\n"
     ]
    }
   ],
   "source": [
    "alien_1={\"color\":\"red\"}\n",
    "alien_1[\"points\"]=7\n",
    "print(alien_1)"
   ]
  },
  {
   "cell_type": "code",
   "execution_count": 5,
   "id": "a85cdd67",
   "metadata": {},
   "outputs": [
    {
     "name": "stdout",
     "output_type": "stream",
     "text": [
      "{'color': 'yellow', 'points': 7}\n"
     ]
    }
   ],
   "source": [
    "alien_1={}#在空字典中添加键值对\n",
    "alien_1[\"color\"]=\"yellow\"\n",
    "alien_1[\"points\"]=7\n",
    "print(alien_1)"
   ]
  },
  {
   "cell_type": "markdown",
   "id": "565cd05d",
   "metadata": {},
   "source": [
    "删除键值对"
   ]
  },
  {
   "cell_type": "code",
   "execution_count": 6,
   "id": "37eafcb8",
   "metadata": {},
   "outputs": [
    {
     "name": "stdout",
     "output_type": "stream",
     "text": [
      "{'points': 5}\n"
     ]
    }
   ],
   "source": [
    "alien_0={\"color\":\"green\",\"points\":5}\n",
    "del alien_0[\"color\"]\n",
    "print(alien_0)"
   ]
  },
  {
   "cell_type": "markdown",
   "id": "e42483da",
   "metadata": {},
   "source": [
    "修改键值对"
   ]
  },
  {
   "cell_type": "code",
   "execution_count": 7,
   "id": "f4f02ede",
   "metadata": {},
   "outputs": [
    {
     "name": "stdout",
     "output_type": "stream",
     "text": [
      "{'color': 'green', 'points': 7}\n"
     ]
    }
   ],
   "source": [
    "alien_0={\"color\":\"green\",\"points\":5}\n",
    "alien_0[\"points\"]=7 #直接改值\n",
    "print(alien_0)"
   ]
  },
  {
   "cell_type": "code",
   "execution_count": 45,
   "id": "db0b8b93",
   "metadata": {},
   "outputs": [
    {
     "name": "stdout",
     "output_type": "stream",
     "text": [
      "Alien color is green.\n",
      "Alien color is now red.\n"
     ]
    }
   ],
   "source": [
    "alien_0={\"color\":'green'}\n",
    "print(f\"Alien color is {alien_0['color']}.\")\n",
    "\n",
    "alien_0['color']=\"red\"\n",
    "print(f\"Alien color is now {alien_0['color']}.\")"
   ]
  },
  {
   "cell_type": "markdown",
   "id": "4ce49e17",
   "metadata": {},
   "source": [
    "遍历字典\n",
    ".items()：遍历键值对\n",
    ".keys()：遍历键\n",
    ".values()：遍历值"
   ]
  },
  {
   "cell_type": "code",
   "execution_count": 11,
   "id": "99df5a25",
   "metadata": {},
   "outputs": [
    {
     "name": "stdout",
     "output_type": "stream",
     "text": [
      "('color', 'green')\n",
      "('points', 5)\n"
     ]
    }
   ],
   "source": [
    "#方法一\n",
    "alien_0={\"color\":\"green\",\"points\":5}\n",
    "for element in alien_0.items():\n",
    "    print(element)"
   ]
  },
  {
   "cell_type": "code",
   "execution_count": 12,
   "id": "aa9feea1",
   "metadata": {},
   "outputs": [
    {
     "name": "stdout",
     "output_type": "stream",
     "text": [
      "color green\n",
      "points 5\n"
     ]
    }
   ],
   "source": [
    "#方法二\n",
    "alien_0={\"color\":\"green\",\"points\":5}\n",
    "for key,value in alien_0.items():\n",
    "    print(key,value)\n",
    "    "
   ]
  },
  {
   "cell_type": "code",
   "execution_count": 14,
   "id": "609f4d30",
   "metadata": {},
   "outputs": [
    {
     "name": "stdout",
     "output_type": "stream",
     "text": [
      "color equals green\n",
      "points equals 5\n"
     ]
    }
   ],
   "source": [
    "alien_0={\"color\":\"green\",\"points\":5}\n",
    "for key,value in alien_0.items():\n",
    "    print(f\"{key} equals {value}\")\n",
    "    "
   ]
  },
  {
   "cell_type": "markdown",
   "id": "98edf53e",
   "metadata": {},
   "source": [
    "set（）方法剔除重复项，确保所返回的内容无重复（集合总是无重复元素）"
   ]
  },
  {
   "cell_type": "code",
   "execution_count": 18,
   "id": "42eda17a",
   "metadata": {},
   "outputs": [
    {
     "name": "stdout",
     "output_type": "stream",
     "text": [
      "1\n",
      "2\n",
      "3\n",
      "4\n",
      "5\n"
     ]
    }
   ],
   "source": [
    "nums={\n",
    "    'joe':1,\n",
    "    'lily':2,\n",
    "    'mary':3,\n",
    "    'jim':4,\n",
    "    'mike':5,\n",
    "    'billy':4\n",
    "}\n",
    "for value in set(nums.values()):\n",
    "    print(value)"
   ]
  },
  {
   "cell_type": "markdown",
   "id": "9cce6de9",
   "metadata": {},
   "source": [
    "嵌套：在字典中存储列表"
   ]
  },
  {
   "cell_type": "code",
   "execution_count": 25,
   "id": "a3d39a67",
   "metadata": {},
   "outputs": [
    {
     "name": "stdout",
     "output_type": "stream",
     "text": [
      "You ordered a thick- crust pizza with the following toppings:\n",
      "mushrooms\n",
      "cheese\n"
     ]
    }
   ],
   "source": [
    "pizza={\"crust\":'thick',\"toppings\":['mushrooms','cheese']}\n",
    "print(f\"You ordered a {pizza['crust']}- crust pizza with the following toppings:\") #注意crust 一定要用单引号，不然多个双引号有歧义\n",
    "\n",
    "for topping in pizza[\"toppings\"]:\n",
    "    print(f\"{topping}\")"
   ]
  },
  {
   "cell_type": "markdown",
   "id": "49f274c2",
   "metadata": {},
   "source": [
    "在列表中存储字典"
   ]
  },
  {
   "cell_type": "code",
   "execution_count": 32,
   "id": "ab043a91",
   "metadata": {},
   "outputs": [
    {
     "name": "stdout",
     "output_type": "stream",
     "text": [
      "[{'color': 'yellow', 'points': 9}, {'color': 'red', 'points': 4}]\n"
     ]
    }
   ],
   "source": [
    "alien_0={\"color\":\"red\",\"points\":4}\n",
    "alien_1={\"color\":\"yellow\",\"points\":9}\n",
    "\n",
    "aliens=[alien_1,alien_0]\n",
    "print (aliens)"
   ]
  },
  {
   "cell_type": "code",
   "execution_count": 36,
   "id": "4cbb34d0",
   "metadata": {},
   "outputs": [
    {
     "name": "stdout",
     "output_type": "stream",
     "text": [
      "{'color': 'red', 'speed': 'slow', 'points': 5}\n",
      "{'color': 'red', 'speed': 'slow', 'points': 5}\n",
      "{'color': 'red', 'speed': 'slow', 'points': 5}\n",
      "{'color': 'red', 'speed': 'slow', 'points': 5}\n",
      "{'color': 'red', 'speed': 'slow', 'points': 5}\n",
      "...\n",
      "The total number of aliens is 30.\n"
     ]
    }
   ],
   "source": [
    "aliens=[]\n",
    "for alien_number in range(30):\n",
    "    new_alien={\"color\":\"red\",\"speed\":\"slow\",\"points\":5}\n",
    "    aliens.append(new_alien)\n",
    "for alien in aliens[:5]:\n",
    "    print(alien)\n",
    "print(\"...\")\n",
    "\n",
    "print(f\"The total number of aliens is {len(aliens)}.\")"
   ]
  },
  {
   "cell_type": "markdown",
   "id": "cffa91a1",
   "metadata": {},
   "source": [
    "在字典中存储字典"
   ]
  },
  {
   "cell_type": "code",
   "execution_count": 44,
   "id": "b88dac83",
   "metadata": {},
   "outputs": [
    {
     "name": "stdout",
     "output_type": "stream",
     "text": [
      "\n",
      "Username:aeinstein\n",
      "\tFull name:Aeinstein\n",
      "\tLocation:German\n",
      "\n",
      "Username:mcurie\n",
      "\tFull name:Mcurie\n",
      "\tLocation:French\n"
     ]
    }
   ],
   "source": [
    "users={'aeinstein':{\n",
    "       'first':'albert',\n",
    "      'last':'einstein',\n",
    "      'location':'german'},\n",
    "       \n",
    "      'mcurie':{\n",
    "      'first':'marie',\n",
    "      'last':'curie',\n",
    "      'location':'french'}}\n",
    "\n",
    "for username,user_info in users.items():\n",
    "    print (f\"\\nUsername:{username}\")\n",
    "    full_name=f\"{user_info['first'],user_info['last']}\"\n",
    "    location=user_info[\"location\"]\n",
    "    print(f\"\\tFull name:{username.title()}\")\n",
    "    print(f\"\\tLocation:{location.title()}\")"
   ]
  },
  {
   "cell_type": "markdown",
   "id": "b930d1d5",
   "metadata": {},
   "source": [
    "# 书上作业"
   ]
  },
  {
   "cell_type": "code",
   "execution_count": 2,
   "id": "882cee61",
   "metadata": {},
   "outputs": [
    {
     "name": "stdout",
     "output_type": "stream",
     "text": [
      "{'first': 'Anne', 'last': 'Hathaway', 'age': 40, 'city': 'New York'}\n"
     ]
    }
   ],
   "source": [
    "Ahathaway={\n",
    "    'first':'Anne',\n",
    "    'last':'Hathaway',\n",
    "    'age':40,\n",
    "    'city':'New York',\n",
    "}\n",
    "print(Ahathaway)\n"
   ]
  },
  {
   "cell_type": "code",
   "execution_count": 16,
   "id": "ea0e23e8",
   "metadata": {},
   "outputs": [
    {
     "name": "stdout",
     "output_type": "stream",
     "text": [
      "joe,1\n",
      "\n",
      "lily,2\n",
      "\n",
      "mary,3\n",
      "\n",
      "jim,4\n",
      "\n",
      "mike,5\n",
      "\n",
      "Joe's favourite number is 1.\n",
      "Lily's favourite number is 2.\n",
      "Mary's favourite number is 3.\n",
      "Jim's favourite number is 4.\n",
      "Mike's favourite number is 5.\n"
     ]
    }
   ],
   "source": [
    "nums={\n",
    "    'joe':1,\n",
    "    'lily':2,\n",
    "    'mary':3,\n",
    "    'jim':4,\n",
    "    'mike':5\n",
    "}\n",
    "for key,value in nums.items():\n",
    "    print(f\"{key},{value}\\n\")\n",
    "    \n",
    "for name,number in nums.items():#也可以不用key,value;这样更能理解循环的作用\n",
    "    print(f\"{name.title()}'s favourite number is {number}.\")"
   ]
  },
  {
   "cell_type": "code",
   "execution_count": 12,
   "id": "1625f2e5",
   "metadata": {},
   "outputs": [
    {
     "name": "stdout",
     "output_type": "stream",
     "text": [
      "\n",
      "title\n",
      "\tcapital\n",
      "\n",
      "for\n",
      "\tcycle\n",
      "\n",
      "list\n",
      "\tstore info\n",
      "\n",
      "sort\n",
      "\torder\n",
      "\n",
      "f\n",
      "\tcombine\n"
     ]
    }
   ],
   "source": [
    "python={\n",
    "    'title':\"capital\",\n",
    "    'for':'cycle',\n",
    "    'list':'store info',\n",
    "    'sort':'order',\n",
    "    'f':'combine'\n",
    "}\n",
    "for key,value in python.items():\n",
    "    print(f\"{key}\\n\\t{value}\")"
   ]
  },
  {
   "cell_type": "code",
   "execution_count": 5,
   "id": "29651276",
   "metadata": {},
   "outputs": [
    {
     "name": "stdout",
     "output_type": "stream",
     "text": [
      "title\n",
      "\tcapital\n",
      "for\n",
      "\tcycle\n",
      "list\n",
      "\tstore info\n",
      "sort\n",
      "\torder\n",
      "f\n",
      "\tcombine\n",
      "insert\n",
      "\tadd sth\n",
      "delete\n",
      "\tremove sth\n",
      "key\n",
      "\tname\n",
      "sring\n",
      "\tcharacters\n",
      "function\n",
      "\tmethod\n"
     ]
    }
   ],
   "source": [
    "python={\n",
    "    'title':'capital',\n",
    "    'for':'cycle',\n",
    "    'list':'store info',\n",
    "    'sort':'order',\n",
    "    'f':'combine'\n",
    "    \n",
    "}\n",
    "python['insert']='add sth'\n",
    "python['delete']='remove sth'\n",
    "python['key']='name'\n",
    "python['sring']='characters'\n",
    "python['function']='method'\n",
    "for key,value in python.items():\n",
    "    print(f\"{key}\\n\\t{value}\")\n",
    "    \n"
   ]
  },
  {
   "cell_type": "code",
   "execution_count": 24,
   "id": "0d7f2e38",
   "metadata": {},
   "outputs": [
    {
     "name": "stdout",
     "output_type": "stream",
     "text": [
      "The Nileruns through Egypt\n",
      "The Yangtzeruns through China\n",
      "The Volgaruns through Russia\n",
      "nile\n",
      "yangtze\n",
      "volga\n",
      "egypt\n",
      "china\n",
      "russia\n"
     ]
    }
   ],
   "source": [
    "river_country={'nile':'egypt','yangtze':'china','volga':'russia'}\n",
    "for key,value in river_country.items():\n",
    "    print(f\"The {key.title()}runs through {value.title()}\")\n",
    "for key in river_country.keys():  \n",
    "    print(key)\n",
    "for value in river_country.values():  \n",
    "    print(value)"
   ]
  },
  {
   "cell_type": "code",
   "execution_count": 25,
   "id": "ddb4c684",
   "metadata": {},
   "outputs": [
    {
     "name": "stdout",
     "output_type": "stream",
     "text": [
      "Thank you,Jen!\n",
      "Please join our research,Sarah\n",
      "Please join our research,Edward\n",
      "Thank you,Phil!\n"
     ]
    }
   ],
   "source": [
    "favourite_languages={'jen':'python','sarah':'c','edward':'rust','phil':'python'}\n",
    "subjects=['jen','phil','ben','ken']\n",
    "for key in favourite_languages.keys():\n",
    "    if key in subjects:\n",
    "        print(f\"Thank you,{key.title()}!\")\n",
    "    else:\n",
    "        print(f\"Please join our research,{key.title()}\")"
   ]
  },
  {
   "cell_type": "code",
   "execution_count": 27,
   "id": "00efa56b",
   "metadata": {},
   "outputs": [
    {
     "name": "stdout",
     "output_type": "stream",
     "text": [
      "{'first': 'Anne', 'last': 'Hathaway', 'age': 40, 'city': 'New York'}\n",
      "({'first': 'albert', 'last': 'einstein', 'location': 'german'},)\n",
      "{'first': 'marie', 'last': 'curie', 'location': 'french'}\n"
     ]
    }
   ],
   "source": [
    "Ahathaway={\n",
    "    'first':'Anne',\n",
    "    'last':'Hathaway',\n",
    "    'age':40,\n",
    "    'city':'New York',\n",
    "}\n",
    "aeinstein={\n",
    "       'first':'albert',\n",
    "      'last':'einstein',\n",
    "      'location':'german'},\n",
    "       \n",
    "mcurie={\n",
    "      'first':'marie',\n",
    "      'last':'curie',\n",
    "      'location':'french'}\n",
    "people=[Ahathaway,aeinstein,mcurie]\n",
    "for person in people:\n",
    "    print(person)"
   ]
  },
  {
   "cell_type": "code",
   "execution_count": 26,
   "id": "1343757e",
   "metadata": {},
   "outputs": [
    {
     "name": "stdout",
     "output_type": "stream",
     "text": [
      "{'dog': 'fei'}\n",
      "{'cat': 'lei'}\n",
      "{'bird': 'sei'}\n"
     ]
    }
   ],
   "source": [
    "pets_1={'dog':'fei'}\n",
    "pets_2={'cat':'lei'}\n",
    "pets_3={'bird':'sei'}\n",
    "pets=[pets_1,pets_2,pets_3]\n",
    "for pet in pets:\n",
    "    print(pet)"
   ]
  },
  {
   "cell_type": "code",
   "execution_count": 30,
   "id": "6b43ea65",
   "metadata": {},
   "outputs": [
    {
     "name": "stdout",
     "output_type": "stream",
     "text": [
      "ben:\n",
      "['nanjing', 'shanghai']\n",
      "ken:\n",
      "beijing\n",
      "lily:\n",
      "['shenzhen', 'huaian']\n"
     ]
    }
   ],
   "source": [
    "favorite_places={'ben':['nanjing','shanghai'],'ken':'beijing','lily':['shenzhen','huaian']}\n",
    "for key,value in favorite_places.items():\n",
    "    print(f\"{key}:\\n{value}\")"
   ]
  },
  {
   "cell_type": "code",
   "execution_count": 32,
   "id": "5b386707",
   "metadata": {},
   "outputs": [
    {
     "name": "stdout",
     "output_type": "stream",
     "text": [
      "joe:\n",
      "[1, 5, 7]\n",
      "lily:\n",
      "2\n",
      "mary:\n",
      "[3, 8]\n",
      "jim:\n",
      "[4, 0]\n",
      "mike:\n",
      "[5, 9]\n"
     ]
    }
   ],
   "source": [
    "nums={\n",
    "    'joe':[1,5,7],\n",
    "    'lily':2,\n",
    "    'mary':[3,8],\n",
    "    'jim':[4,0],\n",
    "    'mike':[5,9]\n",
    "}\n",
    "for key,value in nums.items():\n",
    "    print(f\"{key}:\\n{value}\")"
   ]
  },
  {
   "cell_type": "code",
   "execution_count": 35,
   "id": "c49fe1de",
   "metadata": {},
   "outputs": [
    {
     "name": "stdout",
     "output_type": "stream",
     "text": [
      "beijing:\n",
      "{'country': 'china', 'population': 10000, 'fact': 'capital'}\n",
      "paris:\n",
      "{'country': 'french', 'population': 20000, 'fact': 'fashion'}\n",
      "new york:\n",
      "{'country': 'usa', 'population': 30000, 'fact': 'developed'}\n"
     ]
    }
   ],
   "source": [
    "cities={'beijing':{'country':'china','population':10000,'fact':'capital'},\n",
    "       'paris':{'country':'french','population':20000,'fact':'fashion'},\n",
    "       'new york':{'country':'usa','population':30000,'fact':'developed'}}\n",
    "for key,value in cities.items():\n",
    "    print(f\"{key}:\\n{value}\")"
   ]
  },
  {
   "cell_type": "code",
   "execution_count": 36,
   "id": "80bfc2df",
   "metadata": {},
   "outputs": [
    {
     "name": "stdout",
     "output_type": "stream",
     "text": [
      "{'title': 'capital', 'for': 'cycle', 'list': 'store info', 'sort': 'order', 'f': 'combine', '\\n': 'enter'}\n"
     ]
    }
   ],
   "source": [
    "python={\n",
    "    'title':\"capital\",\n",
    "    'for':'cycle',\n",
    "    'list':'store info',\n",
    "    'sort':'order',\n",
    "    'f':'combine'\n",
    "}\n",
    "python['\\n']='enter'\n",
    "print(python)"
   ]
  },
  {
   "cell_type": "code",
   "execution_count": null,
   "id": "0e35baeb",
   "metadata": {},
   "outputs": [],
   "source": []
  }
 ],
 "metadata": {
  "kernelspec": {
   "display_name": "Python 3 (ipykernel)",
   "language": "python",
   "name": "python3"
  },
  "language_info": {
   "codemirror_mode": {
    "name": "ipython",
    "version": 3
   },
   "file_extension": ".py",
   "mimetype": "text/x-python",
   "name": "python",
   "nbconvert_exporter": "python",
   "pygments_lexer": "ipython3",
   "version": "3.11.3"
  }
 },
 "nbformat": 4,
 "nbformat_minor": 5
}
