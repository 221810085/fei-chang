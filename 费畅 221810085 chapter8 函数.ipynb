{
 "cells": [
  {
   "cell_type": "markdown",
   "id": "d13701ac",
   "metadata": {},
   "source": [
    "# 函数"
   ]
  },
  {
   "cell_type": "code",
   "execution_count": 9,
   "id": "8fe0cff8",
   "metadata": {},
   "outputs": [
    {
     "name": "stdout",
     "output_type": "stream",
     "text": [
      "HELLO!\n"
     ]
    }
   ],
   "source": [
    "def greet_user():#def关键字，告知即将定义一个函数\n",
    "    \"\"\"显示简单的问候语\"\"\"\n",
    "    print('HELLO!')\n",
    "    \n",
    "greet_user()"
   ]
  },
  {
   "cell_type": "markdown",
   "id": "86aa61a3",
   "metadata": {},
   "source": [
    "def 告知程序你要定义一个函数，后面就是函数名，其中括号不可或缺，下一行三引号里是文档字符串，揭示函数是干什么的。"
   ]
  },
  {
   "cell_type": "code",
   "execution_count": 2,
   "id": "89766f86",
   "metadata": {},
   "outputs": [
    {
     "name": "stdout",
     "output_type": "stream",
     "text": [
      "HELLO,Lilly\n"
     ]
    }
   ],
   "source": [
    "def greet_user(username):\n",
    "    \"\"\"显示简单的问候语\"\"\"\n",
    "    print(f\"HELLO,{username.title()}\")\n",
    "    \n",
    "greet_user(\"lilly\")"
   ]
  },
  {
   "cell_type": "markdown",
   "id": "7ce22807",
   "metadata": {},
   "source": [
    "这两个函数（）里有无信息，是形参和实参（调用函数时的信息）"
   ]
  },
  {
   "cell_type": "markdown",
   "id": "ca7e9f75",
   "metadata": {},
   "source": [
    "## 传递实参"
   ]
  },
  {
   "cell_type": "markdown",
   "id": "7091460a",
   "metadata": {},
   "source": [
    "位置实参（顺序）\n",
    "关键词实参(有明确指定，与顺序无关）"
   ]
  },
  {
   "cell_type": "code",
   "execution_count": 15,
   "id": "2caca4b9",
   "metadata": {},
   "outputs": [
    {
     "name": "stdout",
     "output_type": "stream",
     "text": [
      "\n",
      "I have a dog.\n",
      "My dog's name is Huanhuan.\n",
      "\n",
      "I have a cat.\n",
      "My cat's name is Xiaomi.\n"
     ]
    }
   ],
   "source": [
    "#位置实参\n",
    "def describe_pet(animal_type, pet_name):\n",
    "    \"\"\"显示宠物的信息\"\"\"\n",
    "    print(f\"\\nI have a {animal_type}.\")\n",
    "    print(f\"My {animal_type}'s name is {pet_name.title()}.\")\n",
    "describe_pet('dog','huanhuan')\n",
    "describe_pet('cat','xiaomi')"
   ]
  },
  {
   "cell_type": "code",
   "execution_count": 16,
   "id": "e25d2692",
   "metadata": {},
   "outputs": [
    {
     "name": "stdout",
     "output_type": "stream",
     "text": [
      "\n",
      "I have a dog.\n",
      "My dog's name is Huanhuan.\n"
     ]
    }
   ],
   "source": [
    "#关键词实参\n",
    "def describe_pet(animal_type, pet_name):\n",
    "    \"\"\"显示宠物的信息\"\"\"\n",
    "    print(f\"\\nI have a {animal_type}.\")\n",
    "    print(f\"My {animal_type}'s name is {pet_name.title()}.\")\n",
    "describe_pet(animal_type='dog',pet_name='huanhuan')"
   ]
  },
  {
   "cell_type": "code",
   "execution_count": 17,
   "id": "dccde195",
   "metadata": {},
   "outputs": [
    {
     "ename": "SyntaxError",
     "evalue": "positional argument follows keyword argument (3576347428.py, line 2)",
     "output_type": "error",
     "traceback": [
      "\u001b[1;36m  Cell \u001b[1;32mIn[17], line 2\u001b[1;36m\u001b[0m\n\u001b[1;33m    describe_pet(animal_type='dog','huanhuan')\u001b[0m\n\u001b[1;37m                                             ^\u001b[0m\n\u001b[1;31mSyntaxError\u001b[0m\u001b[1;31m:\u001b[0m positional argument follows keyword argument\n"
     ]
    }
   ],
   "source": [
    "#关键词实参必须在位置实参后面，以下为错误示范\n",
    "describe_pet(animal_type='dog','huanhuan')"
   ]
  },
  {
   "cell_type": "code",
   "execution_count": 18,
   "id": "d9b07c77",
   "metadata": {},
   "outputs": [
    {
     "name": "stdout",
     "output_type": "stream",
     "text": [
      "\n",
      "I have a dog.\n",
      "My dog's name is Huanhuan.\n"
     ]
    }
   ],
   "source": [
    "#关键词实参必须在位置实参后面，示范正确为：\n",
    "describe_pet('dog',pet_name='huanhuan')"
   ]
  },
  {
   "cell_type": "markdown",
   "id": "3a122f3b",
   "metadata": {},
   "source": [
    "默认值：给每个形参指定默认值"
   ]
  },
  {
   "cell_type": "code",
   "execution_count": 1,
   "id": "8c888380",
   "metadata": {},
   "outputs": [
    {
     "name": "stdout",
     "output_type": "stream",
     "text": [
      "\n",
      "I have a dog.\n",
      "My dog's name is Huanhuan.\n"
     ]
    }
   ],
   "source": [
    "def describe_pet(pet_name, animal_type='dog'):\n",
    "    \"\"\"显示宠物的信息\"\"\"\n",
    "    print(f\"\\nI have a {animal_type}.\")\n",
    "    print(f\"My {animal_type}'s name is {pet_name.title()}.\")\n",
    "describe_pet('huanhuan')"
   ]
  },
  {
   "cell_type": "markdown",
   "id": "d224176c",
   "metadata": {},
   "source": [
    "## 返回值"
   ]
  },
  {
   "cell_type": "markdown",
   "id": "aeee647c",
   "metadata": {},
   "source": [
    "return语句"
   ]
  },
  {
   "cell_type": "code",
   "execution_count": 19,
   "id": "817f3237",
   "metadata": {},
   "outputs": [
    {
     "name": "stdout",
     "output_type": "stream",
     "text": [
      "Jimi Hendrix\n"
     ]
    }
   ],
   "source": [
    "def get_formatted_name(first_name,last_name):\n",
    "    \"\"\"返回标准格式的姓名\"\"\"\n",
    "    full_name = f\"{first_name} {last_name}\"\n",
    "    return full_name.title()\n",
    "musician= get_formatted_name('jimi', 'hendrix')\n",
    "print(musician)"
   ]
  },
  {
   "cell_type": "markdown",
   "id": "b27b02f9",
   "metadata": {},
   "source": [
    "也可以让实参变成可选的，有实参时显示实参，没实参时不显示"
   ]
  },
  {
   "cell_type": "code",
   "execution_count": 48,
   "id": "76813109",
   "metadata": {},
   "outputs": [
    {
     "name": "stdout",
     "output_type": "stream",
     "text": [
      "Jimi Hendrix Leo\n"
     ]
    }
   ],
   "source": [
    "def get_formatted_name(first_name,last_name,middle_name=\"\"):#这里的“”可以改成None,相对于占位符\n",
    "    \"\"\"返回标准格式的姓名\"\"\"\n",
    "    if middle_name:\n",
    "        full_name = f\"{first_name} {middle_name} {last_name}\"\n",
    "        return full_name.title()\n",
    "    else:\n",
    "        full_name=f'{first_name} {last_name}'\n",
    "        \n",
    "musician= get_formatted_name('jimi', 'leo','hendrix')\n",
    "print(musician)"
   ]
  },
  {
   "cell_type": "markdown",
   "id": "a0fffcb9",
   "metadata": {},
   "source": [
    "返回字典"
   ]
  },
  {
   "cell_type": "code",
   "execution_count": 31,
   "id": "7b62d3fe",
   "metadata": {},
   "outputs": [
    {
     "name": "stdout",
     "output_type": "stream",
     "text": [
      "{'first': 'jimi', 'last': 'hendrix'}\n"
     ]
    }
   ],
   "source": [
    "def build_person(first_name,last_name):\n",
    "    \"\"\"返回一个字典，其中包含有关一个人的信息\"\"\"\n",
    "    person = {'first':first_name,'last':last_name}\n",
    "    return person\n",
    "\n",
    "musician = build_person('jimi', 'hendrix')\n",
    "print(musician)"
   ]
  },
  {
   "cell_type": "code",
   "execution_count": 47,
   "id": "eb6c0b60",
   "metadata": {},
   "outputs": [
    {
     "name": "stdout",
     "output_type": "stream",
     "text": [
      "{'first': 'jimi', 'last': 'hendrix', 'age': 39}\n",
      "{'first': 'fei', 'last': 'chang'}\n"
     ]
    }
   ],
   "source": [
    "def build_person(first_name,last_name,age=None):#新增了一个可选形参 age，其默认值被设置为特殊值 None（表示变量没有值）\n",
    "#可将 None 视为占位值。在条件测试中，None于 False。如果函数调用中包含形参 age 的值，这个值将被存储到字典\n",
    "\n",
    "    \"\"\"返回一个字典，其中包含有关一个人的信息\"\"\"\n",
    "    person = {'first':first_name,'last':last_name}\n",
    "    if age:\n",
    "        person['age']=age\n",
    "        \n",
    "        \n",
    "    return person\n",
    "\n",
    "musician = build_person('jimi', 'hendrix',age=39)\n",
    "print(musician)\n",
    "player=build_person('fei','chang')\n",
    "print(player)"
   ]
  },
  {
   "cell_type": "markdown",
   "id": "023d80f1",
   "metadata": {},
   "source": [
    "return 和 while循环"
   ]
  },
  {
   "cell_type": "code",
   "execution_count": 3,
   "id": "94495530",
   "metadata": {},
   "outputs": [
    {
     "name": "stdout",
     "output_type": "stream",
     "text": [
      "\n",
      "Please tell me your name:\n",
      "First name: fei\n",
      "Last name: chang\n",
      "\n",
      "Hello, Fei Chang!\n",
      "\n",
      "Please tell me your name:\n",
      "First name: q\n"
     ]
    }
   ],
   "source": [
    "def get_formatted_name(first_name,last_name):\n",
    "    \"\"\"返回标准格式的姓名\"\"\"\n",
    "    full_name = f\"{first_name} {last_name}\"\n",
    "    return full_name.title()\n",
    "while True:\n",
    "    print(\"\\nPlease tell me your name:\")\n",
    "    f_name = input(\"First name: \")\n",
    "    if f_name==\"q\":\n",
    "        break#这个可以让函数不会无限循环下去\n",
    "    l_name = input(\"Last name: \")\n",
    "    formatted_name = get_formatted_name(f_name, l_name)\n",
    "    print(f\"\\nHello, {formatted_name}!\")\n"
   ]
  },
  {
   "cell_type": "markdown",
   "id": "758a86d1",
   "metadata": {},
   "source": [
    "# 传递列表"
   ]
  },
  {
   "cell_type": "code",
   "execution_count": 10,
   "id": "8a2f06ec",
   "metadata": {},
   "outputs": [
    {
     "name": "stdout",
     "output_type": "stream",
     "text": [
      "Hello, Hannah!\n",
      "Hello, Ty!\n",
      "Hello, Margot!\n"
     ]
    }
   ],
   "source": [
    "def greet_users(names):\n",
    "    \"\"\"向列表中的每个用户发出简单的问候\"\"\"\n",
    "    for name in names:#将列表传递给函数后，函数就能直接访问其内容\n",
    "        msg = f\"Hello, {name.title()}!\"\n",
    "        print(msg)\n",
    "        \n",
    "usernames = ['hannah', 'ty', 'margot']\n",
    "greet_users(usernames)"
   ]
  },
  {
   "cell_type": "markdown",
   "id": "aa6a3f19",
   "metadata": {},
   "source": [
    "在函数中修改列表（浅拷贝）"
   ]
  },
  {
   "cell_type": "code",
   "execution_count": 14,
   "id": "81db41ce",
   "metadata": {},
   "outputs": [
    {
     "name": "stdout",
     "output_type": "stream",
     "text": [
      "Verifying user: Candace\n",
      "Verifying user: Brian\n",
      "Verifying user: Alice\n",
      "[]\n",
      "\n",
      "The following users have been confirmed:\n",
      "Candace\n",
      "Brian\n",
      "Alice\n"
     ]
    }
   ],
   "source": [
    "unconfirmed_users = ['alice', 'brian', 'candace']\n",
    "confirmed_users=[]\n",
    "def verify_users(unconfirmed_users,confirmed_users):\n",
    "    \"\"\"用户认证\"\"\"\n",
    "    while unconfirmed_users:\n",
    "        current_user=unconfirmed_users.pop()#删去的末尾的元素\n",
    "        print(f\"Verifying user: {current_user.title()}\")\n",
    "        \n",
    "        confirmed_users.append(current_user)#没删去一个，就是认证一个\n",
    "        \n",
    "verify_users(unconfirmed_users,confirmed_users)\n",
    "print(unconfirmed_users)#浅拷贝，原列表被改变\n",
    "        \n",
    "def show_verified_users(confirmed_users):\n",
    "    print(\"\\nThe following users have been confirmed:\")\n",
    "    for confirmed_user in confirmed_users:\n",
    "        print(confirmed_user.title())\n",
    "        \n",
    "show_verified_users(confirmed_users)\n",
    "\n",
    "    "
   ]
  },
  {
   "cell_type": "markdown",
   "id": "83d120d2",
   "metadata": {},
   "source": [
    "深拷贝：可以通过切片操作将复制的列表副本传递给函数，以防止原列表被修改"
   ]
  },
  {
   "cell_type": "code",
   "execution_count": 14,
   "id": "4c97a1e9",
   "metadata": {},
   "outputs": [
    {
     "name": "stdout",
     "output_type": "stream",
     "text": [
      "Verifying user: Candace\n",
      "Verifying user: Brian\n",
      "Verifying user: Alice\n",
      "['alice', 'brian', 'candace']\n",
      "\n",
      "The following users have been confirmed:\n",
      "Candace\n",
      "Brian\n",
      "Alice\n"
     ]
    }
   ],
   "source": [
    "unconfirmed_users = ['alice', 'brian', 'candace']\n",
    "confirmed_users=[]\n",
    "def verify_users(unconfirmed_users,confirmed_users):\n",
    "    \"\"\"用户认证\"\"\"\n",
    "    while unconfirmed_users:\n",
    "        current_user=unconfirmed_users.pop()\n",
    "        print(f\"Verifying user: {current_user.title()}\")\n",
    "        confirmed_users.append(current_user)\n",
    "verify_users(unconfirmed_users[:],confirmed_users)#切片后，相对于将原列表复制，不会改变，深拷贝\n",
    "print(unconfirmed_users)\n",
    "        \n",
    "def show_verified_users(confirmed_users):\n",
    "    print(\"\\nThe following users have been confirmed:\")\n",
    "    for confirmed_user in confirmed_users:\n",
    "        print(confirmed_user.title())\n",
    "        \n",
    "show_verified_users(confirmed_users)\n",
    "    \n",
    "    \n"
   ]
  },
  {
   "cell_type": "code",
   "execution_count": 16,
   "id": "dba34dc2",
   "metadata": {},
   "outputs": [
    {
     "name": "stdout",
     "output_type": "stream",
     "text": [
      "Verifying user: Alice\n",
      "Verifying user: Brian\n",
      "Verifying user: Candace\n",
      "['alice', 'brian', 'candace']\n"
     ]
    }
   ],
   "source": [
    "unconfirmed_users = ['alice', 'brian', 'candace']\n",
    "confirmed_users=[]\n",
    "def verify_users(unconfirmed_users,confirmed_users):\n",
    "    \"\"\"用户认证\"\"\"\n",
    "    for unconfirmed_user in unconfirmed_users:#不用while循环，用for循环，也可以不改变原列表\n",
    "        current_user=unconfirmed_user\n",
    "        print(f\"Verifying user: {current_user.title()}\")\n",
    "        \n",
    "        confirmed_users.append(current_user)\n",
    "verify_users(unconfirmed_users[:],confirmed_users)\n",
    "print(unconfirmed_users)"
   ]
  },
  {
   "cell_type": "markdown",
   "id": "f091beba",
   "metadata": {},
   "source": [
    "# 传递任意数量的实参"
   ]
  },
  {
   "cell_type": "code",
   "execution_count": null,
   "id": "e3e9c5f4",
   "metadata": {},
   "outputs": [],
   "source": [
    "预先不知道函数需要接受多少个实参，形参 *...\\**"
   ]
  },
  {
   "cell_type": "code",
   "execution_count": 2,
   "id": "f7ae10f7",
   "metadata": {},
   "outputs": [
    {
     "name": "stdout",
     "output_type": "stream",
     "text": [
      "('cheese', 'pepperoni')\n",
      "('mushrooms',)\n"
     ]
    }
   ],
   "source": [
    "def make_pizza(*toppings):#点的配料可能很多，不止一个，因而形参*toppings会收入所有实参,形成一个元组\n",
    "    \"\"\"打印顾客点的所有配料\"\"\"\n",
    "    print(toppings)\n",
    "make_pizza('cheese','pepperoni')\n",
    "make_pizza('mushrooms')"
   ]
  },
  {
   "cell_type": "markdown",
   "id": "8e8f397f",
   "metadata": {},
   "source": [
    "*与for循环"
   ]
  },
  {
   "cell_type": "code",
   "execution_count": 5,
   "id": "4a4c4db4",
   "metadata": {},
   "outputs": [
    {
     "name": "stdout",
     "output_type": "stream",
     "text": [
      "\n",
      "Making a pizza with the following toppings:\n",
      "-pork\n",
      "\n",
      "Making a pizza with the following toppings:\n",
      "-mushrooms\n",
      "-green peppers\n",
      "-extra cheese\n"
     ]
    }
   ],
   "source": [
    "def make_pizza(*toppings):#点的配料可能很多，不止一个，因而形参*toppings会收入所有实参,形成一个元组\n",
    "    \"\"\"概述顾客的所有配料\"\"\"\n",
    "    print('\\nMaking a pizza with the following toppings:')\n",
    "    for topping in toppings:\n",
    "          print(f'-{topping}')\n",
    "make_pizza('pork')\n",
    "make_pizza('mushrooms', 'green peppers', 'extra cheese')"
   ]
  },
  {
   "cell_type": "markdown",
   "id": "2888b6c8",
   "metadata": {},
   "source": [
    "# 结合使用位置实参和任意数量的实参"
   ]
  },
  {
   "cell_type": "markdown",
   "id": "d04fc590",
   "metadata": {},
   "source": [
    "【顺序】 函数接受不同类型的实参，必须在函数定义中将接纳任意数量实参的形参放在最后，先接受位置实参和关键字实参，最后是任意数量的实参"
   ]
  },
  {
   "cell_type": "code",
   "execution_count": 6,
   "id": "178011a6",
   "metadata": {},
   "outputs": [
    {
     "name": "stdout",
     "output_type": "stream",
     "text": [
      "\n",
      "Making a 16-inch pizza with the following toppings:\n",
      "- pepperoni\n",
      "\n",
      "Making a 12-inch pizza with the following toppings:\n",
      "- mushrooms\n",
      "- green peppers\n",
      "- extra cheese\n"
     ]
    }
   ],
   "source": [
    "def make_pizza(size, *toppings):#一个*\n",
    "    \"\"\"概述要制作的比萨\"\"\"\n",
    "    print(f\"\\nMaking a {size}-inch pizza with the following toppings:\")\n",
    "    for topping in toppings:\n",
    "        print(f\"- {topping}\")\n",
    "make_pizza(16, 'pepperoni')\n",
    "make_pizza(12, 'mushrooms', 'green peppers', 'extra cheese')\n"
   ]
  },
  {
   "cell_type": "markdown",
   "id": "cf72fd24",
   "metadata": {},
   "source": [
    "　使用任意数量的关键字实参"
   ]
  },
  {
   "cell_type": "code",
   "execution_count": 7,
   "id": "e375c638",
   "metadata": {},
   "outputs": [
    {
     "name": "stdout",
     "output_type": "stream",
     "text": [
      "{'location': 'princeton', 'field': 'physics', 'first_name': 'albert', 'last_name': 'einstein'}\n"
     ]
    }
   ],
   "source": [
    "def build_profile(first,last,**user_info):#这里有两个*\n",
    "    \"\"\"创建个人简历字典\"\"\"\n",
    "    user_info['first_name']=first\n",
    "    user_info['last_name']=last\n",
    "    return user_info\n",
    "\n",
    "user_profile = build_profile('albert', 'einstein',\n",
    " location='princeton',\n",
    "field='physics')#接受了两个键值对，且是关键字实参\n",
    "print(user_profile)"
   ]
  },
  {
   "cell_type": "markdown",
   "id": "2826e94a",
   "metadata": {},
   "source": [
    "# 将函数存储在模块中"
   ]
  },
  {
   "cell_type": "markdown",
   "id": "d2481936",
   "metadata": {},
   "source": [
    "模块就是一个独立文件，import 语句可让你在当前运行的程序文件中使用模块中的代码"
   ]
  },
  {
   "cell_type": "code",
   "execution_count": 36,
   "id": "a498396b",
   "metadata": {},
   "outputs": [
    {
     "name": "stdout",
     "output_type": "stream",
     "text": [
      "\n",
      "Making a 16-inch pizza with the following toppings:\n",
      "- cheese\n"
     ]
    }
   ],
   "source": [
    "import pizza#这个pizza.py是我们在VScode里创建的一个新的函数，然后把他保存到C盘即可调用。\n",
    "pizza.make_pizza(16,'cheese')#句点不能少"
   ]
  },
  {
   "cell_type": "markdown",
   "id": "33cf0006",
   "metadata": {},
   "source": [
    "导入模块中的特定函数"
   ]
  },
  {
   "cell_type": "code",
   "execution_count": 1,
   "id": "af60522a",
   "metadata": {},
   "outputs": [
    {
     "name": "stdout",
     "output_type": "stream",
     "text": [
      "\n",
      "Making a 16-inch pizza with the following toppings:\n",
      "- pepperoni\n"
     ]
    }
   ],
   "source": [
    "from pizza import make_pizza#使用这种语法，在调用函数时则无须使用句点\n",
    "make_pizza(16, 'pepperoni')"
   ]
  },
  {
   "cell_type": "markdown",
   "id": "f8e21712",
   "metadata": {},
   "source": [
    "可以给导入的函数指定别名，as。指定别名的通用语法是：from module_name import function_name as fn"
   ]
  },
  {
   "cell_type": "code",
   "execution_count": null,
   "id": "a0a68686",
   "metadata": {},
   "outputs": [],
   "source": [
    "from pizza import make_pizza as mp#这里使用as让导入的函数名变成mp,既简写了，也避免了可能的重复混淆\n",
    "mp(16, 'pepperoni')\n",
    "mp(12, 'mushrooms', 'green peppers', 'extra cheese')"
   ]
  },
  {
   "cell_type": "markdown",
   "id": "737aefe2",
   "metadata": {},
   "source": [
    "使用 as 给模块指定别名。通用语法：import module_name as mn"
   ]
  },
  {
   "cell_type": "code",
   "execution_count": null,
   "id": "3e9268b2",
   "metadata": {},
   "outputs": [],
   "source": [
    "import pizza as p\n",
    "p.make_pizza(16, 'pepperoni')#p.make_pizza() 显然更加简洁"
   ]
  },
  {
   "cell_type": "markdown",
   "id": "2fe7862e",
   "metadata": {},
   "source": [
    "使用星号（*）运算符可让 Python 导入模块中的所有函数，语法为：from module_name import *（但是一般不这样全导入）"
   ]
  },
  {
   "cell_type": "code",
   "execution_count": 2,
   "id": "26a24242",
   "metadata": {},
   "outputs": [
    {
     "name": "stdout",
     "output_type": "stream",
     "text": [
      "\n",
      "Making a 16-inch pizza with the following toppings:\n",
      "- pepperoni\n"
     ]
    }
   ],
   "source": [
    "from pizza import *\n",
    "make_pizza(16, 'pepperoni')#由于导入了函数，同样不用使用句点"
   ]
  },
  {
   "cell_type": "markdown",
   "id": "85947d2c",
   "metadata": {},
   "source": [
    "# 书上作业"
   ]
  },
  {
   "cell_type": "code",
   "execution_count": 3,
   "id": "d40e81a3",
   "metadata": {},
   "outputs": [
    {
     "name": "stdout",
     "output_type": "stream",
     "text": [
      "The theme of the chapter is :\n"
     ]
    }
   ],
   "source": [
    "def display_message():\n",
    "    \"\"\"指出本章主旨\"\"\"\n",
    "    print(\"The theme of the chapter is :\")\n",
    "display_message()"
   ]
  },
  {
   "cell_type": "code",
   "execution_count": 7,
   "id": "ecced3af",
   "metadata": {},
   "outputs": [
    {
     "name": "stdout",
     "output_type": "stream",
     "text": [
      "My favorite book is  Alice in Wonderland\n"
     ]
    }
   ],
   "source": [
    "def favorite_book(title) :\n",
    "    \"\"\"我最喜爱的书\"\"\"\n",
    "    print(f\"My favorite book is {title}\")\n",
    "    \n",
    "favorite_book(\" Alice in Wonderland\")"
   ]
  },
  {
   "cell_type": "code",
   "execution_count": 21,
   "id": "538a0a47",
   "metadata": {},
   "outputs": [
    {
     "name": "stdout",
     "output_type": "stream",
     "text": [
      "\n",
      "The size of the shirt is xl.\n",
      "The words printed on the shirt is China.\n",
      "\n",
      "The size of the shirt is xl.\n",
      "The words printed on the shirt is China.\n"
     ]
    }
   ],
   "source": [
    "def make_shirt(size,words):\n",
    "    \"\"\"尺码和T恤上的字样\"\"\"\n",
    "    print(f\"\\nThe size of the shirt is {size}.\")\n",
    "    print(f\"The words printed on the shirt is {words.title()}.\")\n",
    "make_shirt(\"xl\",\"china\")\n",
    "make_shirt(size=\"xl\",words=\"china\")"
   ]
  },
  {
   "cell_type": "code",
   "execution_count": 23,
   "id": "56bb9f79",
   "metadata": {},
   "outputs": [
    {
     "name": "stdout",
     "output_type": "stream",
     "text": [
      "\n",
      "The size of the shirt is l.\n",
      "The words printed on the shirt is I Love Python.\n",
      "\n",
      "The size of the shirt is m.\n",
      "The words printed on the shirt is I Love Python.\n",
      "\n",
      "The size of the shirt is xl.\n",
      "The words printed on the shirt is China.\n"
     ]
    }
   ],
   "source": [
    "def make_shirt(size,words=\"I love Python\"):\n",
    "    \"\"\"尺码和T恤上的字样\"\"\"\n",
    "    print(f\"\\nThe size of the shirt is {size}.\")\n",
    "    print(f\"The words printed on the shirt is {words.title()}.\")\n",
    "make_shirt(\"l\")\n",
    "make_shirt(\"m\")\n",
    "make_shirt(\"xl\",words=\"china\")"
   ]
  },
  {
   "cell_type": "code",
   "execution_count": 18,
   "id": "5ad05e09",
   "metadata": {},
   "outputs": [
    {
     "name": "stdout",
     "output_type": "stream",
     "text": [
      "Beijing is in China.\n",
      "Nanjing is in China.\n",
      "Paris is in China.\n"
     ]
    }
   ],
   "source": [
    "def describe_city(city,country='china'):\n",
    "    \"\"\"一座城市的名字以及该城市所属的国家\"\"\"\n",
    "    print(f'{city.title()} is in {country.title()}.')\n",
    "describe_city('beijing')\n",
    "describe_city('nanjing')\n",
    "describe_city('paris')\n",
    "    "
   ]
  },
  {
   "cell_type": "code",
   "execution_count": 5,
   "id": "65ce818d",
   "metadata": {},
   "outputs": [
    {
     "name": "stdout",
     "output_type": "stream",
     "text": [
      "{'singer': 'taylor', 'album': 'lovestory'}\n",
      "{'singer': 'xuezhiqian', 'album': 'ugly'}\n",
      "{'singer': 'maobuyi', 'album': 'ugly'}\n",
      "{'singer': 'taylor', 'album': 'lovestory', 'number': 6}\n",
      "{'singer': 'xuezhiqian', 'album': 'ugly'}\n",
      "{'singer': 'maobuyi', 'album': 'ugly'}\n"
     ]
    }
   ],
   "source": [
    "def make_album(singer_name,album_name,):\n",
    "    \"\"\"创建描述音乐专辑的字典\"\"\"\n",
    "    album={\"singer\":singer_name,\"album\":album_name}\n",
    "    \n",
    "    return album\n",
    "album_1=make_album('taylor','lovestory')\n",
    "print(album_1)\n",
    "album_2=make_album('xuezhiqian','ugly')\n",
    "print(album_2)\n",
    "album_3=make_album('maobuyi','ugly')\n",
    "print(album_3)\n",
    "\n",
    "def make_album(singer_name,album_name,number=None):\n",
    "    \"\"\"创建描述音乐专辑的字典\"\"\"\n",
    "    album={\"singer\":singer_name,\"album\":album_name}\n",
    "    if number:\n",
    "        album['number']=number\n",
    "    return album\n",
    "        \n",
    "    \n",
    "album_1=make_album('taylor','lovestory',6)\n",
    "print(album_1)\n",
    "album_2=make_album('xuezhiqian','ugly')\n",
    "print(album_2)\n",
    "album_3=make_album('maobuyi','ugly')\n",
    "print(album_3)"
   ]
  },
  {
   "cell_type": "code",
   "execution_count": 9,
   "id": "df12a2e5",
   "metadata": {},
   "outputs": [
    {
     "name": "stdout",
     "output_type": "stream",
     "text": [
      "singer_name:taylor\n",
      "album_name:lovestory\n",
      "{'singer': 'taylor', 'album': 'lovestory'}\n",
      "singer_name:q\n"
     ]
    }
   ],
   "source": [
    "def make_album(singer_name,album_name,):\n",
    "    \"\"\"创建描述音乐专辑的字典\"\"\"\n",
    "    album={\"singer\":singer_name,\"album\":album_name}\n",
    "    return album\n",
    "while True:\n",
    "    singer_name=input('singer_name:')\n",
    "    if singer_name=='q':\n",
    "        break\n",
    "    album_name=input('album_name:')\n",
    "    album_info=make_album(singer_name,album_name)\n",
    "    print(album_info)"
   ]
  },
  {
   "cell_type": "code",
   "execution_count": 16,
   "id": "70c923e6",
   "metadata": {},
   "outputs": [
    {
     "name": "stdout",
     "output_type": "stream",
     "text": [
      "hello\n",
      "bye\n",
      "hi\n"
     ]
    }
   ],
   "source": [
    "messages_1=['hello','bye','hi']\n",
    "def print_messages(messages):\n",
    "    \"\"\"打印列表中的每条文本消息\"\"\"\n",
    "    for message in messages:\n",
    "        print(message)\n",
    "print_messages(messages_1)"
   ]
  },
  {
   "cell_type": "code",
   "execution_count": 30,
   "id": "4f31056b",
   "metadata": {},
   "outputs": [
    {
     "name": "stdout",
     "output_type": "stream",
     "text": [
      "Sending message: Hi\n",
      "Sending message: Bye\n",
      "Sending message: Hello\n",
      "[]\n",
      "['hi', 'bye', 'hello']\n"
     ]
    }
   ],
   "source": [
    "messages_1=['hello','bye','hi']\n",
    "sent_messages=[]\n",
    "def send_messages(messages,sent_messages):\n",
    "    \"\"\"移动消息\"\"\"\n",
    "    while messages:\n",
    "        current_message=messages.pop()\n",
    "        print(f\"Sending message: {current_message.title()}\")\n",
    "        sent_messages.append(current_message)\n",
    "        \n",
    "send_messages(messages_1,sent_messages)\n",
    "print(messages_1)\n",
    "print(sent_messages)\n",
    "      \n",
    "    "
   ]
  },
  {
   "cell_type": "code",
   "execution_count": 31,
   "id": "0b110285",
   "metadata": {},
   "outputs": [
    {
     "name": "stdout",
     "output_type": "stream",
     "text": [
      "Sending message: Hi\n",
      "Sending message: Bye\n",
      "Sending message: Hello\n",
      "['hello', 'bye', 'hi']\n",
      "['hi', 'bye', 'hello']\n"
     ]
    }
   ],
   "source": [
    "messages_1=['hello','bye','hi']\n",
    "sent_messages=[]\n",
    "def send_messages(messages,sent_messages):\n",
    "    \"\"\"移动消息\"\"\"\n",
    "    while messages:\n",
    "        current_message=messages.pop()\n",
    "        print(f\"Sending message: {current_message.title()}\")\n",
    "        sent_messages.append(current_message)\n",
    "        \n",
    "send_messages(messages_1[:],sent_messages)\n",
    "print(messages_1)\n",
    "print(sent_messages)"
   ]
  },
  {
   "cell_type": "code",
   "execution_count": null,
   "id": "c72d0f15",
   "metadata": {},
   "outputs": [],
   "source": []
  },
  {
   "cell_type": "code",
   "execution_count": 8,
   "id": "c80c8759",
   "metadata": {},
   "outputs": [
    {
     "name": "stdout",
     "output_type": "stream",
     "text": [
      "('chicken',)\n",
      "('pork', 'egg', 'beef')\n",
      "('salmon', 'pepperoni', 'shrimp')\n"
     ]
    }
   ],
   "source": [
    "def sandwich_order(*ingredients):\n",
    "    \"\"\"对顾客点的三明治进行概述\"\"\"\n",
    "    print(ingredients)\n",
    "sandwich_order('chicken')\n",
    "sandwich_order('pork','egg','beef')\n",
    "sandwich_order('salmon','pepperoni','shrimp')"
   ]
  },
  {
   "cell_type": "code",
   "execution_count": null,
   "id": "97d05237",
   "metadata": {},
   "outputs": [],
   "source": []
  },
  {
   "cell_type": "code",
   "execution_count": 2,
   "id": "79ed63f0",
   "metadata": {},
   "outputs": [
    {
     "name": "stdout",
     "output_type": "stream",
     "text": [
      "{'location': 'Nanjing', 'field': 'journalism', 'sex': 'female', 'first_name': 'chang', 'last_name': 'Fei'}\n"
     ]
    }
   ],
   "source": [
    "def build_profile(first, last, **user_info):\n",
    "    \"\"\"创建一个字典，其中包含我们知道的有关用户的一切\"\"\"\n",
    "    user_info['first_name'] = first\n",
    "    user_info['last_name'] = last\n",
    "    return user_info\n",
    "\n",
    "user_profile = build_profile('chang', 'Fei',\n",
    " location='Nanjing',\n",
    "field='journalism',\n",
    "sex='female'  )\n",
    "print(user_profile)"
   ]
  },
  {
   "cell_type": "code",
   "execution_count": 4,
   "id": "407a66ba",
   "metadata": {},
   "outputs": [
    {
     "name": "stdout",
     "output_type": "stream",
     "text": [
      "{'color': 'blue', 'tow_package': True, 'producer': 'subaru', 'types': 'outback'}\n"
     ]
    }
   ],
   "source": [
    "def make_car(producer,types,**car_info):\n",
    "    \"\"\"将一辆汽车的信息存储在字典中\"\"\"\n",
    "    car_info['producer']=producer\n",
    "    car_info['types']=types\n",
    "    return car_info\n",
    "car=make_car('subaru', 'outback', color='blue', tow_package=True)\n",
    "print(car)"
   ]
  },
  {
   "cell_type": "code",
   "execution_count": null,
   "id": "a652419c",
   "metadata": {},
   "outputs": [],
   "source": []
  },
  {
   "cell_type": "code",
   "execution_count": 5,
   "id": "a72b2a10",
   "metadata": {},
   "outputs": [
    {
     "name": "stdout",
     "output_type": "stream",
     "text": [
      "Printing model: dodecahedron\n",
      "Printing model: robot pendant\n",
      "Printing model: phone case\n"
     ]
    }
   ],
   "source": [
    "unprinted_designs=['phone case', 'robot pendant', 'dodecahedron']\n",
    "completed_models=[]\n",
    "import printing_functions\n",
    "printing_functions.print_models(unprinted_designs, completed_models)\n"
   ]
  },
  {
   "cell_type": "code",
   "execution_count": 6,
   "id": "396d4602",
   "metadata": {},
   "outputs": [
    {
     "name": "stdout",
     "output_type": "stream",
     "text": [
      "Printing model: dodecahedron\n",
      "Printing model: robot pendant\n",
      "Printing model: phone case\n"
     ]
    }
   ],
   "source": [
    "import printing_functions\n",
    "printing_functions.print_models(['phone case', 'robot pendant', 'dodecahedron'], completed_models)#上述可以直接把列表放在形参处"
   ]
  },
  {
   "cell_type": "code",
   "execution_count": 7,
   "id": "3dfb08c7",
   "metadata": {},
   "outputs": [
    {
     "name": "stdout",
     "output_type": "stream",
     "text": [
      "\n",
      "Making a 13-inch pizza with the following toppings:\n",
      "- cheese\n",
      "\n",
      "Making a 14-inch pizza with the following toppings:\n",
      "- pepperoni\n",
      "\n",
      "Making a 12-inch pizza with the following toppings:\n",
      "- potato\n",
      "\n",
      "Making a 8-inch pizza with the following toppings:\n",
      "- shrimp\n",
      "\n",
      "Making a 9-inch pizza with the following toppings:\n",
      "- chicken\n"
     ]
    }
   ],
   "source": [
    "import pizza\n",
    "pizza.make_pizza(13,'cheese')\n",
    "from pizza import make_pizza\n",
    "make_pizza(14,'pepperoni')\n",
    "from pizza import make_pizza as mp\n",
    "mp(12,'potato')\n",
    "import pizza as p\n",
    "p.make_pizza(8,'shrimp')\n",
    "from pizza import*\n",
    "make_pizza(9,'chicken')"
   ]
  },
  {
   "cell_type": "code",
   "execution_count": null,
   "id": "6bfa9d59",
   "metadata": {},
   "outputs": [],
   "source": []
  }
 ],
 "metadata": {
  "kernelspec": {
   "display_name": "Python 3 (ipykernel)",
   "language": "python",
   "name": "python3"
  },
  "language_info": {
   "codemirror_mode": {
    "name": "ipython",
    "version": 3
   },
   "file_extension": ".py",
   "mimetype": "text/x-python",
   "name": "python",
   "nbconvert_exporter": "python",
   "pygments_lexer": "ipython3",
   "version": "3.11.3"
  }
 },
 "nbformat": 4,
 "nbformat_minor": 5
}
