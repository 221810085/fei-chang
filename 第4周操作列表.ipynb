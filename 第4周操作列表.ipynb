{
 "cells": [
  {
   "cell_type": "markdown",
   "id": "a7d74a3c",
   "metadata": {},
   "source": [
    "# 遍历整个列表"
   ]
  },
  {
   "cell_type": "code",
   "execution_count": 4,
   "id": "ac345193",
   "metadata": {},
   "outputs": [
    {
     "name": "stdout",
     "output_type": "stream",
     "text": [
      "ailce\n",
      "david\n",
      "bob\n"
     ]
    }
   ],
   "source": [
    "magicians=[\"ailce\",\"david\",\"bob\"]\n",
    "for magician in magicians:\n",
    "    print(magician) #首行缩进，自动缩进四个字符"
   ]
  },
  {
   "cell_type": "code",
   "execution_count": 16,
   "id": "ff0b01af",
   "metadata": {},
   "outputs": [
    {
     "name": "stdout",
     "output_type": "stream",
     "text": [
      "ailce\n",
      "Ailce,that was a great trick!\n",
      "I can't wait to see more, Ailce.\n",
      "\n",
      "david\n",
      "David,that was a great trick!\n",
      "I can't wait to see more, David.\n",
      "\n",
      "bob\n",
      "Bob,that was a great trick!\n",
      "I can't wait to see more, Bob.\n",
      "\n",
      "Thank you, everyone!We love you.\n"
     ]
    }
   ],
   "source": [
    "magicians=[\"ailce\",\"david\",\"bob\"]\n",
    "for magician in magicians:\n",
    "    print(magician)  \n",
    "    print(f\"{magician.title()},that was a great trick!\")\n",
    "    print(f\"I can't wait to see more, {magician.title()}.\\n\")   \n",
    "print(\"Thank you, everyone!We love you.\")"
   ]
  },
  {
   "cell_type": "code",
   "execution_count": 19,
   "id": "cc3fe121",
   "metadata": {},
   "outputs": [
    {
     "name": "stdout",
     "output_type": "stream",
     "text": [
      "chicken pizza\n",
      "I like chicken pizza!\n",
      "\n",
      "pepperoni pizza\n",
      "I like pepperoni pizza!\n",
      "\n",
      "shrimp pizza\n",
      "I like shrimp pizza!\n",
      "\n",
      "I really love pizza!\n"
     ]
    }
   ],
   "source": [
    "pizzas=['chicken pizza','pepperoni pizza','shrimp pizza']\n",
    "for pizza in pizzas:\n",
    "    print(pizza)\n",
    "    print(f\"I like {pizza}!\\n\")\n",
    "    \n",
    "print(\"I really love pizza!\") #书上习题"
   ]
  },
  {
   "cell_type": "markdown",
   "id": "f85cc7c3",
   "metadata": {},
   "source": [
    "# range"
   ]
  },
  {
   "cell_type": "code",
   "execution_count": 32,
   "id": "8b535b7d",
   "metadata": {},
   "outputs": [
    {
     "name": "stdout",
     "output_type": "stream",
     "text": [
      "1\n",
      "2\n",
      "3\n",
      "4\n",
      "5\n"
     ]
    }
   ],
   "source": [
    "for value in range (1,6):\n",
    "    print(value)"
   ]
  },
  {
   "cell_type": "markdown",
   "id": "b27e3ed0",
   "metadata": {},
   "source": [
    "list 与 range 的转换"
   ]
  },
  {
   "cell_type": "code",
   "execution_count": 29,
   "id": "e3477959",
   "metadata": {},
   "outputs": [
    {
     "name": "stdout",
     "output_type": "stream",
     "text": [
      "[0, 1, 2, 3]\n"
     ]
    }
   ],
   "source": [
    "nums=list(range(4))\n",
    "print(nums)"
   ]
  },
  {
   "cell_type": "markdown",
   "id": "5924425b",
   "metadata": {},
   "source": [
    "range函数,还可以指定步长"
   ]
  },
  {
   "cell_type": "code",
   "execution_count": 31,
   "id": "140c73ae",
   "metadata": {},
   "outputs": [
    {
     "name": "stdout",
     "output_type": "stream",
     "text": [
      "[2, 4, 6, 8]\n"
     ]
    }
   ],
   "source": [
    "even_numbers=list(range(2,10,2))\n",
    "print(even_numbers) #2 开始数，然后不断地加 2，直到达到或超过终值（10)"
   ]
  },
  {
   "cell_type": "code",
   "execution_count": 33,
   "id": "4164ae18",
   "metadata": {},
   "outputs": [
    {
     "name": "stdout",
     "output_type": "stream",
     "text": [
      "[1]\n",
      "[1, 4]\n",
      "[1, 4, 9]\n",
      "[1, 4, 9, 16]\n",
      "[1, 4, 9, 16, 25]\n",
      "[1, 4, 9, 16, 25, 36]\n",
      "[1, 4, 9, 16, 25, 36, 49]\n",
      "[1, 4, 9, 16, 25, 36, 49, 64]\n",
      "[1, 4, 9, 16, 25, 36, 49, 64, 81]\n",
      "[1, 4, 9, 16, 25, 36, 49, 64, 81, 100]\n"
     ]
    }
   ],
   "source": [
    "squares=[]\n",
    "for value in range(1,11):\n",
    "    squares.append(value**2)\n",
    "    print(squares)"
   ]
  },
  {
   "cell_type": "code",
   "execution_count": 34,
   "id": "571c72a6",
   "metadata": {},
   "outputs": [
    {
     "name": "stdout",
     "output_type": "stream",
     "text": [
      "[1, 4, 9, 16, 25, 36, 49, 64, 81, 100]\n"
     ]
    }
   ],
   "source": [
    "squares=[]\n",
    "for value in range(1,11):\n",
    "    squares.append(value**2)\n",
    "print(squares)"
   ]
  },
  {
   "cell_type": "code",
   "execution_count": 38,
   "id": "55cf91a7",
   "metadata": {},
   "outputs": [
    {
     "name": "stdout",
     "output_type": "stream",
     "text": [
      "[1, 2, 3, 4, 5, 6, 7, 8, 9, 10]\n",
      "[1, 4, 9, 16, 25, 36, 49, 64, 81, 100]\n"
     ]
    }
   ],
   "source": [
    "squares=[value for value in range(1,11)]\n",
    "print(squares)\n",
    "squares=[value**2 for value in range(1,11)]\n",
    "print(squares)"
   ]
  },
  {
   "cell_type": "markdown",
   "id": "d2781de8",
   "metadata": {},
   "source": [
    "计算"
   ]
  },
  {
   "cell_type": "code",
   "execution_count": 39,
   "id": "894b23cf",
   "metadata": {},
   "outputs": [
    {
     "name": "stdout",
     "output_type": "stream",
     "text": [
      "1\n",
      "35\n",
      "45\n"
     ]
    }
   ],
   "source": [
    "nums=[1,2,35,7]\n",
    "print(min(nums))\n",
    "print(max(nums))\n",
    "print(sum(nums))"
   ]
  },
  {
   "cell_type": "markdown",
   "id": "abb26efb",
   "metadata": {},
   "source": [
    "使用列表的一部分，切片"
   ]
  },
  {
   "cell_type": "markdown",
   "id": "361c150e",
   "metadata": {},
   "source": [
    "slice 切片"
   ]
  },
  {
   "cell_type": "code",
   "execution_count": 40,
   "id": "2cdb7999",
   "metadata": {},
   "outputs": [
    {
     "name": "stdout",
     "output_type": "stream",
     "text": [
      "('milly', 'emily', 'sunny')\n"
     ]
    }
   ],
   "source": [
    "players=(\"milly\",\"emily\",\"sunny\",\"kimi\")\n",
    "print(players[0:3])"
   ]
  },
  {
   "cell_type": "code",
   "execution_count": 43,
   "id": "5cd50b2f",
   "metadata": {},
   "outputs": [
    {
     "name": "stdout",
     "output_type": "stream",
     "text": [
      "('sunny', 'kimi')\n"
     ]
    }
   ],
   "source": [
    "players=(\"milly\",\"emily\",\"sunny\",\"kimi\")\n",
    "print(players[-2:])"
   ]
  },
  {
   "cell_type": "code",
   "execution_count": 47,
   "id": "171c3d79",
   "metadata": {},
   "outputs": [
    {
     "name": "stdout",
     "output_type": "stream",
     "text": [
      "('sunny',)\n"
     ]
    }
   ],
   "source": [
    "players=(\"milly\",\"emily\",\"sunny\",\"kimi\")\n",
    "print(players[-2:-1])"
   ]
  },
  {
   "cell_type": "code",
   "execution_count": 50,
   "id": "f1dcecec",
   "metadata": {},
   "outputs": [
    {
     "name": "stdout",
     "output_type": "stream",
     "text": [
      "('milly', 'emily', 'sunny')\n",
      "Milly\n",
      "Emily\n",
      "Sunny\n"
     ]
    }
   ],
   "source": [
    "players=(\"milly\",\"emily\",\"sunny\",\"kimi\")\n",
    "print(players[:3])\n",
    "for player in players[:3]:\n",
    "    print(player.title())\n"
   ]
  },
  {
   "cell_type": "markdown",
   "id": "8b859873",
   "metadata": {},
   "source": [
    "深拷贝和浅拷贝"
   ]
  },
  {
   "cell_type": "code",
   "execution_count": 52,
   "id": "38e18a06",
   "metadata": {},
   "outputs": [
    {
     "name": "stdout",
     "output_type": "stream",
     "text": [
      "My favourite foods are:\n",
      "['felefal', 'pepperoni', 'pizza', 'lemonade']\n",
      "\n",
      "My friend's favourite foods are:\n",
      "['felefal', 'pepperoni', 'pizza', 'sandwich']\n"
     ]
    }
   ],
   "source": [
    "my_food=[\"felefal\",\"pepperoni\",\"pizza\"]\n",
    "friend_food=my_food[:]\n",
    "my_food.append(\"lemonade\")\n",
    "friend_food.append(\"sandwich\")\n",
    "print(\"My favourite foods are:\")\n",
    "print(my_food)\n",
    "print(\"\\nMy friend's favourite foods are:\")\n",
    "print(friend_food)"
   ]
  },
  {
   "cell_type": "code",
   "execution_count": 53,
   "id": "43512276",
   "metadata": {},
   "outputs": [
    {
     "name": "stdout",
     "output_type": "stream",
     "text": [
      "My favourite foods are:\n",
      "['felefal', 'pepperoni', 'pizza', 'lemonade', 'sandwich']\n",
      "\n",
      "My friend's favourite foods are:\n",
      "['felefal', 'pepperoni', 'pizza', 'lemonade', 'sandwich']\n"
     ]
    }
   ],
   "source": [
    "my_food=[\"felefal\",\"pepperoni\",\"pizza\"]\n",
    "friend_food=my_food\n",
    "my_food.append(\"lemonade\")\n",
    "friend_food.append(\"sandwich\")\n",
    "print(\"My favourite foods are:\")\n",
    "print(my_food)\n",
    "print(\"\\nMy friend's favourite foods are:\")\n",
    "print(friend_food)"
   ]
  },
  {
   "cell_type": "markdown",
   "id": "d211db42",
   "metadata": {},
   "source": [
    "# 元组"
   ]
  },
  {
   "cell_type": "code",
   "execution_count": 54,
   "id": "b79cffc3",
   "metadata": {},
   "outputs": [
    {
     "name": "stdout",
     "output_type": "stream",
     "text": [
      "200\n",
      "15\n"
     ]
    }
   ],
   "source": [
    "#圆括号#元组几乎不能改\n",
    "dimensions=(200,15)\n",
    "print(dimensions[0])\n",
    "print(dimensions[1])"
   ]
  },
  {
   "cell_type": "code",
   "execution_count": null,
   "id": "c5fe2622",
   "metadata": {},
   "outputs": [],
   "source": []
  }
 ],
 "metadata": {
  "kernelspec": {
   "display_name": "Python 3 (ipykernel)",
   "language": "python",
   "name": "python3"
  },
  "language_info": {
   "codemirror_mode": {
    "name": "ipython",
    "version": 3
   },
   "file_extension": ".py",
   "mimetype": "text/x-python",
   "name": "python",
   "nbconvert_exporter": "python",
   "pygments_lexer": "ipython3",
   "version": "3.11.3"
  }
 },
 "nbformat": 4,
 "nbformat_minor": 5
}
