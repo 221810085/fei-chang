{
 "cells": [
  {
   "cell_type": "markdown",
   "id": "a7d74a3c",
   "metadata": {},
   "source": [
    "# 遍历整个列表"
   ]
  },
  {
   "cell_type": "code",
   "execution_count": 4,
   "id": "ac345193",
   "metadata": {},
   "outputs": [
    {
     "name": "stdout",
     "output_type": "stream",
     "text": [
      "ailce\n",
      "david\n",
      "bob\n"
     ]
    }
   ],
   "source": [
    "magicians=[\"ailce\",\"david\",\"bob\"]\n",
    "for magician in magicians:\n",
    "    print(magician) #首行缩进，自动缩进四个字符"
   ]
  },
  {
   "cell_type": "code",
   "execution_count": 16,
   "id": "ff0b01af",
   "metadata": {},
   "outputs": [
    {
     "name": "stdout",
     "output_type": "stream",
     "text": [
      "ailce\n",
      "Ailce,that was a great trick!\n",
      "I can't wait to see more, Ailce.\n",
      "\n",
      "david\n",
      "David,that was a great trick!\n",
      "I can't wait to see more, David.\n",
      "\n",
      "bob\n",
      "Bob,that was a great trick!\n",
      "I can't wait to see more, Bob.\n",
      "\n",
      "Thank you, everyone!We love you.\n"
     ]
    }
   ],
   "source": [
    "magicians=[\"ailce\",\"david\",\"bob\"]\n",
    "for magician in magicians:\n",
    "    print(magician)  \n",
    "    print(f\"{magician.title()},that was a great trick!\")\n",
    "    print(f\"I can't wait to see more, {magician.title()}.\\n\")   \n",
    "print(\"Thank you, everyone!We love you.\")"
   ]
  },
  {
   "cell_type": "code",
   "execution_count": 19,
   "id": "cc3fe121",
   "metadata": {},
   "outputs": [
    {
     "name": "stdout",
     "output_type": "stream",
     "text": [
      "chicken pizza\n",
      "I like chicken pizza!\n",
      "\n",
      "pepperoni pizza\n",
      "I like pepperoni pizza!\n",
      "\n",
      "shrimp pizza\n",
      "I like shrimp pizza!\n",
      "\n",
      "I really love pizza!\n"
     ]
    }
   ],
   "source": [
    "pizzas=['chicken pizza','pepperoni pizza','shrimp pizza']\n",
    "for pizza in pizzas:\n",
    "    print(pizza)\n",
    "    print(f\"I like {pizza}!\\n\")\n",
    "    \n",
    "print(\"I really love pizza!\") #书上习题"
   ]
  },
  {
   "cell_type": "markdown",
   "id": "f85cc7c3",
   "metadata": {},
   "source": [
    "# range"
   ]
  },
  {
   "cell_type": "code",
   "execution_count": 32,
   "id": "8b535b7d",
   "metadata": {},
   "outputs": [
    {
     "name": "stdout",
     "output_type": "stream",
     "text": [
      "1\n",
      "2\n",
      "3\n",
      "4\n",
      "5\n"
     ]
    }
   ],
   "source": [
    "for value in range (1,6):\n",
    "    print(value)"
   ]
  },
  {
   "cell_type": "markdown",
   "id": "b27e3ed0",
   "metadata": {},
   "source": [
    "list 与 range 的转换"
   ]
  },
  {
   "cell_type": "code",
   "execution_count": 29,
   "id": "e3477959",
   "metadata": {},
   "outputs": [
    {
     "name": "stdout",
     "output_type": "stream",
     "text": [
      "[0, 1, 2, 3]\n"
     ]
    }
   ],
   "source": [
    "nums=list(range(4))\n",
    "print(nums)"
   ]
  },
  {
   "cell_type": "markdown",
   "id": "5924425b",
   "metadata": {},
   "source": [
    "range函数,还可以指定步长"
   ]
  },
  {
   "cell_type": "code",
   "execution_count": 31,
   "id": "140c73ae",
   "metadata": {},
   "outputs": [
    {
     "name": "stdout",
     "output_type": "stream",
     "text": [
      "[2, 4, 6, 8]\n"
     ]
    }
   ],
   "source": [
    "even_numbers=list(range(2,10,2))\n",
    "print(even_numbers) #2 开始数，然后不断地加 2，直到达到或超过终值（10)"
   ]
  },
  {
   "cell_type": "code",
   "execution_count": 2,
   "id": "4164ae18",
   "metadata": {},
   "outputs": [
    {
     "name": "stdout",
     "output_type": "stream",
     "text": [
      "[1]\n",
      "[1, 4]\n",
      "[1, 4, 9]\n",
      "[1, 4, 9, 16]\n",
      "[1, 4, 9, 16, 25]\n",
      "[1, 4, 9, 16, 25, 36]\n",
      "[1, 4, 9, 16, 25, 36, 49]\n",
      "[1, 4, 9, 16, 25, 36, 49, 64]\n",
      "[1, 4, 9, 16, 25, 36, 49, 64, 81]\n",
      "[1, 4, 9, 16, 25, 36, 49, 64, 81, 100]\n"
     ]
    }
   ],
   "source": [
    "squares=[]\n",
    "for value in range(1,11):\n",
    "    squares.append(value**2)\n",
    "    print(squares)"
   ]
  },
  {
   "cell_type": "code",
   "execution_count": 34,
   "id": "571c72a6",
   "metadata": {},
   "outputs": [
    {
     "name": "stdout",
     "output_type": "stream",
     "text": [
      "[1, 4, 9, 16, 25, 36, 49, 64, 81, 100]\n"
     ]
    }
   ],
   "source": [
    "squares=[]\n",
    "for value in range(1,11):\n",
    "    squares.append(value**2)\n",
    "print(squares)"
   ]
  },
  {
   "cell_type": "markdown",
   "id": "d5d0d94b",
   "metadata": {},
   "source": [
    "列表推导式"
   ]
  },
  {
   "cell_type": "code",
   "execution_count": 38,
   "id": "55cf91a7",
   "metadata": {},
   "outputs": [
    {
     "name": "stdout",
     "output_type": "stream",
     "text": [
      "[1, 2, 3, 4, 5, 6, 7, 8, 9, 10]\n",
      "[1, 4, 9, 16, 25, 36, 49, 64, 81, 100]\n"
     ]
    }
   ],
   "source": [
    "squares=[value for value in range(1,11)]#推导式用方括号！！！\n",
    "print(squares)\n",
    "squares=[value**2 for value in range(1,11)]\n",
    "print(squares)"
   ]
  },
  {
   "cell_type": "markdown",
   "id": "d2781de8",
   "metadata": {},
   "source": [
    "计算"
   ]
  },
  {
   "cell_type": "code",
   "execution_count": 39,
   "id": "894b23cf",
   "metadata": {},
   "outputs": [
    {
     "name": "stdout",
     "output_type": "stream",
     "text": [
      "1\n",
      "35\n",
      "45\n"
     ]
    }
   ],
   "source": [
    "nums=[1,2,35,7]\n",
    "print(min(nums))\n",
    "print(max(nums))\n",
    "print(sum(nums))"
   ]
  },
  {
   "cell_type": "markdown",
   "id": "abb26efb",
   "metadata": {},
   "source": [
    "使用列表的一部分，切片"
   ]
  },
  {
   "cell_type": "markdown",
   "id": "361c150e",
   "metadata": {},
   "source": [
    "# slice 切片"
   ]
  },
  {
   "cell_type": "code",
   "execution_count": 40,
   "id": "2cdb7999",
   "metadata": {},
   "outputs": [
    {
     "name": "stdout",
     "output_type": "stream",
     "text": [
      "('milly', 'emily', 'sunny')\n"
     ]
    }
   ],
   "source": [
    "players=(\"milly\",\"emily\",\"sunny\",\"kimi\")\n",
    "print(players[0:3])"
   ]
  },
  {
   "cell_type": "code",
   "execution_count": 43,
   "id": "5cd50b2f",
   "metadata": {},
   "outputs": [
    {
     "name": "stdout",
     "output_type": "stream",
     "text": [
      "('sunny', 'kimi')\n"
     ]
    }
   ],
   "source": [
    "players=(\"milly\",\"emily\",\"sunny\",\"kimi\")\n",
    "print(players[-2:])"
   ]
  },
  {
   "cell_type": "code",
   "execution_count": 28,
   "id": "171c3d79",
   "metadata": {},
   "outputs": [
    {
     "name": "stdout",
     "output_type": "stream",
     "text": [
      "('sunny', 'kimi')\n"
     ]
    }
   ],
   "source": [
    "players=(\"milly\",\"emily\",\"sunny\",\"kimi\")\n",
    "print(players[-2:])"
   ]
  },
  {
   "cell_type": "code",
   "execution_count": 27,
   "id": "f1dcecec",
   "metadata": {},
   "outputs": [
    {
     "name": "stdout",
     "output_type": "stream",
     "text": [
      "('emily', 'sunny')\n",
      "Milly\n",
      "Emily\n",
      "Sunny\n"
     ]
    }
   ],
   "source": [
    "players=(\"milly\",\"emily\",\"sunny\",\"kimi\")\n",
    "print(players[1:3])\n",
    "for player in players[:3]:\n",
    "    print(player.title())\n"
   ]
  },
  {
   "cell_type": "markdown",
   "id": "8b859873",
   "metadata": {},
   "source": [
    "深拷贝和浅拷贝,复制"
   ]
  },
  {
   "cell_type": "code",
   "execution_count": 52,
   "id": "38e18a06",
   "metadata": {},
   "outputs": [
    {
     "name": "stdout",
     "output_type": "stream",
     "text": [
      "My favourite foods are:\n",
      "['felefal', 'pepperoni', 'pizza', 'lemonade']\n",
      "\n",
      "My friend's favourite foods are:\n",
      "['felefal', 'pepperoni', 'pizza', 'sandwich']\n"
     ]
    }
   ],
   "source": [
    "my_food=[\"felefal\",\"pepperoni\",\"pizza\"]\n",
    "friend_food=my_food[:]\n",
    "my_food.append(\"lemonade\")\n",
    "friend_food.append(\"sandwich\")\n",
    "print(\"My favourite foods are:\")\n",
    "print(my_food)\n",
    "print(\"\\nMy friend's favourite foods are:\")\n",
    "print(friend_food)"
   ]
  },
  {
   "cell_type": "code",
   "execution_count": 53,
   "id": "43512276",
   "metadata": {},
   "outputs": [
    {
     "name": "stdout",
     "output_type": "stream",
     "text": [
      "My favourite foods are:\n",
      "['felefal', 'pepperoni', 'pizza', 'lemonade', 'sandwich']\n",
      "\n",
      "My friend's favourite foods are:\n",
      "['felefal', 'pepperoni', 'pizza', 'lemonade', 'sandwich']\n"
     ]
    }
   ],
   "source": [
    "my_food=[\"felefal\",\"pepperoni\",\"pizza\"]\n",
    "friend_food=my_food\n",
    "my_food.append(\"lemonade\")\n",
    "friend_food.append(\"sandwich\")\n",
    "print(\"My favourite foods are:\")\n",
    "print(my_food)\n",
    "print(\"\\nMy friend's favourite foods are:\")\n",
    "print(friend_food)"
   ]
  },
  {
   "cell_type": "markdown",
   "id": "d211db42",
   "metadata": {},
   "source": [
    "# 元组"
   ]
  },
  {
   "cell_type": "code",
   "execution_count": 54,
   "id": "b79cffc3",
   "metadata": {},
   "outputs": [
    {
     "name": "stdout",
     "output_type": "stream",
     "text": [
      "200\n",
      "15\n"
     ]
    }
   ],
   "source": [
    "#圆括号#元组几乎不能改\n",
    "dimensions=(200,15)\n",
    "print(dimensions[0])\n",
    "print(dimensions[1])"
   ]
  },
  {
   "cell_type": "markdown",
   "id": "07aca25a",
   "metadata": {},
   "source": [
    "作业"
   ]
  },
  {
   "cell_type": "code",
   "execution_count": 10,
   "id": "01063782",
   "metadata": {},
   "outputs": [
    {
     "name": "stdout",
     "output_type": "stream",
     "text": [
      "[1, 2, 3, 4, 5, 6, 7, 8, 9, 10, 11, 12, 13, 14, 15, 16, 17, 18, 19, 20]\n"
     ]
    }
   ],
   "source": [
    "nums=[value for value in range(1,21) ]\n",
    "print(nums)"
   ]
  },
  {
   "cell_type": "code",
   "execution_count": 15,
   "id": "f718e519",
   "metadata": {},
   "outputs": [
    {
     "name": "stdout",
     "output_type": "stream",
     "text": [
      "1\n",
      "2\n",
      "3\n",
      "4\n",
      "5\n",
      "6\n",
      "7\n",
      "8\n",
      "9\n",
      "10\n",
      "11\n",
      "12\n",
      "13\n",
      "14\n",
      "15\n",
      "16\n",
      "17\n",
      "18\n",
      "19\n",
      "20\n",
      "21\n",
      "22\n",
      "23\n",
      "24\n",
      "25\n",
      "26\n",
      "27\n",
      "28\n",
      "29\n",
      "30\n",
      "31\n",
      "32\n",
      "33\n",
      "34\n",
      "35\n",
      "36\n",
      "37\n",
      "38\n",
      "39\n",
      "40\n",
      "41\n",
      "42\n",
      "43\n",
      "44\n",
      "45\n",
      "46\n",
      "47\n",
      "48\n",
      "49\n",
      "50\n",
      "51\n",
      "52\n",
      "53\n",
      "54\n",
      "55\n",
      "56\n",
      "57\n",
      "58\n",
      "59\n",
      "60\n",
      "61\n",
      "62\n",
      "63\n",
      "64\n",
      "65\n",
      "66\n",
      "67\n",
      "68\n",
      "69\n",
      "70\n",
      "71\n",
      "72\n",
      "73\n",
      "74\n",
      "75\n",
      "76\n",
      "77\n",
      "78\n",
      "79\n",
      "80\n",
      "81\n",
      "82\n",
      "83\n",
      "84\n",
      "85\n",
      "86\n",
      "87\n",
      "88\n",
      "89\n",
      "90\n",
      "91\n",
      "92\n",
      "93\n",
      "94\n",
      "95\n",
      "96\n",
      "97\n",
      "98\n",
      "99\n"
     ]
    }
   ],
   "source": [
    "nums=(list(range(1,100)))\n",
    "for value in nums:\n",
    "    print (value)"
   ]
  },
  {
   "cell_type": "code",
   "execution_count": 18,
   "id": "66c3122b",
   "metadata": {},
   "outputs": [
    {
     "name": "stdout",
     "output_type": "stream",
     "text": [
      "1\n",
      "99\n",
      "4950\n"
     ]
    }
   ],
   "source": [
    "nums=(list(range(1,100)))\n",
    "print(min(nums))\n",
    "print(max(nums))\n",
    "print(sum(nums))"
   ]
  },
  {
   "cell_type": "code",
   "execution_count": 21,
   "id": "296b4284",
   "metadata": {},
   "outputs": [
    {
     "name": "stdout",
     "output_type": "stream",
     "text": [
      "1\n",
      "3\n",
      "5\n",
      "7\n",
      "9\n",
      "11\n",
      "13\n",
      "15\n",
      "17\n",
      "19\n"
     ]
    }
   ],
   "source": [
    "nums=list(range(1,20,2))\n",
    "for num in nums:\n",
    "    print(num)"
   ]
  },
  {
   "cell_type": "code",
   "execution_count": null,
   "id": "f08a55d8",
   "metadata": {},
   "outputs": [],
   "source": [
    "nums=list()#3 的倍数　创建一个列表，其中包含 3～30 内能被 3 整除的\n",
    "数，再使用一个 for 循环将这个列表中的数打印出来\n"
   ]
  },
  {
   "cell_type": "code",
   "execution_count": 22,
   "id": "980a0526",
   "metadata": {},
   "outputs": [
    {
     "name": "stdout",
     "output_type": "stream",
     "text": [
      "0\n",
      "1\n",
      "8\n",
      "27\n",
      "64\n",
      "125\n",
      "216\n",
      "343\n",
      "512\n",
      "729\n",
      "1000\n"
     ]
    }
   ],
   "source": [
    "nums=list(range(11))\n",
    "for value in nums:\n",
    "    print(value**3)"
   ]
  },
  {
   "cell_type": "code",
   "execution_count": 24,
   "id": "03d93b44",
   "metadata": {},
   "outputs": [
    {
     "name": "stdout",
     "output_type": "stream",
     "text": [
      "[0, 1, 8, 27, 64, 125, 216, 343, 512, 729, 1000]\n"
     ]
    }
   ],
   "source": [
    "squares=[value**3 for value in range(11)]\n",
    "print(squares)"
   ]
  },
  {
   "cell_type": "code",
   "execution_count": null,
   "id": "c6f0dff2",
   "metadata": {},
   "outputs": [],
   "source": [
    "nums="
   ]
  }
 ],
 "metadata": {
  "kernelspec": {
   "display_name": "Python 3 (ipykernel)",
   "language": "python",
   "name": "python3"
  },
  "language_info": {
   "codemirror_mode": {
    "name": "ipython",
    "version": 3
   },
   "file_extension": ".py",
   "mimetype": "text/x-python",
   "name": "python",
   "nbconvert_exporter": "python",
   "pygments_lexer": "ipython3",
   "version": "3.11.3"
  }
 },
 "nbformat": 4,
 "nbformat_minor": 5
}
