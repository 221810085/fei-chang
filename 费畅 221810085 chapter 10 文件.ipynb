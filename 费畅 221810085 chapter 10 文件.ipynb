{
 "cells": [
  {
   "cell_type": "markdown",
   "id": "14cee7ac",
   "metadata": {},
   "source": [
    "# 文件和异常"
   ]
  },
  {
   "cell_type": "markdown",
   "id": "d88b9c57",
   "metadata": {},
   "source": [
    "## 读取文件"
   ]
  },
  {
   "cell_type": "code",
   "execution_count": 15,
   "id": "2e460744",
   "metadata": {},
   "outputs": [
    {
     "name": "stdout",
     "output_type": "stream",
     "text": [
      "3.1415926535\n",
      " 8979323846\n",
      " 2643383279\n"
     ]
    }
   ],
   "source": [
    "from pathlib import Path#路径，是文件或文件夹在系统中的准确位置，读取文本文件的内容到变量中\n",
    "path = Path('pi_digits.txt')\n",
    "contents = path.read_text()\n",
    "contents=contents.rstrip()#删除末尾的空行（其实也看不出来），这一步没有也行\n",
    "print(contents)"
   ]
  },
  {
   "cell_type": "code",
   "execution_count": 16,
   "id": "84640f59",
   "metadata": {},
   "outputs": [
    {
     "name": "stdout",
     "output_type": "stream",
     "text": [
      "3.1415926535\n",
      " 8979323846\n",
      " 2643383279\n"
     ]
    }
   ],
   "source": [
    "from pathlib import Path#路径，是文件或文件夹在系统中的准确位置\n",
    "path = Path('pi_digits.txt')\n",
    "contents = path.read_text().rstrip()#可在调用 read_text() 后直接调用方法 rstrip(),叫做【方法链式调用】\n",
    "print(contents)"
   ]
  },
  {
   "cell_type": "markdown",
   "id": "b0513732",
   "metadata": {},
   "source": [
    "读取文件的另一种方式"
   ]
  },
  {
   "cell_type": "code",
   "execution_count": 27,
   "id": "8c6eec50",
   "metadata": {},
   "outputs": [
    {
     "name": "stdout",
     "output_type": "stream",
     "text": [
      "3.1415926535\n",
      " 8979323846\n",
      " 2643383279\n"
     ]
    }
   ],
   "source": [
    "with open ('pi_digits.txt') as file:\n",
    "    messages=file.read()#这里就直接read()\n",
    "    print(messages)"
   ]
  },
  {
   "cell_type": "markdown",
   "id": "8b3327b9",
   "metadata": {},
   "source": [
    "相对文件路径：（都在一个目录里） Python 到相对于当前运行的程序所在目录的指定位置去查找，详见书本237"
   ]
  },
  {
   "cell_type": "code",
   "execution_count": 41,
   "id": "fff60879",
   "metadata": {},
   "outputs": [
    {
     "name": "stdout",
     "output_type": "stream",
     "text": [
      "3.1415926535\n",
      " 8979323846\n",
      " 2643383279\n"
     ]
    }
   ],
   "source": [
    "from pathlib import Path\n",
    "path = Path('./pi_digits.txt')# path = Path('text_files/filename.txt')#./../../不断逼近根目录\n",
    "contents = path.read_text()\n",
    "contents=contents.rstrip()\n",
    "print(contents)"
   ]
  },
  {
   "cell_type": "markdown",
   "id": "8961cd78",
   "metadata": {},
   "source": [
    "绝对文件路径：（不在一个目录里，从根开始）准确位置，比较长，以系统的根文件夹为起点，path = Path('/home/eric/data_files/text_files/filename.txt')"
   ]
  },
  {
   "cell_type": "code",
   "execution_count": 10,
   "id": "87806ad4",
   "metadata": {},
   "outputs": [
    {
     "name": "stdout",
     "output_type": "stream",
     "text": [
      "3.1415926535\n",
      " 8979323846\n",
      " 2643383279\n"
     ]
    }
   ],
   "source": [
    "from pathlib import Path\n",
    "path=Path('C:/Users/lenovo/pi_digits.txt')\n",
    "contents = path.read_text()\n",
    "contents=contents.rstrip()\n",
    "print(contents)"
   ]
  },
  {
   "cell_type": "markdown",
   "id": "a10843e9",
   "metadata": {},
   "source": [
    "访问文件中的各行,用 splitlines() 方法将冗长的字符串转换为一系列行，再使用for 循环以每次一行的方式检查文件中的各行："
   ]
  },
  {
   "cell_type": "code",
   "execution_count": 42,
   "id": "5ece5695",
   "metadata": {},
   "outputs": [
    {
     "name": "stdout",
     "output_type": "stream",
     "text": [
      "3.1415926535\n",
      " 8979323846\n",
      " 2643383279\n"
     ]
    }
   ],
   "source": [
    "from pathlib import Path\n",
    "path = Path('pi_digits.txt')\n",
    "contents = path.read_text()\n",
    "lines = contents.splitlines()#该方法将冗长字符串转换成一系列行\n",
    "for line in lines:\n",
    "    print(line)"
   ]
  },
  {
   "cell_type": "markdown",
   "id": "fc91cf44",
   "metadata": {},
   "source": [
    "使用文件的内容"
   ]
  },
  {
   "cell_type": "code",
   "execution_count": 74,
   "id": "52ae5755",
   "metadata": {},
   "outputs": [
    {
     "name": "stdout",
     "output_type": "stream",
     "text": [
      "3.1415926535 8979323846 2643383279\n",
      "34\n"
     ]
    }
   ],
   "source": [
    "from pathlib import Path\n",
    "path = Path('pi_digits.txt')\n",
    "contents = path.read_text()\n",
    "lines = contents.splitlines()\n",
    "\n",
    "pi_string = ''\n",
    "for line in lines:\n",
    "    pi_string += line\n",
    "print(pi_string)\n",
    "print(len(pi_string))"
   ]
  },
  {
   "cell_type": "code",
   "execution_count": 75,
   "id": "d038212b",
   "metadata": {},
   "outputs": [
    {
     "name": "stdout",
     "output_type": "stream",
     "text": [
      "3.141592653589793238462643383279\n",
      "32\n"
     ]
    }
   ],
   "source": [
    "from pathlib import Path\n",
    "path = Path('pi_digits.txt')\n",
    "contents = path.read_text()\n",
    "lines = contents.splitlines()\n",
    "\n",
    "pi_string = ''\n",
    "for line in lines:\n",
    "    pi_string += line.lstrip()#删除左端的空格\n",
    "print(pi_string)\n",
    "print(len(pi_string))"
   ]
  },
  {
   "cell_type": "markdown",
   "id": "edc9370f",
   "metadata": {},
   "source": [
    "圆周率中包含你的生日吗"
   ]
  },
  {
   "cell_type": "code",
   "execution_count": 80,
   "id": "ef0a03c7",
   "metadata": {},
   "outputs": [
    {
     "name": "stdout",
     "output_type": "stream",
     "text": [
      "Enter your birthday, in the form mmddyy: 042104\n",
      "Your birthday does not appear in the first million digits of pi.\n"
     ]
    }
   ],
   "source": [
    "from pathlib import Path\n",
    "path = Path('pi_digits.txt')\n",
    "contents = path.read_text()\n",
    "lines = contents.splitlines()\n",
    "\n",
    "pi_string = ''\n",
    "for line in lines:\n",
    "    pi_string += line.strip()\n",
    "\n",
    "birthday = input(\"Enter your birthday, in the form mmddyy: \")\n",
    "if birthday in pi_string:\n",
    "    print(\"Your birthday appears in the first 30 digits of pi!\")\n",
    "    \n",
    "else:\n",
    "    print(\"Your birthday does not appear in the first million digits of pi.\")\n"
   ]
  },
  {
   "cell_type": "markdown",
   "id": "7e34db33",
   "metadata": {},
   "source": [
    "## 写入文件"
   ]
  },
  {
   "cell_type": "markdown",
   "id": "ba2d874f",
   "metadata": {},
   "source": [
    "写入单行"
   ]
  },
  {
   "cell_type": "code",
   "execution_count": 49,
   "id": "1522d70a",
   "metadata": {},
   "outputs": [
    {
     "data": {
      "text/plain": [
       "19"
      ]
     },
     "execution_count": 49,
     "metadata": {},
     "output_type": "execute_result"
    }
   ],
   "source": [
    "from pathlib import Path\n",
    "path = Path('programming.txt')\n",
    "path.write_text(\"I love programming.\")#write_text() 方法接受单个实参，即要写入文件的字符串.然后可以返回目录，发现已经存在这样一个文件了"
   ]
  },
  {
   "cell_type": "markdown",
   "id": "c0bd39f0",
   "metadata": {},
   "source": [
    "写入多行"
   ]
  },
  {
   "cell_type": "code",
   "execution_count": 5,
   "id": "bd3cf975",
   "metadata": {},
   "outputs": [
    {
     "data": {
      "text/plain": [
       "78"
      ]
     },
     "execution_count": 5,
     "metadata": {},
     "output_type": "execute_result"
    }
   ],
   "source": [
    "from pathlib import Path\n",
    "path = Path('programming.txt')\n",
    "contents = \"I love programming.\\n\"\n",
    "contents += \"I love creating new games.\\n\"\n",
    "contents += \"I also love working with data.\\n\"\n",
    "path.write_text(contents)"
   ]
  },
  {
   "cell_type": "code",
   "execution_count": 11,
   "id": "58e9fb3a",
   "metadata": {},
   "outputs": [
    {
     "data": {
      "text/plain": [
       "21"
      ]
     },
     "execution_count": 11,
     "metadata": {},
     "output_type": "execute_result"
    }
   ],
   "source": [
    "from pathlib import Path\n",
    "path=Path(\"programming.txt\")\n",
    "contents = \"I love programming.\\n\"\n",
    "contents+=str(1)#要将数值数据存储到文本文件中，必须先使用函数 str() 将其转换为字符串格式\n",
    "path.write_text(contents)"
   ]
  },
  {
   "cell_type": "markdown",
   "id": "b27b8f34",
   "metadata": {},
   "source": [
    "写进数据"
   ]
  },
  {
   "cell_type": "code",
   "execution_count": 12,
   "id": "6af68190",
   "metadata": {},
   "outputs": [
    {
     "data": {
      "text/plain": [
       "5"
      ]
     },
     "execution_count": 12,
     "metadata": {},
     "output_type": "execute_result"
    }
   ],
   "source": [
    "from pathlib import Path\n",
    "path = Path('programming.txt')\n",
    "path.write_text(\"10000\")"
   ]
  },
  {
   "cell_type": "code",
   "execution_count": 7,
   "id": "d27df4bf",
   "metadata": {},
   "outputs": [
    {
     "data": {
      "text/plain": [
       "9"
      ]
     },
     "execution_count": 7,
     "metadata": {},
     "output_type": "execute_result"
    }
   ],
   "source": [
    "file =open(\"programming.txt\",\"a\")\n",
    "file.write(\"200000000\")"
   ]
  },
  {
   "cell_type": "markdown",
   "id": "0f4c0e31",
   "metadata": {},
   "source": [
    "写入文件的另一种方式"
   ]
  },
  {
   "cell_type": "code",
   "execution_count": 24,
   "id": "9ba4b916",
   "metadata": {},
   "outputs": [],
   "source": [
    "with open ('greet.txt','w') as file:\n",
    "    file.write(\"hello\")#直接write即可"
   ]
  },
  {
   "cell_type": "markdown",
   "id": "0f5d445c",
   "metadata": {},
   "source": [
    "## 异常 "
   ]
  },
  {
   "cell_type": "markdown",
   "id": "b15bc2c2",
   "metadata": {},
   "source": [
    "用try-except来处理除0错误，可以让下面的代码继续运行，相对于汽车轮胎修理工，暂时修补，整个程序不会受影响"
   ]
  },
  {
   "cell_type": "code",
   "execution_count": 4,
   "id": "08911989",
   "metadata": {},
   "outputs": [
    {
     "ename": "ZeroDivisionError",
     "evalue": "division by zero",
     "output_type": "error",
     "traceback": [
      "\u001b[1;31m---------------------------------------------------------------------------\u001b[0m",
      "\u001b[1;31mZeroDivisionError\u001b[0m                         Traceback (most recent call last)",
      "Cell \u001b[1;32mIn[4], line 1\u001b[0m\n\u001b[1;32m----> 1\u001b[0m \u001b[38;5;28mprint\u001b[39m(\u001b[38;5;241m5\u001b[39m\u001b[38;5;241m/\u001b[39m\u001b[38;5;241m0\u001b[39m)\n",
      "\u001b[1;31mZeroDivisionError\u001b[0m: division by zero"
     ]
    }
   ],
   "source": [
    "print(5/0)"
   ]
  },
  {
   "cell_type": "code",
   "execution_count": 2,
   "id": "2b36d16c",
   "metadata": {},
   "outputs": [
    {
     "name": "stdout",
     "output_type": "stream",
     "text": [
      "You cant't divide by zero.\n",
      "Continue!\n"
     ]
    }
   ],
   "source": [
    "try:\n",
    "    print(5/0)\n",
    "except ZeroDivisionError:\n",
    "    print(\"You cant't divide by zero.\")\n",
    "print('Continue!')"
   ]
  },
  {
   "cell_type": "code",
   "execution_count": 3,
   "id": "1d81d20d",
   "metadata": {},
   "outputs": [
    {
     "name": "stdout",
     "output_type": "stream",
     "text": [
      "1.0\n"
     ]
    }
   ],
   "source": [
    "print(5/5)"
   ]
  },
  {
   "cell_type": "markdown",
   "id": "b8a3042d",
   "metadata": {},
   "source": [
    "使用异常避免崩溃"
   ]
  },
  {
   "cell_type": "code",
   "execution_count": 8,
   "id": "e2e37e0a",
   "metadata": {},
   "outputs": [
    {
     "name": "stdout",
     "output_type": "stream",
     "text": [
      "Give me two numbers, and I'll divide them.\n",
      "Enter 'q' to quit.\n",
      "\n",
      "First number: 2\n",
      "Second number: 9\n",
      "0.2222222222222222\n",
      "\n",
      "First number: 3\n",
      "Second number: 0\n"
     ]
    },
    {
     "ename": "ZeroDivisionError",
     "evalue": "division by zero",
     "output_type": "error",
     "traceback": [
      "\u001b[1;31m---------------------------------------------------------------------------\u001b[0m",
      "\u001b[1;31mZeroDivisionError\u001b[0m                         Traceback (most recent call last)",
      "Cell \u001b[1;32mIn[8], line 10\u001b[0m\n\u001b[0;32m      8\u001b[0m \u001b[38;5;28;01mif\u001b[39;00m second_number \u001b[38;5;241m==\u001b[39m \u001b[38;5;124m'\u001b[39m\u001b[38;5;124mq\u001b[39m\u001b[38;5;124m'\u001b[39m:\n\u001b[0;32m      9\u001b[0m     \u001b[38;5;28;01mbreak\u001b[39;00m\n\u001b[1;32m---> 10\u001b[0m answer \u001b[38;5;241m=\u001b[39m \u001b[38;5;28mint\u001b[39m(first_number) \u001b[38;5;241m/\u001b[39m \u001b[38;5;28mint\u001b[39m(second_number)\n\u001b[0;32m     11\u001b[0m \u001b[38;5;28mprint\u001b[39m(answer)\n",
      "\u001b[1;31mZeroDivisionError\u001b[0m: division by zero"
     ]
    }
   ],
   "source": [
    "print(\"Give me two numbers, and I'll divide them.\")\n",
    "print(\"Enter 'q' to quit.\")\n",
    "while True:\n",
    "    first_number = input(\"\\nFirst number: \")\n",
    "    if first_number == 'q':\n",
    "        break\n",
    "    second_number = input(\"Second number: \")\n",
    "    if second_number == 'q':\n",
    "        break\n",
    "    answer = int(first_number) / int(second_number)\n",
    "    print(answer)"
   ]
  },
  {
   "cell_type": "markdown",
   "id": "ee1b72e2",
   "metadata": {},
   "source": [
    "用try-except 让代码规避分母为0"
   ]
  },
  {
   "cell_type": "code",
   "execution_count": 9,
   "id": "8c8e6303",
   "metadata": {},
   "outputs": [
    {
     "name": "stdout",
     "output_type": "stream",
     "text": [
      "Give me two numbers, and I'll divide them.\n",
      "Enter 'q' to quit.\n",
      "\n",
      "First number: 3\n",
      "Second number: 9\n",
      "0.3333333333333333\n",
      "\n",
      "First number: 4\n",
      "Second number: 0\n",
      "The second number is zero.\n",
      "\n",
      "First number: q\n"
     ]
    }
   ],
   "source": [
    "print(\"Give me two numbers, and I'll divide them.\")\n",
    "print(\"Enter 'q' to quit.\")\n",
    "while True:\n",
    "    first_number = input(\"\\nFirst number: \")\n",
    "    if first_number == 'q':\n",
    "        break\n",
    "    second_number = input(\"Second number: \")\n",
    "    if second_number == 'q':\n",
    "        break\n",
    "    try:\n",
    "        answer = int(first_number) / int(second_number)\n",
    "        print(answer)\n",
    "    except ZeroDivisionError:\n",
    "        print('The second number is zero.')\n",
    "        \n",
    "   "
   ]
  },
  {
   "cell_type": "markdown",
   "id": "2e8ff2dc",
   "metadata": {},
   "source": [
    "try-except与else的结合"
   ]
  },
  {
   "cell_type": "code",
   "execution_count": 11,
   "id": "cf7c9b8a",
   "metadata": {},
   "outputs": [
    {
     "name": "stdout",
     "output_type": "stream",
     "text": [
      "Give me two numbers, and I'll divide them.\n",
      "Enter 'q' to quit.\n",
      "\n",
      "First number: 2\n",
      "Second number: 3\n",
      "0.6666666666666666\n",
      "\n",
      "First number: 9\n",
      "Second number: 0\n",
      "The second number is zero.\n",
      "\n",
      "First number: q\n"
     ]
    }
   ],
   "source": [
    "print(\"Give me two numbers, and I'll divide them.\")\n",
    "print(\"Enter 'q' to quit.\")\n",
    "while True:\n",
    "    first_number = input(\"\\nFirst number: \")\n",
    "    if first_number == 'q':\n",
    "        break\n",
    "    second_number = input(\"Second number: \")\n",
    "    if second_number == 'q':\n",
    "        break\n",
    "    try:\n",
    "        answer = int(first_number) / int(second_number)\n",
    "    except ZeroDivisionError:\n",
    "        print('The second number is zero.')\n",
    "    else:\n",
    "        print(answer)#这个和上面的代码效果一致"
   ]
  },
  {
   "cell_type": "markdown",
   "id": "15dff8c1",
   "metadata": {},
   "source": [
    "10.3.5 　处理 FileNotFoundError 异常：找不到文件的错误"
   ]
  },
  {
   "cell_type": "code",
   "execution_count": 12,
   "id": "5156f963",
   "metadata": {},
   "outputs": [
    {
     "ename": "FileNotFoundError",
     "evalue": "[Errno 2] No such file or directory: 'alice.txt'",
     "output_type": "error",
     "traceback": [
      "\u001b[1;31m---------------------------------------------------------------------------\u001b[0m",
      "\u001b[1;31mFileNotFoundError\u001b[0m                         Traceback (most recent call last)",
      "Cell \u001b[1;32mIn[12], line 3\u001b[0m\n\u001b[0;32m      1\u001b[0m \u001b[38;5;28;01mfrom\u001b[39;00m \u001b[38;5;21;01mpathlib\u001b[39;00m \u001b[38;5;28;01mimport\u001b[39;00m Path\n\u001b[0;32m      2\u001b[0m path \u001b[38;5;241m=\u001b[39m Path(\u001b[38;5;124m'\u001b[39m\u001b[38;5;124malice.txt\u001b[39m\u001b[38;5;124m'\u001b[39m)\n\u001b[1;32m----> 3\u001b[0m contents \u001b[38;5;241m=\u001b[39m path\u001b[38;5;241m.\u001b[39mread_text(encoding\u001b[38;5;241m=\u001b[39m\u001b[38;5;124m'\u001b[39m\u001b[38;5;124mutf-8\u001b[39m\u001b[38;5;124m'\u001b[39m)\n",
      "File \u001b[1;32mD:\\anaconda\\Lib\\pathlib.py:1058\u001b[0m, in \u001b[0;36mPath.read_text\u001b[1;34m(self, encoding, errors)\u001b[0m\n\u001b[0;32m   1054\u001b[0m \u001b[38;5;250m\u001b[39m\u001b[38;5;124;03m\"\"\"\u001b[39;00m\n\u001b[0;32m   1055\u001b[0m \u001b[38;5;124;03mOpen the file in text mode, read it, and close the file.\u001b[39;00m\n\u001b[0;32m   1056\u001b[0m \u001b[38;5;124;03m\"\"\"\u001b[39;00m\n\u001b[0;32m   1057\u001b[0m encoding \u001b[38;5;241m=\u001b[39m io\u001b[38;5;241m.\u001b[39mtext_encoding(encoding)\n\u001b[1;32m-> 1058\u001b[0m \u001b[38;5;28;01mwith\u001b[39;00m \u001b[38;5;28mself\u001b[39m\u001b[38;5;241m.\u001b[39mopen(mode\u001b[38;5;241m=\u001b[39m\u001b[38;5;124m'\u001b[39m\u001b[38;5;124mr\u001b[39m\u001b[38;5;124m'\u001b[39m, encoding\u001b[38;5;241m=\u001b[39mencoding, errors\u001b[38;5;241m=\u001b[39merrors) \u001b[38;5;28;01mas\u001b[39;00m f:\n\u001b[0;32m   1059\u001b[0m     \u001b[38;5;28;01mreturn\u001b[39;00m f\u001b[38;5;241m.\u001b[39mread()\n",
      "File \u001b[1;32mD:\\anaconda\\Lib\\pathlib.py:1044\u001b[0m, in \u001b[0;36mPath.open\u001b[1;34m(self, mode, buffering, encoding, errors, newline)\u001b[0m\n\u001b[0;32m   1042\u001b[0m \u001b[38;5;28;01mif\u001b[39;00m \u001b[38;5;124m\"\u001b[39m\u001b[38;5;124mb\u001b[39m\u001b[38;5;124m\"\u001b[39m \u001b[38;5;129;01mnot\u001b[39;00m \u001b[38;5;129;01min\u001b[39;00m mode:\n\u001b[0;32m   1043\u001b[0m     encoding \u001b[38;5;241m=\u001b[39m io\u001b[38;5;241m.\u001b[39mtext_encoding(encoding)\n\u001b[1;32m-> 1044\u001b[0m \u001b[38;5;28;01mreturn\u001b[39;00m io\u001b[38;5;241m.\u001b[39mopen(\u001b[38;5;28mself\u001b[39m, mode, buffering, encoding, errors, newline)\n",
      "\u001b[1;31mFileNotFoundError\u001b[0m: [Errno 2] No such file or directory: 'alice.txt'"
     ]
    }
   ],
   "source": [
    "from pathlib import Path\n",
    "path = Path('alice.txt')\n",
    "contents = path.read_text(encoding='utf-8')#文字的编码，指明了读取时所用的文件编码\n"
   ]
  },
  {
   "cell_type": "code",
   "execution_count": 13,
   "id": "66d2ead2",
   "metadata": {},
   "outputs": [
    {
     "name": "stdout",
     "output_type": "stream",
     "text": [
      "Sorry, the file alice.txt does not exist.\n"
     ]
    }
   ],
   "source": [
    "from pathlib import Path\n",
    "path = Path('alice.txt')\n",
    "try:\n",
    "    contents = path.read_text(encoding='utf-8')\n",
    "except FileNotFoundError:\n",
    "    print(f\"Sorry, the file {path} does not exist.\")#而显示一条友好的错误消息，而不是 长长的难以理解的traceback"
   ]
  },
  {
   "cell_type": "markdown",
   "id": "0db8b1a5",
   "metadata": {},
   "source": [
    "10.3.6 分析文本"
   ]
  },
  {
   "cell_type": "code",
   "execution_count": 8,
   "id": "e7c67376",
   "metadata": {},
   "outputs": [
    {
     "name": "stdout",
     "output_type": "stream",
     "text": [
      "The file programming.txt has about 14 words.\n"
     ]
    }
   ],
   "source": [
    "from pathlib import Path\n",
    "path = Path('programming.txt')\n",
    "try:\n",
    "    contents=path.read_text(encoding='utf-8')\n",
    "except FileNotFoundError:\n",
    "    print(f\"Sorry, the file {path} does not exist.\")\n",
    "else:\n",
    " #计算文件大致包含多少个单词\n",
    "    words = contents.split()#调用 split() 方法，生成一个列表，其中包含这部童话中的所有单词\n",
    "    num_words = len(words)#计算长度\n",
    "    print(f\"The file {path} has about {num_words} words.\")\n"
   ]
  },
  {
   "cell_type": "markdown",
   "id": "d043a3a0",
   "metadata": {},
   "source": [
    "使用多个文件"
   ]
  },
  {
   "cell_type": "code",
   "execution_count": 11,
   "id": "70eff764",
   "metadata": {},
   "outputs": [
    {
     "name": "stdout",
     "output_type": "stream",
     "text": [
      "The file programming.txt has about 28 words.\n",
      "The file programming.txt has about 28 words.\n",
      "The file learning_python.txt has about 26 words.\n"
     ]
    }
   ],
   "source": [
    "from pathlib import Path\n",
    "def count_words(path):\n",
    "    try:\n",
    "        contents=path.read_text(encoding='utf-8')\n",
    "    except FileNotFoundError:\n",
    "        print(f\"Sorry, the file {path} does not exist.\")\n",
    "    else:\n",
    " #计算文件大致包含多少个单词\n",
    "        words = contents.split()#调用 split() 方法，生成一个列表，其中包含这部童话中的所有单词\n",
    "        num_words = len(words)#计算长度\n",
    "        print(f\"The file {path} has about {num_words} words.\")\n",
    "        \n",
    "path=Path('programming.txt')\n",
    "count_words(path)\n",
    "\n",
    "files=['programming.txt','learning_python.txt']\n",
    "for file in files:\n",
    "    path=Path(file)\n",
    "    count_words(path)"
   ]
  },
  {
   "cell_type": "markdown",
   "id": "77efa4fc",
   "metadata": {},
   "source": [
    "静默失败,pass语句，程序在发生异常时保持静默，就像什么都\n",
    "没有发生一样继续运行"
   ]
  },
  {
   "cell_type": "code",
   "execution_count": 12,
   "id": "eea15239",
   "metadata": {},
   "outputs": [
    {
     "name": "stdout",
     "output_type": "stream",
     "text": [
      "The file programming.txt has about 28 words.\n"
     ]
    }
   ],
   "source": [
    "from pathlib import Path\n",
    "path = Path('programming.txt')\n",
    "try:\n",
    "    contents=path.read_text(encoding='utf-8')\n",
    "except:\n",
    "    pass\n",
    "else:\n",
    " #计算文件大致包含多少个单词\n",
    "    words = contents.split()#调用 split() 方法，生成一个列表，其中包含这部童话中的所有单词\n",
    "    num_words = len(words)#计算长度\n",
    "    print(f\"The file {path} has about {num_words} words.\")"
   ]
  },
  {
   "cell_type": "markdown",
   "id": "77539dbe",
   "metadata": {},
   "source": [
    "## 存储数据"
   ]
  },
  {
   "cell_type": "markdown",
   "id": "3346dc39",
   "metadata": {},
   "source": [
    "json.dumps()存储数据"
   ]
  },
  {
   "cell_type": "code",
   "execution_count": 13,
   "id": "afa12cf9",
   "metadata": {},
   "outputs": [
    {
     "data": {
      "text/plain": [
       "20"
      ]
     },
     "execution_count": 13,
     "metadata": {},
     "output_type": "execute_result"
    }
   ],
   "source": [
    "from pathlib import Path\n",
    "import json\n",
    "numbers = [2, 3, 5, 7, 11, 13]\n",
    "\n",
    "path = Path('numbers.json')#选择一个文件名，指定要将该数值列表存储到哪个文件中，.json意味着数据格式是JSON格式\n",
    "contents = json.dumps(numbers)# json.dumps() 函数生成一个字符串\n",
    "path.write_text(contents)\n"
   ]
  },
  {
   "cell_type": "markdown",
   "id": "4b0aaadf",
   "metadata": {},
   "source": [
    "json.loads()读取文件"
   ]
  },
  {
   "cell_type": "code",
   "execution_count": 15,
   "id": "3f116682",
   "metadata": {},
   "outputs": [
    {
     "name": "stdout",
     "output_type": "stream",
     "text": [
      "[2, 3, 5, 7, 11, 13]\n"
     ]
    }
   ],
   "source": [
    "from pathlib import Path\n",
    "import json\n",
    "\n",
    "path=Path('numbers.json')#确保读取的是前面写入的文件\n",
    "contents = path.read_text()\n",
    "numbers= json.loads(contents)#文件的内容传递给 json.loads()\n",
    "print(numbers)"
   ]
  },
  {
   "cell_type": "markdown",
   "id": "abdbaa20",
   "metadata": {},
   "source": [
    "保存和读取用户生成的数据"
   ]
  },
  {
   "cell_type": "code",
   "execution_count": 17,
   "id": "de988e1e",
   "metadata": {},
   "outputs": [
    {
     "name": "stdout",
     "output_type": "stream",
     "text": [
      "What is your name? feichang\n",
      "We'll remember you when you come back, feichang!\n"
     ]
    }
   ],
   "source": [
    "from pathlib import Path\n",
    "import json\n",
    "username = input(\"What is your name? \")\n",
    "path = Path('username.json')\n",
    "contents = json.dumps(username)#存储数据\n",
    "path.write_text(contents)\n",
    "print(f\"We'll remember you when you come back, {username}!\")"
   ]
  },
  {
   "cell_type": "code",
   "execution_count": 23,
   "id": "268a1dc3",
   "metadata": {},
   "outputs": [
    {
     "name": "stdout",
     "output_type": "stream",
     "text": [
      "Welcome back, feichang!\n"
     ]
    }
   ],
   "source": [
    "#编写程序，向已被存储的用户打招呼\n",
    "from pathlib import Path\n",
    "import json\n",
    "path = Path('username.json')\n",
    "contents = path.read_text()\n",
    "username = json.loads(contents)#读取到内存中\n",
    "print(f\"Welcome back, {username}!\")"
   ]
  },
  {
   "cell_type": "markdown",
   "id": "9b4fb85d",
   "metadata": {},
   "source": [
    "存储和读写的程序合二为一"
   ]
  },
  {
   "cell_type": "code",
   "execution_count": 24,
   "id": "717eedfd",
   "metadata": {},
   "outputs": [
    {
     "name": "stdout",
     "output_type": "stream",
     "text": [
      "Welcome back, feichang!\n"
     ]
    }
   ],
   "source": [
    "from pathlib import Path\n",
    "import json\n",
    "path = Path('username.json')\n",
    "if path.exists():#用exists()检验是否存储了用户名\n",
    "    contents = path.read_text()\n",
    "    username = json.loads(contents)\n",
    "    print(f\"Welcome back, {username}!\")\n",
    "    \n",
    "else:\n",
    "    username = input(\"What is your name? \")\n",
    "    contents = json.dumps(username)\n",
    "    path.write_text(contents)\n",
    "    print(f\"We'll remember you when you come back, {username}!\")\n",
    "    "
   ]
  },
  {
   "cell_type": "markdown",
   "id": "14f4dae0",
   "metadata": {},
   "source": [
    "重构"
   ]
  },
  {
   "cell_type": "code",
   "execution_count": null,
   "id": "464ab38a",
   "metadata": {},
   "outputs": [],
   "source": [
    "详见课本"
   ]
  },
  {
   "cell_type": "markdown",
   "id": "c425c4d5",
   "metadata": {},
   "source": [
    "# 书上作业"
   ]
  },
  {
   "cell_type": "code",
   "execution_count": 82,
   "id": "20df61ed",
   "metadata": {},
   "outputs": [
    {
     "name": "stdout",
     "output_type": "stream",
     "text": [
      "In Python you can: create a list.\n",
      "In Python you can: deal with a great deal of data.\n",
      "In Python you can: define your own function.\n"
     ]
    }
   ],
   "source": [
    "#10.1\n",
    "from pathlib import Path\n",
    "path=Path('learning_python.txt')\n",
    "\n",
    "contents=path.read_text()\n",
    "print(contents)"
   ]
  },
  {
   "cell_type": "code",
   "execution_count": 83,
   "id": "e4b342a8",
   "metadata": {},
   "outputs": [
    {
     "name": "stdout",
     "output_type": "stream",
     "text": [
      "In Python you can: create a list.\n",
      "In Python you can: deal with a great deal of data.\n",
      "In Python you can: define your own function.\n"
     ]
    }
   ],
   "source": [
    "#10.1\n",
    "from pathlib import Path\n",
    "path=Path('learning_python.txt')\n",
    "\n",
    "contents=path.read_text()\n",
    "lines=contents.splitlines()\n",
    "for line in lines:\n",
    "    print(line)"
   ]
  },
  {
   "cell_type": "code",
   "execution_count": 1,
   "id": "513d14ad",
   "metadata": {},
   "outputs": [
    {
     "name": "stdout",
     "output_type": "stream",
     "text": [
      "In C you can: create a list.\n",
      "In C you can: deal with a great deal of data.\n",
      "In C you can: define your own function.\n"
     ]
    }
   ],
   "source": [
    "#10.2\n",
    "from pathlib import Path\n",
    "path=Path('learning_python.txt')\n",
    "\n",
    "contents=path.read_text()\n",
    "lines=contents.splitlines()\n",
    "for line in lines:\n",
    "    print(line.replace('Python','C'))"
   ]
  },
  {
   "cell_type": "code",
   "execution_count": 18,
   "id": "fceb7e02",
   "metadata": {},
   "outputs": [
    {
     "name": "stdout",
     "output_type": "stream",
     "text": [
      "Please tell us your name.baby\n"
     ]
    },
    {
     "data": {
      "text/plain": [
       "4"
      ]
     },
     "execution_count": 18,
     "metadata": {},
     "output_type": "execute_result"
    }
   ],
   "source": [
    "#10.4\n",
    "from pathlib import Path\n",
    "path = Path('guest_book.txt')\n",
    "\n",
    "message=input(\"Please tell us your name.\")\n",
    "\n",
    "path.write_text(message)"
   ]
  },
  {
   "cell_type": "code",
   "execution_count": 45,
   "id": "40aba8cf",
   "metadata": {},
   "outputs": [
    {
     "name": "stdout",
     "output_type": "stream",
     "text": [
      "Please enter your name:\n",
      "Enter 'q' when you quitjohn\n",
      "Please enter your name:\n",
      "Enter 'q' when you quitlily\n",
      "Please enter your name:\n",
      "Enter 'q' when you quitq\n"
     ]
    }
   ],
   "source": [
    "#10.5\n",
    "while True:\n",
    "    contents = \"Please enter your name:\"\n",
    "    contents += \"\\nEnter 'q' when you quit\"\n",
    "    text = input(contents)  \n",
    "    if text =='q':\n",
    "        break\n",
    "    with open ('guest_book.txt','a') as file:#a是指添加，append\n",
    "        file.write(f\"{text}\\n\")"
   ]
  },
  {
   "cell_type": "code",
   "execution_count": 8,
   "id": "bc067e8e",
   "metadata": {},
   "outputs": [
    {
     "name": "stdout",
     "output_type": "stream",
     "text": [
      "first number: 1\n",
      "second number: 2\n",
      "3\n"
     ]
    }
   ],
   "source": [
    "#10.6\n",
    "try:\n",
    "    number_1 = int(input(\"first number: \"))\n",
    "    number_2 = int(input(\"second number: \"))\n",
    "    result=number_1+number_2\n",
    "    print(result)\n",
    "except ValueError:\n",
    "    print('You are not inputing number.')\n",
    "    "
   ]
  },
  {
   "cell_type": "code",
   "execution_count": 16,
   "id": "6348f92b",
   "metadata": {},
   "outputs": [
    {
     "ename": "KeyboardInterrupt",
     "evalue": "Interrupted by user",
     "output_type": "error",
     "traceback": [
      "\u001b[1;31m---------------------------------------------------------------------------\u001b[0m",
      "\u001b[1;31mKeyboardInterrupt\u001b[0m                         Traceback (most recent call last)",
      "Cell \u001b[1;32mIn[16], line 4\u001b[0m\n\u001b[0;32m      2\u001b[0m \u001b[38;5;28;01mwhile\u001b[39;00m \u001b[38;5;28;01mTrue\u001b[39;00m:\n\u001b[0;32m      3\u001b[0m     \u001b[38;5;28;01mtry\u001b[39;00m:\n\u001b[1;32m----> 4\u001b[0m         number_1 \u001b[38;5;241m=\u001b[39m \u001b[38;5;28mint\u001b[39m(\u001b[38;5;28minput\u001b[39m(\u001b[38;5;124m\"\u001b[39m\u001b[38;5;124mfirst number: \u001b[39m\u001b[38;5;124m\"\u001b[39m))\n\u001b[0;32m      5\u001b[0m         number_2 \u001b[38;5;241m=\u001b[39m \u001b[38;5;28mint\u001b[39m(\u001b[38;5;28minput\u001b[39m(\u001b[38;5;124m\"\u001b[39m\u001b[38;5;124msecond number: \u001b[39m\u001b[38;5;124m\"\u001b[39m))\n\u001b[0;32m      6\u001b[0m         result\u001b[38;5;241m=\u001b[39mnumber_1\u001b[38;5;241m+\u001b[39mnumber_2\n",
      "File \u001b[1;32mD:\\anaconda\\Lib\\site-packages\\ipykernel\\kernelbase.py:1175\u001b[0m, in \u001b[0;36mKernel.raw_input\u001b[1;34m(self, prompt)\u001b[0m\n\u001b[0;32m   1171\u001b[0m \u001b[38;5;28;01mif\u001b[39;00m \u001b[38;5;129;01mnot\u001b[39;00m \u001b[38;5;28mself\u001b[39m\u001b[38;5;241m.\u001b[39m_allow_stdin:\n\u001b[0;32m   1172\u001b[0m     \u001b[38;5;28;01mraise\u001b[39;00m StdinNotImplementedError(\n\u001b[0;32m   1173\u001b[0m         \u001b[38;5;124m\"\u001b[39m\u001b[38;5;124mraw_input was called, but this frontend does not support input requests.\u001b[39m\u001b[38;5;124m\"\u001b[39m\n\u001b[0;32m   1174\u001b[0m     )\n\u001b[1;32m-> 1175\u001b[0m \u001b[38;5;28;01mreturn\u001b[39;00m \u001b[38;5;28mself\u001b[39m\u001b[38;5;241m.\u001b[39m_input_request(\n\u001b[0;32m   1176\u001b[0m     \u001b[38;5;28mstr\u001b[39m(prompt),\n\u001b[0;32m   1177\u001b[0m     \u001b[38;5;28mself\u001b[39m\u001b[38;5;241m.\u001b[39m_parent_ident[\u001b[38;5;124m\"\u001b[39m\u001b[38;5;124mshell\u001b[39m\u001b[38;5;124m\"\u001b[39m],\n\u001b[0;32m   1178\u001b[0m     \u001b[38;5;28mself\u001b[39m\u001b[38;5;241m.\u001b[39mget_parent(\u001b[38;5;124m\"\u001b[39m\u001b[38;5;124mshell\u001b[39m\u001b[38;5;124m\"\u001b[39m),\n\u001b[0;32m   1179\u001b[0m     password\u001b[38;5;241m=\u001b[39m\u001b[38;5;28;01mFalse\u001b[39;00m,\n\u001b[0;32m   1180\u001b[0m )\n",
      "File \u001b[1;32mD:\\anaconda\\Lib\\site-packages\\ipykernel\\kernelbase.py:1217\u001b[0m, in \u001b[0;36mKernel._input_request\u001b[1;34m(self, prompt, ident, parent, password)\u001b[0m\n\u001b[0;32m   1214\u001b[0m             \u001b[38;5;28;01mbreak\u001b[39;00m\n\u001b[0;32m   1215\u001b[0m \u001b[38;5;28;01mexcept\u001b[39;00m \u001b[38;5;167;01mKeyboardInterrupt\u001b[39;00m:\n\u001b[0;32m   1216\u001b[0m     \u001b[38;5;66;03m# re-raise KeyboardInterrupt, to truncate traceback\u001b[39;00m\n\u001b[1;32m-> 1217\u001b[0m     \u001b[38;5;28;01mraise\u001b[39;00m \u001b[38;5;167;01mKeyboardInterrupt\u001b[39;00m(\u001b[38;5;124m\"\u001b[39m\u001b[38;5;124mInterrupted by user\u001b[39m\u001b[38;5;124m\"\u001b[39m) \u001b[38;5;28;01mfrom\u001b[39;00m \u001b[38;5;28;01mNone\u001b[39;00m\n\u001b[0;32m   1218\u001b[0m \u001b[38;5;28;01mexcept\u001b[39;00m \u001b[38;5;167;01mException\u001b[39;00m:\n\u001b[0;32m   1219\u001b[0m     \u001b[38;5;28mself\u001b[39m\u001b[38;5;241m.\u001b[39mlog\u001b[38;5;241m.\u001b[39mwarning(\u001b[38;5;124m\"\u001b[39m\u001b[38;5;124mInvalid Message:\u001b[39m\u001b[38;5;124m\"\u001b[39m, exc_info\u001b[38;5;241m=\u001b[39m\u001b[38;5;28;01mTrue\u001b[39;00m)\n",
      "\u001b[1;31mKeyboardInterrupt\u001b[0m: Interrupted by user"
     ]
    }
   ],
   "source": [
    "#10.7\n",
    "while True:\n",
    "    try:\n",
    "        number_1 = int(input(\"first number: \"))\n",
    "        number_2 = int(input(\"second number: \"))\n",
    "        result=number_1+number_2\n",
    "        print(result)\n",
    "    except ValueError:\n",
    "        pass"
   ]
  },
  {
   "cell_type": "code",
   "execution_count": 10,
   "id": "2e209ac6",
   "metadata": {},
   "outputs": [
    {
     "name": "stdout",
     "output_type": "stream",
     "text": [
      "File not found!\n"
     ]
    }
   ],
   "source": [
    "#10.8\n",
    "from pathlib import Path\n",
    "path_1=Path('cats.txt')\n",
    "path_2=Path('dogs_10.txt')\n",
    "try:\n",
    "    print(path_1.read_text())\n",
    "    print(path_2.read_text())\n",
    "    \n",
    "except FileNotFoundError:\n",
    "    print('File not found!')#注：我已经将猫的文件移动至C盘下面的Python文件夹后，（移出至根目录后就可以，）无法有效读取了"
   ]
  },
  {
   "cell_type": "code",
   "execution_count": 15,
   "id": "0e1bc9d5",
   "metadata": {},
   "outputs": [],
   "source": [
    "#10.9\n",
    "from pathlib import Path\n",
    "path_1=Path('cats.txt')\n",
    "path_2=Path('dogs_10.txt')\n",
    "try:\n",
    "    print(path_1.read_text())\n",
    "    print(path_2.read_text())\n",
    "    \n",
    "except FileNotFoundError:\n",
    "    pass"
   ]
  },
  {
   "cell_type": "code",
   "execution_count": 22,
   "id": "d9457a75",
   "metadata": {},
   "outputs": [
    {
     "name": "stdout",
     "output_type": "stream",
     "text": [
      "5\n"
     ]
    }
   ],
   "source": [
    "#10.10\n",
    "with open ('words_10.txt') as file:\n",
    "    words=file.read()\n",
    "    number=words.lower().count('the')#方法count（）来确定特定的单词或短语在字符串中出现了多少次\n",
    "    print(number)"
   ]
  },
  {
   "cell_type": "code",
   "execution_count": 27,
   "id": "b93076d9",
   "metadata": {},
   "outputs": [
    {
     "name": "stdout",
     "output_type": "stream",
     "text": [
      "What is your favourite number?2\n",
      "I know your favorite number! It'2.\n"
     ]
    }
   ],
   "source": [
    "#10.11\n",
    "from pathlib import Path\n",
    "import json\n",
    "favourite_number=input('What is your favourite number?')\n",
    "path=Path('favourite_number.json')\n",
    "contents=json.dumps(favourite_number)\n",
    "path.write_text(contents)\n",
    "\n",
    "number=json.loads(contents)\n",
    "print(f\"I know your favorite number! It'{number}.\")"
   ]
  },
  {
   "cell_type": "code",
   "execution_count": 33,
   "id": "df874cd3",
   "metadata": {},
   "outputs": [
    {
     "name": "stdout",
     "output_type": "stream",
     "text": [
      "I know your favorite number! It'2.\n"
     ]
    }
   ],
   "source": [
    "#10.12\n",
    "from pathlib import Path\n",
    "import json\n",
    "path=Path('favourite_number.json')\n",
    "\n",
    "if path.exists():\n",
    "    contents=path.read_text()\n",
    "    number=json.loads(contents)\n",
    "    print(f\"I know your favorite number! It'{number}.\")\n",
    "else:\n",
    "    favourite_number=input('What is your favourite number?')\n",
    "    contents=json.dumps(favourite_number)\n",
    "    path.write_text(contents)"
   ]
  },
  {
   "cell_type": "code",
   "execution_count": 5,
   "id": "f0fbcf6d",
   "metadata": {},
   "outputs": [
    {
     "name": "stdout",
     "output_type": "stream",
     "text": [
      "Your name:angelababy\n",
      "Your age:35\n",
      "Your nation:china\n",
      "We have already recorded your{'username': 'angelababy', 'age': '35', 'nation': 'china'}.\n"
     ]
    }
   ],
   "source": [
    "#10.13\n",
    "from pathlib import Path\n",
    "import json\n",
    "path=Path('info.json')\n",
    "info={}\n",
    "info['username']=input(\"Your name:\")\n",
    "info['age']=input(\"Your age:\")\n",
    "info['nation']=input(\"Your nation:\")\n",
    "contents=json.dumps(info)\n",
    "path.write_text(contents)\n",
    "\n",
    "info_got=json.loads(contents)\n",
    "print(f'We have already recorded your{info}.')\n"
   ]
  },
  {
   "cell_type": "code",
   "execution_count": 4,
   "id": "751d005f",
   "metadata": {},
   "outputs": [
    {
     "name": "stdout",
     "output_type": "stream",
     "text": [
      "Welcome back, feichang!\n"
     ]
    }
   ],
   "source": [
    "#10.14\n",
    "from pathlib import Path\n",
    "import json\n",
    "\n",
    "def get_stored_username(path):\n",
    "    \"\"\"如果存储了用户名，就获取它\"\"\"\n",
    "    if path.exists():\n",
    "        contents = path.read_text()\n",
    "        username = json.loads(contents)\n",
    "        return username\n",
    "    else:\n",
    "        return None\n",
    "\n",
    "def get_new_username(path):\n",
    "    \"\"\"提示用户输入用户名\"\"\"\n",
    "    username = input(\"What is your name? \")\n",
    "    contents = json.dumps(username)\n",
    "    path.write_text(contents)\n",
    "    return username\n",
    "\n",
    "def greet_user():\n",
    "    \"\"\"问候用户，并指出其名字\"\"\"\n",
    "    path = Path('username.json')\n",
    "    username = get_stored_username(path)\n",
    "    if username:\n",
    "        print(f\"Welcome back, {username}!\")\n",
    "    else:\n",
    "        username = get_new_username(path)\n",
    "        print(f\"We'll remember you when you come back, {username}!\")\n",
    "\n",
    "greet_user()"
   ]
  },
  {
   "cell_type": "code",
   "execution_count": 6,
   "id": "b7869528",
   "metadata": {},
   "outputs": [
    {
     "name": "stdout",
     "output_type": "stream",
     "text": [
      "Welcome back, feichang!\n"
     ]
    }
   ],
   "source": [
    "#10.14\n",
    "from pathlib import Path\n",
    "import json\n",
    "\n",
    "def greet_user():\n",
    "    \"\"\"问候用户，并指出其名字\"\"\"\n",
    "    path = Path('username.json')\n",
    "\n",
    "    if path.exists():\n",
    "        contents = path.read_text()\n",
    "        username = json.loads(contents)\n",
    "        print(f\"Welcome back, {username}!\")\n",
    "\n",
    "    else:\n",
    "        username = input(\"What is your name? \")\n",
    "        contents = json.dumps(username)\n",
    "        path.write_text(contents)\n",
    "        print(f\"We'll remember you when you come back, {username}!\")\n",
    "greet_user()"
   ]
  },
  {
   "cell_type": "code",
   "execution_count": null,
   "id": "67520964",
   "metadata": {},
   "outputs": [],
   "source": []
  }
 ],
 "metadata": {
  "kernelspec": {
   "display_name": "Python 3 (ipykernel)",
   "language": "python",
   "name": "python3"
  },
  "language_info": {
   "codemirror_mode": {
    "name": "ipython",
    "version": 3
   },
   "file_extension": ".py",
   "mimetype": "text/x-python",
   "name": "python",
   "nbconvert_exporter": "python",
   "pygments_lexer": "ipython3",
   "version": "3.11.3"
  }
 },
 "nbformat": 4,
 "nbformat_minor": 5
}
