{
 "cells": [
  {
   "cell_type": "code",
   "execution_count": 1,
   "id": "162866c7",
   "metadata": {},
   "outputs": [
    {
     "name": "stdout",
     "output_type": "stream",
     "text": [
      "3\n"
     ]
    }
   ],
   "source": [
    "print(1+2)"
   ]
  },
  {
   "cell_type": "code",
   "execution_count": 4,
   "id": "c2e5822e",
   "metadata": {},
   "outputs": [
    {
     "name": "stdout",
     "output_type": "stream",
     "text": [
      "0.75\n"
     ]
    }
   ],
   "source": [
    "print(3/4)"
   ]
  },
  {
   "cell_type": "code",
   "execution_count": 5,
   "id": "afd77dcc",
   "metadata": {},
   "outputs": [
    {
     "name": "stdout",
     "output_type": "stream",
     "text": [
      "81\n"
     ]
    }
   ],
   "source": [
    "print(3**4)"
   ]
  },
  {
   "cell_type": "code",
   "execution_count": 6,
   "id": "4f693a4e",
   "metadata": {},
   "outputs": [
    {
     "name": "stdout",
     "output_type": "stream",
     "text": [
      "True\n"
     ]
    }
   ],
   "source": [
    "print(True)"
   ]
  },
  {
   "cell_type": "code",
   "execution_count": 7,
   "id": "dbd3ea4d",
   "metadata": {},
   "outputs": [
    {
     "data": {
      "text/plain": [
       "True"
      ]
     },
     "execution_count": 7,
     "metadata": {},
     "output_type": "execute_result"
    }
   ],
   "source": [
    "True==1"
   ]
  },
  {
   "cell_type": "code",
   "execution_count": 8,
   "id": "3f926729",
   "metadata": {},
   "outputs": [
    {
     "data": {
      "text/plain": [
       "True"
      ]
     },
     "execution_count": 8,
     "metadata": {},
     "output_type": "execute_result"
    }
   ],
   "source": [
    "False==0"
   ]
  },
  {
   "cell_type": "code",
   "execution_count": 9,
   "id": "cfa582df",
   "metadata": {},
   "outputs": [
    {
     "data": {
      "text/plain": [
       "1"
      ]
     },
     "execution_count": 9,
     "metadata": {},
     "output_type": "execute_result"
    }
   ],
   "source": [
    "x,y,z=1,2,3\n",
    "x"
   ]
  },
  {
   "cell_type": "code",
   "execution_count": 11,
   "id": "6e0be96c",
   "metadata": {},
   "outputs": [
    {
     "data": {
      "text/plain": [
       "2"
      ]
     },
     "execution_count": 11,
     "metadata": {},
     "output_type": "execute_result"
    }
   ],
   "source": [
    "y"
   ]
  },
  {
   "cell_type": "code",
   "execution_count": 12,
   "id": "5cb95ead",
   "metadata": {},
   "outputs": [
    {
     "data": {
      "text/plain": [
       "3"
      ]
     },
     "execution_count": 12,
     "metadata": {},
     "output_type": "execute_result"
    }
   ],
   "source": [
    "#同时赋值\n",
    "z"
   ]
  },
  {
   "cell_type": "code",
   "execution_count": 17,
   "id": "7303983f",
   "metadata": {},
   "outputs": [
    {
     "name": "stdout",
     "output_type": "stream",
     "text": [
      "apple\n",
      "pineapple\n"
     ]
    }
   ],
   "source": [
    "buses=[\"apple\",\"pen\",\"pineapple\"]  \n",
    "print(buses[0])  \n",
    "print(buses[-1])"
   ]
  },
  {
   "cell_type": "code",
   "execution_count": 27,
   "id": "4a2d34c9",
   "metadata": {},
   "outputs": [
    {
     "name": "stdout",
     "output_type": "stream",
     "text": [
      "['ugly', 'hello', 'beauty']\n"
     ]
    }
   ],
   "source": [
    "trains=[\"ugly\",\"hello\"]\n",
    "trains.insert(2,\"beauty\")\n",
    "\n",
    "print(trains)"
   ]
  },
  {
   "cell_type": "code",
   "execution_count": 25,
   "id": "893e8401",
   "metadata": {},
   "outputs": [
    {
     "name": "stdout",
     "output_type": "stream",
     "text": [
      "['pen', 'pineapple']\n",
      "\n",
      "My favourite fruit is Apple.\n"
     ]
    }
   ],
   "source": [
    "buses=[\"apple\",\"pen\",\"pineapple\"]  \n",
    "delicious_food='apple'\n",
    "buses.remove(delicious_food)\n",
    "print(buses)\n",
    "print(f\"\\nMy favourite fruit is {delicious_food.title()}.\")"
   ]
  },
  {
   "cell_type": "code",
   "execution_count": 19,
   "id": "dc403d74",
   "metadata": {},
   "outputs": [
    {
     "name": "stdout",
     "output_type": "stream",
     "text": [
      "['apple', 'pen']\n",
      "pineapple\n",
      "pen\n"
     ]
    }
   ],
   "source": [
    "buses=[\"apple\",\"pen\",\"pineapple\"]  \n",
    "popped_buses=buses.pop(2)\n",
    "print(buses)\n",
    "print(popped_buses)  \n",
    "print(buses.pop()) #这里不理解，服了!"
   ]
  },
  {
   "cell_type": "code",
   "execution_count": 32,
   "id": "1a518cc7",
   "metadata": {},
   "outputs": [
    {
     "data": {
      "text/plain": [
       "'feich'"
      ]
     },
     "execution_count": 32,
     "metadata": {},
     "output_type": "execute_result"
    }
   ],
   "source": [
    "name=\"feichang\"\n",
    "name.replace(\"ang\",\"\") #replace符号"
   ]
  },
  {
   "cell_type": "code",
   "execution_count": 31,
   "id": "4b6124f8",
   "metadata": {},
   "outputs": [
    {
     "name": "stdout",
     "output_type": "stream",
     "text": [
      "[7, 4, 8, 2, 3]\n",
      "[3, 2, 8, 4, 7]\n",
      "[2, 3, 4, 7, 8]\n",
      "[3, 2, 8, 4, 7]\n",
      "[2, 3, 4, 7, 8]\n"
     ]
    }
   ],
   "source": [
    "nums=[3,2,8,4,7]\n",
    "nums.reverse()\n",
    "print(nums)\n",
    "nums.reverse()\n",
    "print(nums)\n",
    "print(sorted(nums))\n",
    "print(nums) \n",
    "nums.sort()\n",
    "print(nums)\n"
   ]
  },
  {
   "cell_type": "code",
   "execution_count": 16,
   "id": "ccb676db",
   "metadata": {},
   "outputs": [
    {
     "name": "stdout",
     "output_type": "stream",
     "text": [
      "['eggs', 'apples', 'milk']\n",
      "['bread', 'apples', 'milk']\n",
      "['bread', 'apples']\n"
     ]
    }
   ],
   "source": [
    "baskets=[\"eggs\",\"apples\",\"milk\"]\n",
    "print(baskets)\n",
    "baskets[0]=\"bread\"\n",
    "print(baskets)\n",
    "del baskets[2]\n",
    "print(baskets)"
   ]
  },
  {
   "cell_type": "code",
   "execution_count": 2,
   "id": "12ddc577",
   "metadata": {},
   "outputs": [
    {
     "name": "stdout",
     "output_type": "stream",
     "text": [
      "eggs\n"
     ]
    }
   ],
   "source": [
    "print(baskets[0])"
   ]
  },
  {
   "cell_type": "code",
   "execution_count": 3,
   "id": "2eb96700",
   "metadata": {},
   "outputs": [
    {
     "name": "stdout",
     "output_type": "stream",
     "text": [
      "milk milk\n"
     ]
    }
   ],
   "source": [
    "print(baskets[2],baskets[-1])"
   ]
  },
  {
   "cell_type": "code",
   "execution_count": 5,
   "id": "86e4e0db",
   "metadata": {},
   "outputs": [
    {
     "name": "stdout",
     "output_type": "stream",
     "text": [
      "Would you like some MILK ?\n"
     ]
    }
   ],
   "source": [
    "message=f\"Would you like some {baskets[2].upper()} ?\"\n",
    "print(message)"
   ]
  },
  {
   "cell_type": "code",
   "execution_count": 17,
   "id": "cdf4ad51",
   "metadata": {},
   "outputs": [
    {
     "name": "stdout",
     "output_type": "stream",
     "text": [
      "['bread', 'apples', 'rice']\n"
     ]
    }
   ],
   "source": [
    "baskets.insert(2,\"rice\")\n",
    "print(baskets)"
   ]
  },
  {
   "cell_type": "code",
   "execution_count": null,
   "id": "e029ff63",
   "metadata": {},
   "outputs": [],
   "source": []
  }
 ],
 "metadata": {
  "kernelspec": {
   "display_name": "Python 3 (ipykernel)",
   "language": "python",
   "name": "python3"
  },
  "language_info": {
   "codemirror_mode": {
    "name": "ipython",
    "version": 3
   },
   "file_extension": ".py",
   "mimetype": "text/x-python",
   "name": "python",
   "nbconvert_exporter": "python",
   "pygments_lexer": "ipython3",
   "version": "3.11.3"
  }
 },
 "nbformat": 4,
 "nbformat_minor": 5
}
