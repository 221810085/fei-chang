{
 "cells": [
  {
   "cell_type": "markdown",
   "id": "b0027119",
   "metadata": {},
   "source": [
    "# if语句"
   ]
  },
  {
   "cell_type": "code",
   "execution_count": 5,
   "id": "bf5780ec",
   "metadata": {},
   "outputs": [
    {
     "name": "stdout",
     "output_type": "stream",
     "text": [
      "audi\n",
      "BMW\n",
      "subaru\n",
      "toyota\n"
     ]
    }
   ],
   "source": [
    "cars=[\"audi\",\"bmw\",\"subaru\",\"toyota\"]\n",
    "for car in cars:\n",
    "    if car==\"bmw\":\n",
    "        print(car.upper())\n",
    "        \n",
    "    else:\n",
    "        print(car)"
   ]
  },
  {
   "cell_type": "markdown",
   "id": "3da4751a",
   "metadata": {},
   "source": [
    "## 相等运算符 &True/False"
   ]
  },
  {
   "cell_type": "code",
   "execution_count": 41,
   "id": "6b60fb0d",
   "metadata": {},
   "outputs": [
    {
     "name": "stdout",
     "output_type": "stream",
     "text": [
      "False\n",
      "True\n",
      "Audi\n"
     ]
    }
   ],
   "source": [
    "car=\"Audi\"\n",
    "print(car==\"audi\")  #这里没有print 也可以\n",
    "print(car.lower()==\"audi\")\n",
    "print(car)# .lower不会改变原本car的值"
   ]
  },
  {
   "cell_type": "code",
   "execution_count": 9,
   "id": "78c0ccb5",
   "metadata": {},
   "outputs": [
    {
     "data": {
      "text/plain": [
       "True"
      ]
     },
     "execution_count": 9,
     "metadata": {},
     "output_type": "execute_result"
    }
   ],
   "source": [
    "True==1  #True 的值就是1，false的值是0\n"
   ]
  },
  {
   "cell_type": "code",
   "execution_count": 10,
   "id": "bb790d6c",
   "metadata": {},
   "outputs": [
    {
     "data": {
      "text/plain": [
       "True"
      ]
     },
     "execution_count": 10,
     "metadata": {},
     "output_type": "execute_result"
    }
   ],
   "source": [
    "False==0"
   ]
  },
  {
   "cell_type": "markdown",
   "id": "a5c923aa",
   "metadata": {},
   "source": [
    "## 不等运算符 !=，来判断两侧是否相等"
   ]
  },
  {
   "cell_type": "code",
   "execution_count": 12,
   "id": "5f46bc5c",
   "metadata": {},
   "outputs": [
    {
     "name": "stdout",
     "output_type": "stream",
     "text": [
      "True\n",
      "False\n"
     ]
    }
   ],
   "source": [
    "car=\"Audi\"\n",
    "print(car !=\"audi\")\n",
    "print(car.lower()!=\"audi\")  #注意一定是英文感叹号！"
   ]
  },
  {
   "cell_type": "code",
   "execution_count": 45,
   "id": "71f533fd",
   "metadata": {},
   "outputs": [
    {
     "name": "stdout",
     "output_type": "stream",
     "text": [
      "Hold the anchovies!\n"
     ]
    }
   ],
   "source": [
    "requested_topping=\"fish\"\n",
    "if requested_topping!=\"anchovies\":\n",
    "    print(\"Hold the anchovies!\")"
   ]
  },
  {
   "cell_type": "markdown",
   "id": "161bf50a",
   "metadata": {},
   "source": [
    "## 数值比较"
   ]
  },
  {
   "cell_type": "code",
   "execution_count": 18,
   "id": "20197d85",
   "metadata": {},
   "outputs": [
    {
     "data": {
      "text/plain": [
       "False"
      ]
     },
     "execution_count": 18,
     "metadata": {},
     "output_type": "execute_result"
    }
   ],
   "source": [
    "age=19\n",
    "age>=30"
   ]
  },
  {
   "cell_type": "code",
   "execution_count": 46,
   "id": "9af72e12",
   "metadata": {},
   "outputs": [
    {
     "data": {
      "text/plain": [
       "False"
      ]
     },
     "execution_count": 46,
     "metadata": {},
     "output_type": "execute_result"
    }
   ],
   "source": [
    "age=30\n",
    "age==32"
   ]
  },
  {
   "cell_type": "code",
   "execution_count": 47,
   "id": "effa0a3b",
   "metadata": {},
   "outputs": [
    {
     "name": "stdout",
     "output_type": "stream",
     "text": [
      "You are wrong！Please try again!\n"
     ]
    }
   ],
   "source": [
    "answer=19\n",
    "if answer!=34:\n",
    "    print(\"You are wrong！Please try again!\")"
   ]
  },
  {
   "cell_type": "markdown",
   "id": "a0a7fac6",
   "metadata": {},
   "source": [
    "## 布尔运算 and和（两边都满足），or或（满足一边）"
   ]
  },
  {
   "cell_type": "code",
   "execution_count": 19,
   "id": "96d955eb",
   "metadata": {},
   "outputs": [
    {
     "data": {
      "text/plain": [
       "False"
      ]
     },
     "execution_count": 19,
     "metadata": {},
     "output_type": "execute_result"
    }
   ],
   "source": [
    "age_0=19\n",
    "age_1=23\n",
    "age_0>30 and age_1<25"
   ]
  },
  {
   "cell_type": "code",
   "execution_count": 48,
   "id": "bbbf0b02",
   "metadata": {},
   "outputs": [
    {
     "data": {
      "text/plain": [
       "True"
      ]
     },
     "execution_count": 48,
     "metadata": {},
     "output_type": "execute_result"
    }
   ],
   "source": [
    "age_0=19\n",
    "age_1=23\n",
    "age_0>30 or age_1<25"
   ]
  },
  {
   "cell_type": "markdown",
   "id": "af7f8482",
   "metadata": {},
   "source": [
    "|表示or,&表示and"
   ]
  },
  {
   "cell_type": "markdown",
   "id": "4d0eeb71",
   "metadata": {},
   "source": [
    "## not表示非，in  判断特定值是不是在集合中"
   ]
  },
  {
   "cell_type": "code",
   "execution_count": 21,
   "id": "65cb540e",
   "metadata": {},
   "outputs": [
    {
     "name": "stdout",
     "output_type": "stream",
     "text": [
      "False\n",
      "True\n"
     ]
    }
   ],
   "source": [
    "cars=[\"audi\",\"bmw\",\"subaru\",\"toyota\"]\n",
    "print(\"sagitar\"in cars)\n",
    "print(\"sagitar\" not in cars)\n"
   ]
  },
  {
   "cell_type": "code",
   "execution_count": 51,
   "id": "ed7ea6bc",
   "metadata": {},
   "outputs": [
    {
     "name": "stdout",
     "output_type": "stream",
     "text": [
      "Mary,you can post a response if you want.\n"
     ]
    }
   ],
   "source": [
    "banned_users=[\"tony\",\"andrew\",\"jeferson\"]\n",
    "user=\"mary\"\n",
    "if user not in banned_users:\n",
    "    print(f\"{user.title()},you can post a response if you want.\")"
   ]
  },
  {
   "cell_type": "markdown",
   "id": "a73ddc19",
   "metadata": {},
   "source": [
    "布尔表达式：条件测试的别名，结果不是True就是False\n",
    "布尔值变量：存储布尔表达式结果的变量"
   ]
  },
  {
   "cell_type": "code",
   "execution_count": 53,
   "id": "894a4f12",
   "metadata": {
    "scrolled": true
   },
   "outputs": [],
   "source": [
    "game_paused=True\n",
    "screen_active=True\n",
    "game_active=screen_active and (not game_paused)"
   ]
  },
  {
   "cell_type": "raw",
   "id": "e7bddd01",
   "metadata": {},
   "source": []
  },
  {
   "cell_type": "code",
   "execution_count": null,
   "id": "1c91d2aa",
   "metadata": {},
   "outputs": [],
   "source": [
    "关注一下运算优先级 ()这个级别最高"
   ]
  },
  {
   "cell_type": "markdown",
   "id": "de9c8f83",
   "metadata": {},
   "source": [
    "## if 语句 "
   ]
  },
  {
   "cell_type": "markdown",
   "id": "5800189d",
   "metadata": {},
   "source": [
    "if else elif( else if )"
   ]
  },
  {
   "cell_type": "code",
   "execution_count": 72,
   "id": "01bb5621",
   "metadata": {},
   "outputs": [
    {
     "name": "stdout",
     "output_type": "stream",
     "text": [
      "You can vote for the position of mayor,if you have enough money.\n"
     ]
    }
   ],
   "source": [
    "age=15\n",
    "if age >=19:\n",
    "    print(\"You are old enough to vote!\")\n",
    "    print('Have you registered yet?')\n",
    "    \n",
    "elif age >=15:#可用来检查两个以上的情形\n",
    "    print(\"You can vote for the position of mayor,if you have enough money.\")\n",
    "    \n",
    "else:\n",
    "    print(\"You are not eligible!\")"
   ]
  },
  {
   "cell_type": "code",
   "execution_count": null,
   "id": "0c02cce7",
   "metadata": {},
   "outputs": [],
   "source": [
    "dishes=[\"mushrooms\",\"cheese\",\"pepperoni\"]\n",
    "if \"mushrooms\" in dishes:\n",
    "    print(\"Adding mushrooms\")"
   ]
  },
  {
   "cell_type": "code",
   "execution_count": 74,
   "id": "e2871c5a",
   "metadata": {},
   "outputs": [
    {
     "name": "stdout",
     "output_type": "stream",
     "text": [
      "Your cost is $99.\n"
     ]
    }
   ],
   "source": [
    "age=35\n",
    "if age<4:\n",
    "    price=34\n",
    "    \n",
    "elif age<19:\n",
    "    price=89\n",
    "    \n",
    "elif age<56:\n",
    "    price=99\n",
    "    \n",
    "print(f\"Your cost is ${price}.\")"
   ]
  },
  {
   "cell_type": "markdown",
   "id": "386ed2a8",
   "metadata": {},
   "source": [
    "## 检查特殊元素"
   ]
  },
  {
   "cell_type": "code",
   "execution_count": 15,
   "id": "7431f3c1",
   "metadata": {},
   "outputs": [
    {
     "name": "stdout",
     "output_type": "stream",
     "text": [
      "Adding mushrooms.\n",
      "Sorry, we are out of green peppers right now.\n",
      "Adding extra cheese.\n",
      "\n",
      "Finished making your pizza!\n"
     ]
    }
   ],
   "source": [
    "requested_toppings = ['mushrooms', 'green peppers', 'extra cheese']\n",
    "for requested_topping in requested_toppings:\n",
    "    if requested_topping == 'green peppers':\n",
    "        print(\"Sorry, we are out of green peppers right now.\")\n",
    "    else:\n",
    "        print(f\"Adding {requested_topping}.\")\n",
    "print(\"\\nFinished making your pizza!\")\n"
   ]
  },
  {
   "cell_type": "markdown",
   "id": "9a68d3a9",
   "metadata": {},
   "source": [
    "# 检查列表非空"
   ]
  },
  {
   "cell_type": "code",
   "execution_count": 17,
   "id": "44e463f5",
   "metadata": {},
   "outputs": [
    {
     "name": "stdout",
     "output_type": "stream",
     "text": [
      "Are you sure to order a plain pizza?\n"
     ]
    }
   ],
   "source": [
    "requested_toppings=[]\n",
    "if requested_toppings:\n",
    "    for requested_topping in requested_toppings:\n",
    "        print(f\"Adding{requested_topping}.\")\n",
    "    print(\"\\nFinished making your pizza!\")\n",
    "    \n",
    "else:\n",
    "    print(\"Are you sure to order a plain pizza?\")"
   ]
  },
  {
   "cell_type": "markdown",
   "id": "6d6efe87",
   "metadata": {},
   "source": [
    "# 书本练习"
   ]
  },
  {
   "cell_type": "code",
   "execution_count": 57,
   "id": "3b258413",
   "metadata": {},
   "outputs": [
    {
     "name": "stdout",
     "output_type": "stream",
     "text": [
      "Is car =='subaru'? I predict True.\n",
      "True\n",
      "\n",
      "Is car =='Audi'? I predict False.\n",
      "False\n"
     ]
    }
   ],
   "source": [
    "car=\"subaru\"\n",
    "print(\"Is car =='subaru'? I predict True.\")\n",
    "print(car==\"subaru\")\n",
    "print(\"\\nIs car =='Audi'? I predict False.\")\n",
    "print(car==\"Audi\")"
   ]
  },
  {
   "cell_type": "code",
   "execution_count": 59,
   "id": "52b68919",
   "metadata": {},
   "outputs": [
    {
     "data": {
      "text/plain": [
       "False"
      ]
     },
     "execution_count": 59,
     "metadata": {},
     "output_type": "execute_result"
    }
   ],
   "source": [
    "\"feichang\"==\"feiyang\""
   ]
  },
  {
   "cell_type": "code",
   "execution_count": 60,
   "id": "c1e5df66",
   "metadata": {},
   "outputs": [
    {
     "data": {
      "text/plain": [
       "True"
      ]
     },
     "execution_count": 60,
     "metadata": {},
     "output_type": "execute_result"
    }
   ],
   "source": [
    "\"feichang\"==\"feichang\""
   ]
  },
  {
   "cell_type": "code",
   "execution_count": 62,
   "id": "d1a34a22",
   "metadata": {},
   "outputs": [
    {
     "data": {
      "text/plain": [
       "True"
      ]
     },
     "execution_count": 62,
     "metadata": {},
     "output_type": "execute_result"
    }
   ],
   "source": [
    "car='Audi'\n",
    "car.lower()==\"audi\"\n"
   ]
  },
  {
   "cell_type": "code",
   "execution_count": 63,
   "id": "7498e13e",
   "metadata": {},
   "outputs": [
    {
     "data": {
      "text/plain": [
       "True"
      ]
     },
     "execution_count": 63,
     "metadata": {},
     "output_type": "execute_result"
    }
   ],
   "source": [
    "19==19"
   ]
  },
  {
   "cell_type": "code",
   "execution_count": 64,
   "id": "ee187fae",
   "metadata": {},
   "outputs": [
    {
     "data": {
      "text/plain": [
       "False"
      ]
     },
     "execution_count": 64,
     "metadata": {},
     "output_type": "execute_result"
    }
   ],
   "source": [
    "19<18"
   ]
  },
  {
   "cell_type": "code",
   "execution_count": 68,
   "id": "e5ae9b3f",
   "metadata": {},
   "outputs": [
    {
     "data": {
      "text/plain": [
       "False"
      ]
     },
     "execution_count": 68,
     "metadata": {},
     "output_type": "execute_result"
    }
   ],
   "source": [
    "19>=20"
   ]
  },
  {
   "cell_type": "code",
   "execution_count": 66,
   "id": "f64e8e4b",
   "metadata": {},
   "outputs": [
    {
     "data": {
      "text/plain": [
       "True"
      ]
     },
     "execution_count": 66,
     "metadata": {},
     "output_type": "execute_result"
    }
   ],
   "source": [
    "19<=30"
   ]
  },
  {
   "cell_type": "code",
   "execution_count": 67,
   "id": "61c3afbc",
   "metadata": {},
   "outputs": [
    {
     "data": {
      "text/plain": [
       "False"
      ]
     },
     "execution_count": 67,
     "metadata": {},
     "output_type": "execute_result"
    }
   ],
   "source": [
    "19>89"
   ]
  },
  {
   "cell_type": "code",
   "execution_count": 69,
   "id": "ea9d3270",
   "metadata": {},
   "outputs": [
    {
     "data": {
      "text/plain": [
       "True"
      ]
     },
     "execution_count": 69,
     "metadata": {},
     "output_type": "execute_result"
    }
   ],
   "source": [
    "number_0=12\n",
    "number_1=23\n",
    "number_0>13 or number_1<25"
   ]
  },
  {
   "cell_type": "code",
   "execution_count": 70,
   "id": "f9700360",
   "metadata": {},
   "outputs": [
    {
     "data": {
      "text/plain": [
       "False"
      ]
     },
     "execution_count": 70,
     "metadata": {},
     "output_type": "execute_result"
    }
   ],
   "source": [
    "number_0=12\n",
    "number_1=23\n",
    "number_0>13 and number_1<25"
   ]
  },
  {
   "cell_type": "code",
   "execution_count": 75,
   "id": "6f89ece7",
   "metadata": {},
   "outputs": [
    {
     "name": "stdout",
     "output_type": "stream",
     "text": [
      "You got 5 points!\n"
     ]
    }
   ],
   "source": [
    "alien_color=[\"green\",\"yellow\",\"red\"]\n",
    "for color in alien_color:\n",
    "    if color==\"green\":\n",
    "        print(\"You got 5 points!\")"
   ]
  },
  {
   "cell_type": "code",
   "execution_count": 77,
   "id": "8bdfcf81",
   "metadata": {},
   "outputs": [
    {
     "name": "stdout",
     "output_type": "stream",
     "text": [
      "You got 5 points!\n"
     ]
    }
   ],
   "source": [
    "alien_color=\"green\"\n",
    "if alien_color=='green':\n",
    "    print(\"You got 5 points!\")"
   ]
  },
  {
   "cell_type": "code",
   "execution_count": 78,
   "id": "ad8b6d24",
   "metadata": {},
   "outputs": [],
   "source": [
    "alien_color=\"red\"\n",
    "if alien_color=='green':\n",
    "    print(\"You got 5 points!\")"
   ]
  },
  {
   "cell_type": "code",
   "execution_count": 2,
   "id": "02b517fe",
   "metadata": {},
   "outputs": [
    {
     "name": "stdout",
     "output_type": "stream",
     "text": [
      "You got 5 points for ruining aliens!\n"
     ]
    }
   ],
   "source": [
    "alien_color=\"green\"\n",
    "if alien_color=='green':\n",
    "    print(\"You got 5 points for ruining aliens!\")\n",
    "    \n",
    "else:\n",
    "    print(\"You got 10 points!\")"
   ]
  },
  {
   "cell_type": "code",
   "execution_count": 3,
   "id": "d33da986",
   "metadata": {},
   "outputs": [
    {
     "name": "stdout",
     "output_type": "stream",
     "text": [
      "You got 10 points!\n"
     ]
    }
   ],
   "source": [
    "alien_color=\"red\"\n",
    "if alien_color=='green':\n",
    "    print(\"You got 5 points for ruining aliens!\")\n",
    "    \n",
    "else:\n",
    "    print(\"You got 10 points!\")"
   ]
  },
  {
   "cell_type": "code",
   "execution_count": 5,
   "id": "4b595608",
   "metadata": {},
   "outputs": [
    {
     "name": "stdout",
     "output_type": "stream",
     "text": [
      "You got 15 points!\n"
     ]
    }
   ],
   "source": [
    "alien_color=\"red\"\n",
    "if alien_color=='green':\n",
    "    print(\"You got 5 points for ruining aliens!\")\n",
    "\n",
    "elif alien_color==\"yellow\":\n",
    "    print(\"You got 10 points!\")\n",
    "    \n",
    "else:\n",
    "    print(\"You got 15 points!\")"
   ]
  },
  {
   "cell_type": "code",
   "execution_count": 6,
   "id": "9c3ffc7e",
   "metadata": {},
   "outputs": [
    {
     "name": "stdout",
     "output_type": "stream",
     "text": [
      "You got 5 points for ruining aliens!\n"
     ]
    }
   ],
   "source": [
    "alien_color=\"green\"\n",
    "if alien_color=='green':\n",
    "    print(\"You got 5 points for ruining aliens!\")\n",
    "\n",
    "elif alien_color==\"yellow\":\n",
    "    print(\"You got 10 points!\")\n",
    "    \n",
    "else:\n",
    "    print(\"You got 15 points!\")"
   ]
  },
  {
   "cell_type": "code",
   "execution_count": 7,
   "id": "ec066d4c",
   "metadata": {},
   "outputs": [
    {
     "name": "stdout",
     "output_type": "stream",
     "text": [
      "You got 10 points!\n"
     ]
    }
   ],
   "source": [
    "alien_color=\"yellow\"\n",
    "if alien_color=='green':\n",
    "    print(\"You got 5 points for ruining aliens!\")\n",
    "\n",
    "elif alien_color==\"yellow\":\n",
    "    print(\"You got 10 points!\")\n",
    "    \n",
    "else:\n",
    "    print(\"You got 15 points!\")"
   ]
  },
  {
   "cell_type": "code",
   "execution_count": 8,
   "id": "566d597b",
   "metadata": {},
   "outputs": [
    {
     "name": "stdout",
     "output_type": "stream",
     "text": [
      "This is middle-young people.\n"
     ]
    }
   ],
   "source": [
    "age=19\n",
    "if age<2:\n",
    "    print(\"This is a baby.\")\n",
    "    \n",
    "elif 2<=age<4:\n",
    "    print(\"This is an infant.\")\n",
    "    \n",
    "elif 4<=age<13:\n",
    "    print(\"This is a child.\")\n",
    "    \n",
    "elif 13<=age<18:\n",
    "    print(\"This is a teenager.\")\n",
    "    \n",
    "elif 18<=age<65:\n",
    "    print(\"This is middle-young people.\")\n",
    "else:\n",
    "    print(\"This is an elderly person.\")"
   ]
  },
  {
   "cell_type": "code",
   "execution_count": 10,
   "id": "c86f97e7",
   "metadata": {},
   "outputs": [
    {
     "name": "stdout",
     "output_type": "stream",
     "text": [
      "You really like apples!\n",
      "You really like strawberries!\n",
      "You really like watermelons!\n",
      "Pea is not your favorite fruit.\n",
      "Banana is not your favorite fruit.\n"
     ]
    }
   ],
   "source": [
    "favorite_fruits=[\"apple\",\"strawberry\",\"watermelon\"]\n",
    "if \"apple\"in favorite_fruits:\n",
    "    print(\"You really like apples!\")\n",
    "    \n",
    "if \"strawberry\" in favorite_fruits:\n",
    "    print(\"You really like strawberries!\")\n",
    "    \n",
    "if \"watermelon\" in favorite_fruits:\n",
    "    print(\"You really like watermelons!\")\n",
    "    \n",
    "if \"pea\" not in favorite_fruits:\n",
    "    print(\"Pea is not your favorite fruit.\")\n",
    "\n",
    "if \"banana\" not in favorite_fruits:\n",
    "    print(\"Banana is not your favorite fruit.\")"
   ]
  },
  {
   "cell_type": "code",
   "execution_count": 34,
   "id": "4e250b7b",
   "metadata": {},
   "outputs": [
    {
     "name": "stdout",
     "output_type": "stream",
     "text": [
      "Hello mary, thank you for logging in again.\n",
      "Hello admin, would you like to see a status report?\n",
      "Hello ken, thank you for logging in again.\n",
      "Hello ben, thank you for logging in again.\n",
      "Hello joe, thank you for logging in again.\n"
     ]
    }
   ],
   "source": [
    "users=[\"mary\",\"admin\",\"ken\",\"ben\",\"joe\"]\n",
    "if  users:\n",
    "    for user in users:\n",
    "        if user==\"admin\":\n",
    "            print(\"Hello admin, would you like to see a status report?\")\n",
    "        else:\n",
    "            print(f\"Hello {user}, thank you for logging in again.\")\n",
    "        \n",
    "else:\n",
    "     print(\"We need to find some users!\")"
   ]
  },
  {
   "cell_type": "code",
   "execution_count": 37,
   "id": "6f8a14d6",
   "metadata": {},
   "outputs": [
    {
     "name": "stdout",
     "output_type": "stream",
     "text": [
      "We need to find some users!\n"
     ]
    }
   ],
   "source": [
    "users=[\"mary\",\"admin\",\"ken\",\"ben\",\"joe\"]\n",
    "if users==[]:\n",
    "    print(\"We need to find some users!\")#把列表删了就可以检验列表为空不为空的语句正确\n",
    "for user in users:\n",
    "    if user==\"admin\":\n",
    "        print(\"Hello admin, would you like to see a status report?\")\n",
    "\n",
    "    else:\n",
    "        print(f\"Hello {user}, thank you for logging in again.\")"
   ]
  },
  {
   "cell_type": "code",
   "execution_count": 42,
   "id": "1d2404d2",
   "metadata": {},
   "outputs": [
    {
     "name": "stdout",
     "output_type": "stream",
     "text": [
      "The name has been used.\n",
      "The name has been used.\n",
      "The name has not been used.\n",
      "The name has not been used.\n",
      "The name has not been used.\n"
     ]
    }
   ],
   "source": [
    "current_users=[\"mary\",\"admin\",\"ken\",\"ben\",\"joe\"]\n",
    "new_users=[\"mary\",\"Admin\",\"john\",'fay','lilly']\n",
    "for user in new_users:\n",
    "    if user.lower() in current_users:#排除大小写的影响\n",
    "        print(\"The name has been used.\")\n",
    "        \n",
    "    else:\n",
    "        print(\"The name has not been used.\")"
   ]
  },
  {
   "cell_type": "code",
   "execution_count": 46,
   "id": "210fec34",
   "metadata": {},
   "outputs": [
    {
     "name": "stdout",
     "output_type": "stream",
     "text": [
      "1st\n",
      "2nd\n",
      "3rd\n",
      "4th\n",
      "5th\n",
      "6th\n",
      "7th\n",
      "8th\n",
      "9th\n"
     ]
    }
   ],
   "source": [
    "nums=[1,2,3,4,5,6,7,8,9]\n",
    "for num in nums:\n",
    "    if num==1:\n",
    "        print(\"1st\")\n",
    "    elif num ==2:\n",
    "        print(\"2nd\")\n",
    "    elif num==3:\n",
    "        print(\"3rd\")\n",
    "    else:\n",
    "        print(f\"{num}th\")"
   ]
  },
  {
   "cell_type": "code",
   "execution_count": null,
   "id": "f2191810",
   "metadata": {},
   "outputs": [],
   "source": []
  }
 ],
 "metadata": {
  "kernelspec": {
   "display_name": "Python 3 (ipykernel)",
   "language": "python",
   "name": "python3"
  },
  "language_info": {
   "codemirror_mode": {
    "name": "ipython",
    "version": 3
   },
   "file_extension": ".py",
   "mimetype": "text/x-python",
   "name": "python",
   "nbconvert_exporter": "python",
   "pygments_lexer": "ipython3",
   "version": "3.11.3"
  }
 },
 "nbformat": 4,
 "nbformat_minor": 5
}
