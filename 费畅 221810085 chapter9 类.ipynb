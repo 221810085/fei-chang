{
 "cells": [
  {
   "cell_type": "markdown",
   "id": "8163c166",
   "metadata": {},
   "source": [
    "# 创建和使用类"
   ]
  },
  {
   "cell_type": "markdown",
   "id": "85f071d3",
   "metadata": {},
   "source": [
    "创建类，类的实例化来创建对象，面向对象的编程"
   ]
  },
  {
   "cell_type": "code",
   "execution_count": null,
   "id": "bd8e52d6",
   "metadata": {},
   "outputs": [],
   "source": [
    "class Dog:#这就创建了一个一个关于狗的类,类的首字母要大写\n",
    "    \"\"\"一次模拟小狗的简单尝试\"\"\"\n",
    "    def __init__(self,name,age):#init前后的下划线分别是两个下划线，打两次（避免命名冲突），__init__是方法，用于初始化（类中的函数称为方法）\n",
    "        \"\"\"初始化属性name和age\"\"\"\n",
    "        self.name=name\n",
    "        self.age=age\n",
    "    def sit(self):\n",
    "        \"\"\"模拟小狗收到命令时坐下\"\"\"\n",
    "        print(f\"{self.name} is now sitting.\")\n",
    "    def roll(self):\n",
    "        \"\"\"模拟小狗收到命令时打滚\"\"\"\n",
    "        print(f\"{self.name} is now rolling.\")\n",
    "        \n",
    "    "
   ]
  },
  {
   "cell_type": "markdown",
   "id": "40daaff5",
   "metadata": {},
   "source": [
    " __init__() 方法中，self形参必不可少，是指向实例本身的引用，且必须位于其他形参前面。\n",
    "通过实例可以访问的变量就叫属性（即上述的name和age）"
   ]
  },
  {
   "cell_type": "code",
   "execution_count": null,
   "id": "6e4de407",
   "metadata": {},
   "outputs": [],
   "source": []
  },
  {
   "cell_type": "code",
   "execution_count": 15,
   "id": "3b826549",
   "metadata": {},
   "outputs": [
    {
     "name": "stdout",
     "output_type": "stream",
     "text": [
      "My dog's name is huanhuan.\n",
      "My dog's age is 13.\n",
      "huanhuan is now sitting.\n",
      "huanhuan is now rolling.\n"
     ]
    },
    {
     "data": {
      "text/plain": [
       "13"
      ]
     },
     "execution_count": 15,
     "metadata": {},
     "output_type": "execute_result"
    }
   ],
   "source": [
    "class Dog:#这就创建了一个一个关于狗的类,类的首字母要大写\n",
    "    \"\"\"一次模拟小狗的简单尝试\"\"\"\n",
    "    def __init__(self,name,age):#init前后的下划线分别是两个下划线，打两次（避免命名冲突），__init__是方法，用于初始化（类中的函数称为方法）\n",
    "        \"\"\"初始化属性name和age\"\"\"\n",
    "        self.name=name\n",
    "        self.age=age\n",
    "    def sit(self):\n",
    "        \"\"\"模拟小狗收到命令时坐下\"\"\"\n",
    "        print(f\"{self.name} is now sitting.\")\n",
    "    def roll(self):\n",
    "        \"\"\"模拟小狗收到命令时打滚\"\"\"\n",
    "        print(f\"{self.name} is now rolling.\")\n",
    "        \n",
    "my_dog=Dog('huanhuan',13)\n",
    "print(f\"My dog's name is {my_dog.name}.\")\n",
    "print(f\"My dog's age is {my_dog.age}.\")\n",
    "my_dog.sit()#这个是函数，括号不能丢\n",
    "my_dog.roll()\n",
    "my_dog.age\n",
    "\n"
   ]
  },
  {
   "cell_type": "code",
   "execution_count": 14,
   "id": "8d95371d",
   "metadata": {},
   "outputs": [
    {
     "data": {
      "text/plain": [
       "'huanhuan'"
      ]
     },
     "execution_count": 14,
     "metadata": {},
     "output_type": "execute_result"
    }
   ],
   "source": [
    "my_dog.name"
   ]
  },
  {
   "cell_type": "markdown",
   "id": "eae5e7b0",
   "metadata": {},
   "source": [
    "有了类，就可以根据需求创建多个实例"
   ]
  },
  {
   "cell_type": "code",
   "execution_count": 17,
   "id": "aed8cffe",
   "metadata": {},
   "outputs": [
    {
     "name": "stdout",
     "output_type": "stream",
     "text": [
      "Your dog's name is Lucy\n",
      "Lucy is now rolling.\n"
     ]
    }
   ],
   "source": [
    "your_dog=Dog('Lucy',6)\n",
    "print(f\"Your dog's name is {your_dog.name}\")\n",
    "your_dog.roll()"
   ]
  },
  {
   "cell_type": "markdown",
   "id": "2cd33139",
   "metadata": {},
   "source": [
    "# 使用类和实例"
   ]
  },
  {
   "cell_type": "code",
   "execution_count": 18,
   "id": "34dee46e",
   "metadata": {},
   "outputs": [
    {
     "name": "stdout",
     "output_type": "stream",
     "text": [
      "2024 Audi A4\n"
     ]
    }
   ],
   "source": [
    "class Car:\n",
    "    \"\"\"一次模拟汽车的简单尝试\"\"\"\n",
    "    def __init__(self,make,model,year):\n",
    "        \"\"\"初始化描述汽车的属性\"\"\"\n",
    "        self.make=make\n",
    "        self.model=model\n",
    "        self.year=year\n",
    "        \n",
    "    def get_descriptive_name(self):\n",
    "        \"\"\"返回格式规范的描述性信息\"\"\"\n",
    "        long_name = f\"{self.year} {self.make} {self.model}\"\n",
    "        return long_name.title()\n",
    "    \n",
    "my_car=Car('audi', 'a4', 2024)\n",
    "print(my_car.get_descriptive_name())"
   ]
  },
  {
   "cell_type": "markdown",
   "id": "2d3c9695",
   "metadata": {},
   "source": [
    "给属性指定默认值（有些属性无需用形参）"
   ]
  },
  {
   "cell_type": "code",
   "execution_count": 35,
   "id": "e139c4ce",
   "metadata": {},
   "outputs": [
    {
     "name": "stdout",
     "output_type": "stream",
     "text": [
      "This car has 0 miles on it.\n"
     ]
    }
   ],
   "source": [
    "class Car:\n",
    "    \"\"\"一次模拟汽车的简单尝试\"\"\"\n",
    "    def __init__(self,make,model,year):\n",
    "        \"\"\"初始化描述汽车的属性\"\"\"\n",
    "        self.make=make\n",
    "        self.model=model\n",
    "        self.year=year\n",
    "        self.odometer_reading = 0#这个就是我们设置的默认值，里程表的初始值总是0\n",
    "        \n",
    "        \n",
    "    def read_odometer(self):\n",
    "        \"\"\"打印一条指出汽车行驶里程的消息\"\"\"\n",
    "        print(f\"This car has {self.odometer_reading} miles on it.\")#与添加的默认值相应，我们也定义了一个读取里程表的函数\n",
    "my_new_car = Car('audi', 'a4', 2024)\n",
    "my_new_car.read_odometer()"
   ]
  },
  {
   "cell_type": "markdown",
   "id": "ed94d4ad",
   "metadata": {},
   "source": [
    "修改实例的属性"
   ]
  },
  {
   "cell_type": "markdown",
   "id": "492f9c56",
   "metadata": {},
   "source": [
    "1最简单：直接修改，使用点号直接访问并设置汽车的属性"
   ]
  },
  {
   "cell_type": "code",
   "execution_count": 25,
   "id": "a0f0221a",
   "metadata": {},
   "outputs": [
    {
     "name": "stdout",
     "output_type": "stream",
     "text": [
      "This car has 23 miles on it.\n"
     ]
    }
   ],
   "source": [
    "class Car:\n",
    "    \"\"\"一次模拟汽车的简单尝试\"\"\"\n",
    "    def __init__(self,make,model,year):\n",
    "        \"\"\"初始化描述汽车的属性\"\"\"\n",
    "        self.make=make\n",
    "        self.model=model\n",
    "        self.year=year\n",
    "        self.odometer_reading = 0\n",
    "    def read_odometer(self):\n",
    "        \"\"\"打印一条指出汽车行驶里程的消息\"\"\"\n",
    "        print(f\"This car has {self.odometer_reading} miles on it.\")\n",
    "    \n",
    "    \n",
    "my_new_car=Car('audi', 'a4', 2024)\n",
    "my_new_car.odometer_reading = 23\n",
    "my_new_car.read_odometer()"
   ]
  },
  {
   "cell_type": "markdown",
   "id": "31e406ba",
   "metadata": {},
   "source": [
    "2：通过方法修改属性的值,如 update_odometer() 的方法"
   ]
  },
  {
   "cell_type": "code",
   "execution_count": 36,
   "id": "1e5c15e4",
   "metadata": {},
   "outputs": [
    {
     "name": "stdout",
     "output_type": "stream",
     "text": [
      "This car has 23 miles on it.\n"
     ]
    }
   ],
   "source": [
    "class Car:\n",
    "    \"\"\"一次模拟汽车的简单尝试\"\"\"\n",
    "    def __init__(self,make,model,year):\n",
    "        \"\"\"初始化描述汽车的属性\"\"\"\n",
    "        self.make=make\n",
    "        self.model=model\n",
    "        self.year=year\n",
    "        self.odometer_reading = 0\n",
    "        \n",
    "    def read_odometer(self):\n",
    "        \"\"\"打印一条指出汽车行驶里程的消息\"\"\"\n",
    "        print(f\"This car has {self.odometer_reading} miles on it.\")\n",
    "        \n",
    "    def update_odometer(self, mileage):\n",
    "        \"\"\"将里程表读数设置为指定的值\"\"\"\n",
    "        self.odometer_reading = mileage#该方法接受一个里程值，并将其赋给 self.odometer_reading\n",
    "\n",
    "my_new_car=Car('Audi','a4',2023)   \n",
    "my_new_car.update_odometer(23)\n",
    "my_new_car.read_odometer()\n"
   ]
  },
  {
   "cell_type": "code",
   "execution_count": 40,
   "id": "9d48c188",
   "metadata": {},
   "outputs": [
    {
     "name": "stdout",
     "output_type": "stream",
     "text": [
      "You can't roll back an odometer!\n"
     ]
    }
   ],
   "source": [
    "class Car:\n",
    "    \"\"\"一次模拟汽车的简单尝试\"\"\"\n",
    "    def __init__(self,make,model,year):\n",
    "        \"\"\"初始化描述汽车的属性\"\"\"\n",
    "        self.make=make\n",
    "        self.model=model\n",
    "        self.year=year\n",
    "        self.odometer_reading = 0\n",
    "        \n",
    "    def read_odometer(self):\n",
    "        \"\"\"打印一条指出汽车行驶里程的消息\"\"\"\n",
    "        print(f\"This car has {self.odometer_reading} miles on it.\")\n",
    "\n",
    "    def update_odometer(self, mileage):#以对 update_odometer() 方法进行扩展，使其在修改里程表读数时做些额外的工作\n",
    "        \"\"\"\n",
    "         将里程表读数设置为指定的值\n",
    "         禁止将里程表读数往回调\n",
    "        \"\"\"\n",
    "        if mileage >= self.odometer_reading:\n",
    "            self.odometer_reading = mileage\n",
    "        else:\n",
    "            print(\"You can't roll back an odometer!\")\n",
    "my_car=Car('tesla','a4',2022)\n",
    "my_car.update_odometer(-1)"
   ]
  },
  {
   "cell_type": "markdown",
   "id": "7fe9782a",
   "metadata": {},
   "source": [
    "3：通过方法让属性的值递增。针对于有时需将属性值递增特定的量，而不是将其设置为全新的值"
   ]
  },
  {
   "cell_type": "code",
   "execution_count": 45,
   "id": "e3862c53",
   "metadata": {},
   "outputs": [
    {
     "name": "stdout",
     "output_type": "stream",
     "text": [
      "This car has 23500 miles on it.\n",
      "This car has 23600 miles on it.\n"
     ]
    }
   ],
   "source": [
    "class Car:\n",
    "    \"\"\"一次模拟汽车的简单尝试\"\"\"\n",
    "    def __init__(self,make,model,year):\n",
    "        \"\"\"初始化描述汽车的属性\"\"\"\n",
    "        self.make=make\n",
    "        self.model=model\n",
    "        self.year=year\n",
    "        self.odometer_reading = 0\n",
    "        \n",
    "    def read_odometer(self):\n",
    "        \"\"\"打印一条指出汽车行驶里程的消息\"\"\"\n",
    "        print(f\"This car has {self.odometer_reading} miles on it.\")\n",
    "        \n",
    "    def update_odometer(self, mileage):\n",
    "        \"\"\"将里程表读数设置为指定的值\"\"\"\n",
    "        self.odometer_reading = mileage#该方法接受一个里程值，并将其赋给 self.odometer_reading\n",
    "        \n",
    "    def increment_odometer(self, miles):\n",
    "        \"\"\"让里程表读数增加指定的量\"\"\"\n",
    "        self.odometer_reading += miles#法 increment_odometer() 接受一个单位为英里的数，并将其加到 self.odometer_reading 上\n",
    "my_used_car=Car('tesla','a4',2023) \n",
    "\n",
    "my_used_car.update_odometer(23_500)\n",
    "my_used_car.read_odometer()\n",
    "    \n",
    "my_used_car.increment_odometer(100)\n",
    "my_used_car.read_odometer()"
   ]
  },
  {
   "cell_type": "markdown",
   "id": "c68bbaa4",
   "metadata": {},
   "source": [
    "# 继承"
   ]
  },
  {
   "cell_type": "markdown",
   "id": "c79b718e",
   "metadata": {},
   "source": [
    "如果要编写的类是一个既有的类的特殊版本，可使用继承。子类不仅继承了父类的所有属性和方法，还可定义自己的属性和方法。"
   ]
  },
  {
   "cell_type": "code",
   "execution_count": 33,
   "id": "975d328f",
   "metadata": {},
   "outputs": [
    {
     "name": "stdout",
     "output_type": "stream",
     "text": [
      "2024 Nissan Leaf\n"
     ]
    }
   ],
   "source": [
    "class Car:#在创建子类时，父类必须包含在当前文件中，且位于子类前面\n",
    "    \"\"\"一次模拟汽车的简单尝试\"\"\"\n",
    "    def __init__(self,make,model,year):\n",
    "        \"\"\"初始化描述汽车的属性\"\"\"\n",
    "        self.make=make\n",
    "        self.model=model\n",
    "        self.year=year\n",
    "        \n",
    "    def get_descriptive_name(self):\n",
    "        \"\"\"返回格式规范的描述性信息\"\"\"\n",
    "        long_name = f\"{self.year} {self.make} {self.model}\"\n",
    "        return long_name.title()\n",
    "    \n",
    "class ElectricCar(Car):#子类与父类,必须在括号内指定父类的名称\n",
    "    \"\"\"电动汽车的独特之处\"\"\"\n",
    "    def __init__(self, make, model, year):\n",
    "        \"\"\"初始化父类的属性\"\"\"\n",
    "        super().__init__(make, model, year)#super是一个特殊的函数，让你能够调用父类的方法，这行代码让 Python 调用 Car 类的 __init__() 方法\n",
    "        \n",
    "my_ev=ElectricCar('nissan', 'leaf', 2024)\n",
    "print(my_ev.get_descriptive_name())#这个就是父类里的函数\n"
   ]
  },
  {
   "cell_type": "markdown",
   "id": "0264db84",
   "metadata": {},
   "source": [
    "给子类定义属性和方法（子类特有的新的）"
   ]
  },
  {
   "cell_type": "code",
   "execution_count": 21,
   "id": "13613fec",
   "metadata": {},
   "outputs": [
    {
     "name": "stdout",
     "output_type": "stream",
     "text": [
      "This car has a 40-kWh battery.\n"
     ]
    }
   ],
   "source": [
    "class Car:#在创建子类时，父类必须包含在当前文件中，且位于子类前面\n",
    "    \"\"\"一次模拟汽车的简单尝试\"\"\"\n",
    "    def __init__(self,make,model,year):\n",
    "        \"\"\"初始化描述汽车的属性\"\"\"\n",
    "        self.make=make\n",
    "        self.model=model\n",
    "        self.year=year\n",
    "        \n",
    "    def get_descriptive_name(self):\n",
    "        \"\"\"返回格式规范的描述性信息\"\"\"\n",
    "        long_name = f\"{self.year} {self.make} {self.model}\"\n",
    "        return long_name.title()\n",
    "    \n",
    "class ElectricCar(Car):#子类与父类,必须在括号内指定父类的名称\n",
    "    \"\"\"电动汽车的独特之处\"\"\"\n",
    "    def __init__(self, make, model, year):\n",
    "        \"\"\"先初始化父类的属性，再初始化电动车特有属性\"\"\"\n",
    "        super().__init__(make, model, year)\n",
    "        self.battery_size = 40 #添加了电动车的特有属性，电池容量,并设置了初始值\n",
    "    def describe_battery(self):\n",
    "        \"\"\"打印一条描述电池容量的消息\"\"\"\n",
    "        print(f\"This car has a {self.battery_size}-kWh battery.\")\n",
    "        \n",
    "my_ev=ElectricCar('nissan', 'leaf', 2024)\n",
    "my_ev.describe_battery()"
   ]
  },
  {
   "cell_type": "markdown",
   "id": "fa1107f3",
   "metadata": {},
   "source": [
    "重写父类中的方法：在子类中定义一个与要重写的父类方法同名的方法，Python就只关注子类中的对应定义。重写针对于原父类方法不能满足子类需求"
   ]
  },
  {
   "cell_type": "code",
   "execution_count": null,
   "id": "531bc226",
   "metadata": {},
   "outputs": [],
   "source": [
    "#示例如下\n",
    "class ElectricCar(Car):\n",
    " --snip--\n",
    "    def fill_gas_tank(self):\n",
    "        \"\"\"电动汽车没有油箱\"\"\"\n",
    "        print(\"This car doesn't have a gas tank!\")\n",
    "              "
   ]
  },
  {
   "cell_type": "markdown",
   "id": "248888f0",
   "metadata": {},
   "source": [
    "将实例用作属性"
   ]
  },
  {
   "cell_type": "code",
   "execution_count": 36,
   "id": "1e09589a",
   "metadata": {},
   "outputs": [
    {
     "name": "stdout",
     "output_type": "stream",
     "text": [
      "This car has a 40-kWh battery.\n",
      "This car can go about 150 miles on a full charge.\n"
     ]
    }
   ],
   "source": [
    "class Car:\n",
    "    \"\"\"一次模拟汽车的简单尝试\"\"\"\n",
    "    def __init__(self,make,model,year):\n",
    "        \"\"\"初始化描述汽车的属性\"\"\"\n",
    "        self.make=make\n",
    "        self.model=model\n",
    "        self.year=year\n",
    "\n",
    "class Battery:\n",
    "    \"\"\"一次模拟电动汽车电池的简单尝试\"\"\"\n",
    "    def __init__(self, battery_size=40):#这个形参是可选的：如果没有给它提供值，电池容量将被设置为 40\n",
    "        \"\"\"初始化电池的属性\"\"\"\n",
    "        self.battery_size = battery_size\n",
    "        \n",
    "    def describe_battery(self):\n",
    "        \"\"\"打印一条描述电池容量的消息\"\"\"\n",
    "        print(f\"This car has a {self.battery_size}-kWh battery.\")\n",
    "        \n",
    "    def get_range(self):#新增的方法对电池容量进行分析\n",
    "        \"\"\"打印一条消息，指出电池的续航里程\"\"\"\n",
    "        if self.battery_size == 40:\n",
    "            range = 150\n",
    "        elif self.battery_size == 65:\n",
    "            range = 225\n",
    "        print(f\"This car can go about {range} miles on a full charge.\")\n",
    "\n",
    "class ElectricCar(Car):#子类与父类,必须在括号内指定父类的名称\n",
    "    \"\"\"电动汽车的独特之处\"\"\"\n",
    "    def __init__(self, make, model, year):\n",
    "        \"\"\"先初始化父类的属性，再初始化电动车特有属性\"\"\"\n",
    "        super().__init__(make, model, year)\n",
    "        self.battery=Battery()#添加了一个新属性\n",
    "        \n",
    "my_ev=ElectricCar('nissan', 'leaf', 2024)\n",
    "my_ev.battery.describe_battery()\n",
    "my_ev.battery.get_range()\n"
   ]
  },
  {
   "cell_type": "markdown",
   "id": "f6f506cf",
   "metadata": {},
   "source": [
    "# 导入类"
   ]
  },
  {
   "cell_type": "markdown",
   "id": "c599c71d",
   "metadata": {},
   "source": [
    "方法类似于函数的导入，import语句，如 from car import Car，意思就是打开模块 car 并导入其中的 Car 类"
   ]
  },
  {
   "cell_type": "code",
   "execution_count": 36,
   "id": "2ff5a995",
   "metadata": {},
   "outputs": [
    {
     "name": "stdout",
     "output_type": "stream",
     "text": [
      "This car has 23 miles on it.\n"
     ]
    }
   ],
   "source": [
    "from car import Car\n",
    "my_new_car = Car('audi', 'a4', 2024)\n",
    "\n",
    "my_new_car.odometer_reading = 23\n",
    "my_new_car.read_odometer()\n"
   ]
  },
  {
   "cell_type": "markdown",
   "id": "b06dcc5d",
   "metadata": {},
   "source": [
    "在一个模块中可以存储多个类，从一个模块中也可以导入多个类,导入所有类，就是*"
   ]
  },
  {
   "cell_type": "code",
   "execution_count": null,
   "id": "d69bef54",
   "metadata": {},
   "outputs": [],
   "source": [
    "#存储多个\n",
    "\"\"\"一组用于表示燃油汽车和电动汽车的类\"\"\"\n",
    "class Car:\n",
    " --snip--\n",
    "class Battery:\n",
    "    \"\"\"一次模拟电动汽车电瓶的简单尝试\"\"\n",
    " "
   ]
  },
  {
   "cell_type": "code",
   "execution_count": null,
   "id": "310e009e",
   "metadata": {},
   "outputs": [],
   "source": [
    "#存储多个\n",
    "from car import Car, ElectricCar"
   ]
  },
  {
   "cell_type": "markdown",
   "id": "f3a0e1df",
   "metadata": {},
   "source": [
    "导入整个模块"
   ]
  },
  {
   "cell_type": "code",
   "execution_count": null,
   "id": "9052acae",
   "metadata": {},
   "outputs": [],
   "source": [
    "import car"
   ]
  },
  {
   "cell_type": "markdown",
   "id": "9acfd2dd",
   "metadata": {},
   "source": [
    "使用别名"
   ]
  },
  {
   "cell_type": "code",
   "execution_count": null,
   "id": "c56bbcb3",
   "metadata": {},
   "outputs": [],
   "source": [
    "from electric_car import ElectricCar as EC"
   ]
  },
  {
   "cell_type": "markdown",
   "id": "f0d4266c",
   "metadata": {},
   "source": [
    "# 书上作业"
   ]
  },
  {
   "cell_type": "code",
   "execution_count": 2,
   "id": "82cac48b",
   "metadata": {},
   "outputs": [],
   "source": [
    "class Restaurant:\n",
    "    \"\"\"模拟餐馆的简单尝试\"\"\"\n",
    "    def __init__(self,restaurant_name,cuisine_type):\n",
    "        \"\"\"初始化姓名和类型\"\"\"\n",
    "        self.restaurant_name=restaurant_name\n",
    "        self.cuisine_type=cuisine_type\n",
    "    def describe_restaurant(self):\n",
    "        \"\"\"打印前述两项信息\"\"\"\n",
    "        print(self.restaurant_name)\n",
    "        print(self.cuisine_type)\n",
    "    def open_restaurant(self):\n",
    "        print(f\"The {self.restaurant_name} restaurant is open.\")"
   ]
  },
  {
   "cell_type": "code",
   "execution_count": 3,
   "id": "bada9820",
   "metadata": {},
   "outputs": [
    {
     "name": "stdout",
     "output_type": "stream",
     "text": [
      "pinyuan\n",
      "huaiyang\n",
      "sichuan\n",
      "spicy\n",
      "dongbei\n",
      "salty\n"
     ]
    }
   ],
   "source": [
    "restaurant_1=Restaurant('pinyuan','huaiyang')\n",
    "restaurant_1.describe_restaurant()\n",
    "\n",
    "restaurant_2=Restaurant('sichuan','spicy')\n",
    "restaurant_2.describe_restaurant()\n",
    "\n",
    "restaurant_3=Restaurant('dongbei','salty')\n",
    "restaurant_3.describe_restaurant()\n"
   ]
  },
  {
   "cell_type": "code",
   "execution_count": 13,
   "id": "031a8c7f",
   "metadata": {},
   "outputs": [
    {
     "name": "stdout",
     "output_type": "stream",
     "text": [
      "anne\n",
      "john\n",
      "Hi,annejohn!\n"
     ]
    }
   ],
   "source": [
    "class User:\n",
    "    \"\"\"模拟用户\"\"\"\n",
    "    def __init__(self,first_name,last_name):\n",
    "        \"\"\"初始化姓和名\"\"\"  \n",
    "        self.first_name=first_name\n",
    "        self.last_name=last_name\n",
    "    \n",
    "    def describe_user(self):\n",
    "        \"\"\"打印信息\"\"\"\n",
    "        print(self.first_name)\n",
    "        print(self.last_name)\n",
    "    def greet_user(self):\n",
    "        \"\"\"问候\"\"\"\n",
    "        print(f\"Hi,{self.first_name}{self.last_name}!\")\n",
    "        \n",
    "user=User('anne','john')\n",
    "user.describe_user()\n",
    "user.greet_user()\n",
    "\n",
    "    "
   ]
  },
  {
   "cell_type": "code",
   "execution_count": 19,
   "id": "6c2d0bbd",
   "metadata": {},
   "outputs": [
    {
     "name": "stdout",
     "output_type": "stream",
     "text": [
      "0\n",
      "23\n",
      "42\n",
      "54\n"
     ]
    }
   ],
   "source": [
    "class Restaurant:\n",
    "    \"\"\"模拟餐馆的简单尝试\"\"\"\n",
    "    def __init__(self,restaurant_name,cuisine_type):\n",
    "        \"\"\"初始化姓名和类型\"\"\"\n",
    "        self.restaurant_name=restaurant_name\n",
    "        self.cuisine_type=cuisine_type\n",
    "        self.number_served=0\n",
    "    def describe_restaurant(self):\n",
    "        \"\"\"打印前述两项信息\"\"\"\n",
    "        print(self.restaurant_name)\n",
    "        print(self.cuisine_type)\n",
    "    def open_restaurant(self):\n",
    "        print(f\"The {self.restaurant_name} restaurant is open.\")\n",
    "        \n",
    "        \n",
    "    def set_number_served(self,number):\n",
    "        \"\"\"设置新的就餐人数\"\"\"\n",
    "        self.number_served=number\n",
    "    \n",
    "    def  increment_number_served(self,numbers):\n",
    "        \"\"\"人数递增\"\"\"\n",
    "        self.number_served+=numbers\n",
    "        \n",
    "        \n",
    "restaurant=Restaurant('pinyuan','huaiyang')\n",
    "print(restaurant.number_served)\n",
    "\n",
    "restaurant.number_served=23\n",
    "print(restaurant.number_served)\n",
    "\n",
    "restaurant.set_number_served(42)\n",
    "print(restaurant.number_served)\n",
    "\n",
    "restaurant.increment_number_served(12)\n",
    "print(restaurant.number_served)\n",
    "\n",
    "\n",
    "        \n",
    "    \n",
    "        \n",
    "        \n",
    "\n",
    "    "
   ]
  },
  {
   "cell_type": "code",
   "execution_count": 20,
   "id": "df3f52f3",
   "metadata": {},
   "outputs": [
    {
     "name": "stdout",
     "output_type": "stream",
     "text": [
      "0\n",
      "12\n",
      "35\n",
      "0\n"
     ]
    }
   ],
   "source": [
    "class User:\n",
    "    \"\"\"模拟用户\"\"\"\n",
    "    def __init__(self,first_name,last_name):\n",
    "        \"\"\"初始化姓和名\"\"\"  \n",
    "        self.first_name=first_name\n",
    "        self.last_name=last_name\n",
    "        self.login_attempts=0\n",
    "    \n",
    "    def describe_user(self):\n",
    "        \"\"\"打印信息\"\"\"\n",
    "        print(self.first_name)\n",
    "        print(self.last_name)\n",
    "    def greet_user(self):\n",
    "        \"\"\"问候\"\"\"\n",
    "        print(f\"Hi,{self.first_name}{self.last_name}!\")\n",
    "        \n",
    "    def increment_login_attempts(self,attempts):\n",
    "        self.login_attempts+=attempts\n",
    "        \n",
    "    def reset_login_attempts(self):\n",
    "        self.login_attempts=0\n",
    "        \n",
    "user=User('anne','john')\n",
    "print(user.login_attempts)\n",
    "\n",
    "user.increment_login_attempts(12)\n",
    "print(user.login_attempts)\n",
    "\n",
    "user.increment_login_attempts(23)\n",
    "print(user.login_attempts)\n",
    "\n",
    "user.reset_login_attempts()\n",
    "print(user.login_attempts)\n",
    "        "
   ]
  },
  {
   "cell_type": "code",
   "execution_count": 12,
   "id": "57906f8d",
   "metadata": {},
   "outputs": [
    {
     "name": "stdout",
     "output_type": "stream",
     "text": [
      "banana\n",
      "apple\n",
      "lemon\n"
     ]
    }
   ],
   "source": [
    "class Restaurant:\n",
    "    \"\"\"模拟餐馆的简单尝试\"\"\"\n",
    "    def __init__(self,restaurant_name,cuisine_type):\n",
    "        \"\"\"初始化姓名和类型\"\"\"\n",
    "        self.restaurant_name=restaurant_name\n",
    "        self.cuisine_type=cuisine_type\n",
    "    def describe_restaurant(self):\n",
    "        \"\"\"打印前述两项信息\"\"\"\n",
    "        print(self.restaurant_name)\n",
    "        print(self.cuisine_type)\n",
    "    def open_restaurant(self):\n",
    "        print(f\"The {self.restaurant_name} restaurant is open.\")\n",
    "        \n",
    "        \n",
    "        \n",
    "        \n",
    "class IceCreamStand(Restaurant):\n",
    "    \"\"\"模拟冰激凌小店\"\"\"\n",
    "    def __init__(self,restaurant_name,cuisine_type):\n",
    "        \"\"\"先初始化父类属性，再初始化子类属性\"\"\"\n",
    "        super().__init__(restaurant_name,cuisine_type)\n",
    "        self.flavors=[]\n",
    "    def flavors_read(self):\n",
    "        \"\"\"显示冰激凌口味\"\"\"\n",
    "        for flavor in self.flavors:\n",
    "            print(flavor)\n",
    "        \n",
    "my_icecream=IceCreamStand('icy_happiness','dessert')\n",
    "my_icecream.flavors = [\"banana\", \"apple\", \"lemon\"]\n",
    "my_icecream.flavors_read()"
   ]
  },
  {
   "cell_type": "code",
   "execution_count": 14,
   "id": "20fde30a",
   "metadata": {},
   "outputs": [
    {
     "name": "stdout",
     "output_type": "stream",
     "text": [
      "can add post\n",
      "can delete post\n",
      "can ban user\n"
     ]
    }
   ],
   "source": [
    "class User:\n",
    "    \"\"\"模拟用户\"\"\"\n",
    "    def __init__(self,first_name,last_name):\n",
    "        \"\"\"初始化姓和名\"\"\"  \n",
    "        self.first_name=first_name\n",
    "        self.last_name=last_name\n",
    "    \n",
    "    def describe_user(self):\n",
    "        \"\"\"打印信息\"\"\"\n",
    "        print(self.first_name)\n",
    "        print(self.last_name)\n",
    "    def greet_user(self):\n",
    "        \"\"\"问候\"\"\"\n",
    "        print(f\"Hi,{self.first_name}{self.last_name}!\")\n",
    "\n",
    "        \n",
    "class Admin(User):\n",
    "    def __init__(self,first_name,last_name):\n",
    "        \"\"\"先初始化父类姓和名，再初始化子类特有的\"\"\"\n",
    "        super().__init__(first_name,last_name)\n",
    "        self. privileges=[\"can add post\", \"can delete post\", \"can ban user\"]\n",
    "    def  show_privileges(self):\n",
    "        \"\"\"显示管理员的权限\"\"\"\n",
    "        for privilege in self.privileges:\n",
    "            print(privilege)\n",
    "        \n",
    "my_admin=Admin('lianxiang','xiaoxin')\n",
    "my_admin.show_privileges()\n",
    "    "
   ]
  },
  {
   "cell_type": "code",
   "execution_count": 19,
   "id": "e448a74e",
   "metadata": {},
   "outputs": [
    {
     "name": "stdout",
     "output_type": "stream",
     "text": [
      "can add post\n",
      "can delete post\n",
      "can ban user\n"
     ]
    }
   ],
   "source": [
    "class User:\n",
    "    \"\"\"模拟用户\"\"\"\n",
    "    def __init__(self,first_name,last_name):\n",
    "        \"\"\"初始化姓和名\"\"\"  \n",
    "        self.first_name=first_name\n",
    "        self.last_name=last_name\n",
    "\n",
    "class Privileges:\n",
    "    \"\"\"初始化属性\"\"\"\n",
    "    def __init__(self):\n",
    "        self.privileges=[\"can add post\", \"can delete post\", \"can ban user\"]\n",
    "    \n",
    "    def show_privileges(self):\n",
    "        for privilege in self.privileges:\n",
    "            print(privilege) \n",
    "            \n",
    "class Admin(User):\n",
    "    def __init__(self, first_name, last_name):\n",
    "        super().__init__(first_name, last_name)\n",
    "        self.privilege = Privileges()\n",
    "        \n",
    "your_admin=Admin('lianxiang','xiaoxin')\n",
    "your_admin.privilege.show_privileges()"
   ]
  },
  {
   "cell_type": "code",
   "execution_count": 23,
   "id": "cbbadb7d",
   "metadata": {},
   "outputs": [
    {
     "name": "stdout",
     "output_type": "stream",
     "text": [
      "This car can go about 150 miles on a full charge.\n",
      "This car can go about 225 miles on a full charge.\n"
     ]
    }
   ],
   "source": [
    "class Car:\n",
    "    \"\"\"一次模拟汽车的简单尝试\"\"\"\n",
    "    def __init__(self,make,model,year):\n",
    "        \"\"\"初始化描述汽车的属性\"\"\"\n",
    "        self.make=make\n",
    "        self.model=model\n",
    "        self.year=year\n",
    "\n",
    "class Battery:\n",
    "    \"\"\"一次模拟电动汽车电池的简单尝试\"\"\"\n",
    "    def __init__(self, battery_size=40):#这个形参是可选的：如果没有给它提供值，电池容量将被设置为 40\n",
    "        \"\"\"初始化电池的属性\"\"\"\n",
    "        self.battery_size = battery_size\n",
    "        \n",
    "    def describe_battery(self):\n",
    "        \"\"\"打印一条描述电池容量的消息\"\"\"\n",
    "        print(f\"This car has a {self.battery_size}-kWh battery.\")\n",
    "        \n",
    "    def get_range(self):#新增的方法对电池容量进行分析\n",
    "        \"\"\"打印一条消息，指出电池的续航里程\"\"\"\n",
    "        if self.battery_size == 40:\n",
    "            range = 150\n",
    "        elif self.battery_size == 65:\n",
    "            range = 225\n",
    "        print(f\"This car can go about {range} miles on a full charge.\")\n",
    "        \n",
    "    def upgrade_battery(self):\n",
    "        \"\"\"检查电池容量\"\"\"\n",
    "        self.battery_size = 65\n",
    "\n",
    "class ElectricCar(Car):#子类与父类,必须在括号内指定父类的名称\n",
    "    \"\"\"电动汽车的独特之处\"\"\"\n",
    "    def __init__(self, make, model, year):\n",
    "        \"\"\"先初始化父类的属性，再初始化电动车特有属性\"\"\"\n",
    "        super().__init__(make, model, year)\n",
    "        self.battery=Battery()#添加了一个新属性\n",
    "        \n",
    "my_tesla = ElectricCar('tesla', '4a', 2024)\n",
    "my_tesla.battery.get_range()\n",
    "my_tesla.battery.upgrade_battery()\n",
    "my_tesla.battery.get_range()"
   ]
  },
  {
   "cell_type": "code",
   "execution_count": 37,
   "id": "db0f40c6",
   "metadata": {},
   "outputs": [
    {
     "name": "stdout",
     "output_type": "stream",
     "text": [
      "Foodie\n",
      "noodles\n"
     ]
    }
   ],
   "source": [
    "from restaurant import Restaurant\n",
    "her_restaurant=Restaurant('Foodie','noodles')\n",
    "her_restaurant.describe_restaurant()"
   ]
  },
  {
   "cell_type": "code",
   "execution_count": 51,
   "id": "13f4983f",
   "metadata": {},
   "outputs": [
    {
     "ename": "ImportError",
     "evalue": "cannot import name 'Privileges' from 'combine' (C:\\Users\\lenovo\\combine.py)",
     "output_type": "error",
     "traceback": [
      "\u001b[1;31m---------------------------------------------------------------------------\u001b[0m",
      "\u001b[1;31mImportError\u001b[0m                               Traceback (most recent call last)",
      "Cell \u001b[1;32mIn[51], line 1\u001b[0m\n\u001b[1;32m----> 1\u001b[0m \u001b[38;5;28;01mfrom\u001b[39;00m \u001b[38;5;21;01mcombine\u001b[39;00m \u001b[38;5;28;01mimport\u001b[39;00m User,Admin,Privileges\n\u001b[0;32m      2\u001b[0m admin \u001b[38;5;241m=\u001b[39m Admin(\u001b[38;5;124m\"\u001b[39m\u001b[38;5;124mJohn\u001b[39m\u001b[38;5;124m\"\u001b[39m, \u001b[38;5;124m\"\u001b[39m\u001b[38;5;124mSmith\u001b[39m\u001b[38;5;124m\"\u001b[39m)\n\u001b[0;32m      3\u001b[0m admin\u001b[38;5;241m.\u001b[39mprivilege\u001b[38;5;241m.\u001b[39mshow_privileges()\n",
      "\u001b[1;31mImportError\u001b[0m: cannot import name 'Privileges' from 'combine' (C:\\Users\\lenovo\\combine.py)"
     ]
    }
   ],
   "source": [
    "from combine import User,Admin,Privileges\n",
    "admin = Admin(\"John\", \"Smith\")\n",
    "admin.privilege.show_privileges()"
   ]
  },
  {
   "cell_type": "code",
   "execution_count": 56,
   "id": "32466200",
   "metadata": {},
   "outputs": [
    {
     "name": "stdout",
     "output_type": "stream",
     "text": [
      "Throw the dice 10 times.\n",
      "6\n",
      "6\n",
      "6\n",
      "4\n",
      "3\n",
      "6\n",
      "5\n",
      "4\n",
      "1\n",
      "1\n",
      "Throw the dice 10 times.\n",
      "8\n",
      "7\n",
      "1\n",
      "10\n",
      "8\n",
      "2\n",
      "4\n",
      "2\n",
      "4\n",
      "6\n"
     ]
    }
   ],
   "source": [
    "from random import randint\n",
    "class Die:\n",
    "    def __init__(self,sides=6):\n",
    "        self.sides=sides\n",
    "    def roll_die(self):\n",
    "        print(randint(1, self.sides))\n",
    "        \n",
    "die_1=Die()\n",
    "print(\"Throw the dice 10 times.\")\n",
    "for i in range(1,11):\n",
    "    die_1.roll_die()\n",
    "    \n",
    "die_2=Die(10)\n",
    "print(\"Throw the dice 10 times.\")\n",
    "for i in range(1,11):\n",
    "    die_2.roll_die()"
   ]
  },
  {
   "cell_type": "code",
   "execution_count": 58,
   "id": "48ff5979",
   "metadata": {},
   "outputs": [
    {
     "name": "stdout",
     "output_type": "stream",
     "text": [
      "If your number is ['t', 2, 'n', 4], then congrats! you win the lottery\n"
     ]
    }
   ],
   "source": [
    "import random\n",
    " \n",
    "jackpot = list(range(10)) + ['a', 'l', 'o', 't', 'n']\n",
    "winning_number = random.sample(jackpot, k=4)\n",
    "print(f\"If your number is {winning_number}, then congrats! you win the lottery\")"
   ]
  },
  {
   "cell_type": "code",
   "execution_count": null,
   "id": "a5856f54",
   "metadata": {},
   "outputs": [],
   "source": []
  },
  {
   "cell_type": "code",
   "execution_count": null,
   "id": "060bf63d",
   "metadata": {},
   "outputs": [],
   "source": []
  }
 ],
 "metadata": {
  "kernelspec": {
   "display_name": "Python 3 (ipykernel)",
   "language": "python",
   "name": "python3"
  },
  "language_info": {
   "codemirror_mode": {
    "name": "ipython",
    "version": 3
   },
   "file_extension": ".py",
   "mimetype": "text/x-python",
   "name": "python",
   "nbconvert_exporter": "python",
   "pygments_lexer": "ipython3",
   "version": "3.11.3"
  }
 },
 "nbformat": 4,
 "nbformat_minor": 5
}
