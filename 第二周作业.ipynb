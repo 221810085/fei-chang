{
 "cells": [
  {
   "cell_type": "code",
   "execution_count": 57,
   "id": "90513937",
   "metadata": {},
   "outputs": [
    {
     "name": "stdout",
     "output_type": "stream",
     "text": [
      "Hello Python Fuck World\n"
     ]
    }
   ],
   "source": [
    "print(\"Hello Python Fuck World\")"
   ]
  },
  {
   "cell_type": "markdown",
   "id": "aa9e0af8",
   "metadata": {},
   "source": [
    "# 第二章 变量与简单的数据类型"
   ]
  },
  {
   "cell_type": "code",
   "execution_count": 1,
   "id": "478d1b13",
   "metadata": {},
   "outputs": [
    {
     "name": "stdout",
     "output_type": "stream",
     "text": [
      "hello python crash course world\n"
     ]
    }
   ],
   "source": [
    "message=\"hello python crash course world\"\n",
    "print(message)"
   ]
  },
  {
   "cell_type": "code",
   "execution_count": 6,
   "id": "88cda42b",
   "metadata": {},
   "outputs": [
    {
     "name": "stdout",
     "output_type": "stream",
     "text": [
      "hello\n",
      "word\n"
     ]
    }
   ],
   "source": [
    "message=\"\"\"hello\n",
    "word\"\"\"\n",
    "print(message)"
   ]
  },
  {
   "cell_type": "code",
   "execution_count": 26,
   "id": "7faf3b8c",
   "metadata": {},
   "outputs": [
    {
     "name": "stdout",
     "output_type": "stream",
     "text": [
      "Hello You\n"
     ]
    }
   ],
   "source": [
    "message=\"hello you\"\n",
    "message=message.title()\n",
    "print(message)"
   ]
  },
  {
   "cell_type": "code",
   "execution_count": 10,
   "id": "eac01123",
   "metadata": {},
   "outputs": [
    {
     "name": "stdout",
     "output_type": "stream",
     "text": [
      "hello,English Teacher\n"
     ]
    }
   ],
   "source": [
    "first_name=\"english\"\n",
    "last_name=\" teacher\"\n",
    "full_name=f\"{first_name}{last_name}\"\n",
    "print(f\"hello,{full_name.title()}\")"
   ]
  },
  {
   "cell_type": "code",
   "execution_count": 28,
   "id": "997a651c",
   "metadata": {},
   "outputs": [
    {
     "name": "stdout",
     "output_type": "stream",
     "text": [
      "FEI\n"
     ]
    }
   ],
   "source": [
    "message= \"fei\"\n",
    "print(message.upper())"
   ]
  },
  {
   "cell_type": "code",
   "execution_count": 12,
   "id": "aa86d24d",
   "metadata": {},
   "outputs": [
    {
     "name": "stdout",
     "output_type": "stream",
     "text": [
      "Fei\tCha\n",
      "ng\n"
     ]
    }
   ],
   "source": [
    "print(\"Fei\\tCha\\nng\")"
   ]
  },
  {
   "cell_type": "code",
   "execution_count": 23,
   "id": "c3f5fcc9",
   "metadata": {},
   "outputs": [
    {
     "name": "stdout",
     "output_type": "stream",
     "text": [
      "what a WONDERFUL day\n"
     ]
    }
   ],
   "source": [
    "name=\"wonderful\"\n",
    "print(f\"what a {name.upper()} day\")"
   ]
  },
  {
   "cell_type": "code",
   "execution_count": 32,
   "id": "79854d7c",
   "metadata": {},
   "outputs": [
    {
     "name": "stdout",
     "output_type": "stream",
     "text": [
      "www.baidu.com\n"
     ]
    }
   ],
   "source": [
    "name=\"https://www.baidu.com\"\n",
    "name=name.removeprefix(\"https://\")\n",
    "print(name)"
   ]
  },
  {
   "cell_type": "code",
   "execution_count": 55,
   "id": "fa5af57a",
   "metadata": {},
   "outputs": [
    {
     "name": "stdout",
     "output_type": "stream",
     "text": [
      "ohhh!\n"
     ]
    }
   ],
   "source": [
    "#表示惊讶\n",
    "print(f\"o{h*3}!\")"
   ]
  },
  {
   "cell_type": "code",
   "execution_count": 53,
   "id": "51fb544d",
   "metadata": {},
   "outputs": [
    {
     "name": "stdout",
     "output_type": "stream",
     "text": [
      "0 2 0\n"
     ]
    }
   ],
   "source": [
    "a,b,c=0,2,0\n",
    "print(a,b,c)"
   ]
  },
  {
   "cell_type": "code",
   "execution_count": 4,
   "id": "61b373e7",
   "metadata": {},
   "outputs": [
    {
     "name": "stdout",
     "output_type": "stream",
     "text": [
      "ada.lovelace\n"
     ]
    }
   ],
   "source": [
    "name=\"ada.lovelace\"\n",
    "print(name.lower())"
   ]
  },
  {
   "cell_type": "code",
   "execution_count": 14,
   "id": "162d42bb",
   "metadata": {},
   "outputs": [
    {
     "name": "stdout",
     "output_type": "stream",
     "text": [
      "Link:\n",
      "\tbeauty\n"
     ]
    }
   ],
   "source": [
    "print(\"Link:\\n\\tbeauty\")"
   ]
  },
  {
   "cell_type": "code",
   "execution_count": 19,
   "id": "a40345d8",
   "metadata": {},
   "outputs": [
    {
     "name": "stdout",
     "output_type": "stream",
     "text": [
      "thanks\n"
     ]
    }
   ],
   "source": [
    "family=\" thanks \"\n",
    "print(family.strip())"
   ]
  },
  {
   "cell_type": "code",
   "execution_count": 21,
   "id": "2812cf88",
   "metadata": {},
   "outputs": [
    {
     "name": "stdout",
     "output_type": "stream",
     "text": [
      "anyway,thanks\n"
     ]
    }
   ],
   "source": [
    "family=\" thanks\"\n",
    "print(f\"anyway,{family.lstrip()}\")"
   ]
  },
  {
   "cell_type": "code",
   "execution_count": 23,
   "id": "82695e11",
   "metadata": {},
   "outputs": [
    {
     "name": "stdout",
     "output_type": "stream",
     "text": [
      "localhost:8888/notebooks/3.8%E7%BB%83%E4%B9%A0.ipynb\n"
     ]
    }
   ],
   "source": [
    "print(\"http://localhost:8888/notebooks/3.8%E7%BB%83%E4%B9%A0.ipynb\".removeprefix(\"http://\"))"
   ]
  },
  {
   "cell_type": "code",
   "execution_count": 24,
   "id": "aa2c4631",
   "metadata": {},
   "outputs": [
    {
     "name": "stdout",
     "output_type": "stream",
     "text": [
      "Hello Lily, are you happy?\n"
     ]
    }
   ],
   "source": [
    "name=\"Lily\"\n",
    "print(f\"Hello {name}, are you happy?\")"
   ]
  },
  {
   "cell_type": "code",
   "execution_count": 28,
   "id": "ccbb62bc",
   "metadata": {},
   "outputs": [
    {
     "name": "stdout",
     "output_type": "stream",
     "text": [
      "marry\n"
     ]
    }
   ],
   "source": [
    "name=\"Marry\"\n",
    "print(name.lower())"
   ]
  },
  {
   "cell_type": "code",
   "execution_count": 29,
   "id": "f5abe82c",
   "metadata": {},
   "outputs": [
    {
     "name": "stdout",
     "output_type": "stream",
     "text": [
      "Mo Yan once said,\"I am a writer\"\n"
     ]
    }
   ],
   "source": [
    "print('Mo Yan once said,\"I am a writer\"')"
   ]
  },
  {
   "cell_type": "code",
   "execution_count": 31,
   "id": "d2620586",
   "metadata": {},
   "outputs": [
    {
     "name": "stdout",
     "output_type": "stream",
     "text": [
      "Mo Yan once said,\"I am a writer\"\n"
     ]
    }
   ],
   "source": [
    "name=\"Mo Yan\"\n",
    "message=f'{name} once said,\"I am a writer\"'\n",
    "print(message)"
   ]
  },
  {
   "cell_type": "code",
   "execution_count": 34,
   "id": "2999dcb4",
   "metadata": {},
   "outputs": [
    {
     "name": "stdout",
     "output_type": "stream",
     "text": [
      "FeiChang\n"
     ]
    }
   ],
   "source": [
    "print(\"FeiChang \".rstrip())"
   ]
  },
  {
   "cell_type": "code",
   "execution_count": 6,
   "id": "06c52bef",
   "metadata": {},
   "outputs": [
    {
     "name": "stdout",
     "output_type": "stream",
     "text": [
      "python_notes\n"
     ]
    }
   ],
   "source": [
    "filename='python_notes.txt'\n",
    "print(filename.removesuffix(\".txt\"))"
   ]
  },
  {
   "cell_type": "code",
   "execution_count": 2,
   "id": "66d4e152",
   "metadata": {},
   "outputs": [
    {
     "name": "stdout",
     "output_type": "stream",
     "text": [
      "fei\tchang\n"
     ]
    }
   ],
   "source": [
    "print(\"fei\\tchang\")"
   ]
  },
  {
   "cell_type": "code",
   "execution_count": 9,
   "id": "b7c409a3",
   "metadata": {},
   "outputs": [
    {
     "name": "stdout",
     "output_type": "stream",
     "text": [
      "happy all the time\n"
     ]
    }
   ],
   "source": [
    "url=\"https:\\\\happy all the time\"\n",
    "url=url.removeprefix(\"https:\\\\\")\n",
    "print(url)"
   ]
  },
  {
   "cell_type": "code",
   "execution_count": 8,
   "id": "99ee045b",
   "metadata": {},
   "outputs": [
    {
     "name": "stdout",
     "output_type": "stream",
     "text": [
      "Life' hard,let's go\n"
     ]
    }
   ],
   "source": [
    "message='Life\\' hard,let\\'s go'\n",
    "print(message)"
   ]
  },
  {
   "cell_type": "markdown",
   "id": "d1ceba62",
   "metadata": {},
   "source": [
    "## 用斜杠可以避免这个单引号"
   ]
  },
  {
   "cell_type": "code",
   "execution_count": null,
   "id": "260242e0",
   "metadata": {},
   "outputs": [],
   "source": []
  }
 ],
 "metadata": {
  "kernelspec": {
   "display_name": "Python 3 (ipykernel)",
   "language": "python",
   "name": "python3"
  },
  "language_info": {
   "codemirror_mode": {
    "name": "ipython",
    "version": 3
   },
   "file_extension": ".py",
   "mimetype": "text/x-python",
   "name": "python",
   "nbconvert_exporter": "python",
   "pygments_lexer": "ipython3",
   "version": "3.11.3"
  }
 },
 "nbformat": 4,
 "nbformat_minor": 5
}
